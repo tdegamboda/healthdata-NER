{
 "cells": [
  {
   "cell_type": "markdown",
   "metadata": {},
   "source": [
    "# Medical Entity Recognition"
   ]
  },
  {
   "cell_type": "markdown",
   "metadata": {},
   "source": [
    "We will be looking at using multiple entities in our dataset, attempting to improve on the Bidirectional LSTM and further exploration"
   ]
  },
  {
   "cell_type": "markdown",
   "metadata": {},
   "source": [
    "## Import Libraries"
   ]
  },
  {
   "cell_type": "code",
   "execution_count": 2,
   "metadata": {},
   "outputs": [
    {
     "name": "stderr",
     "output_type": "stream",
     "text": [
      "Using TensorFlow backend.\n"
     ]
    }
   ],
   "source": [
    "import pandas as pd\n",
    "import numpy as np\n",
    "import matplotlib.pyplot as plt\n",
    "import seaborn as sns\n",
    "\n",
    "from sklearn.model_selection import train_test_split\n",
    "\n",
    "import tensorflow\n",
    "\n",
    "from keras.preprocessing.sequence import pad_sequences\n",
    "from keras.utils import to_categorical\n",
    "\n",
    "from tensorflow.keras import Sequential, Model, Input\n",
    "from tensorflow.keras.layers import LSTM, Embedding, Dense, TimeDistributed, Dropout, Bidirectional\n",
    "from tensorflow.keras.utils import plot_model\n",
    "from tensorflow.keras.callbacks import ModelCheckpoint, ReduceLROnPlateau, EarlyStopping\n",
    "from tensorflow.keras.optimizers import Adam, SGD"
   ]
  },
  {
   "cell_type": "markdown",
   "metadata": {},
   "source": [
    "## Load and Parse Data"
   ]
  },
  {
   "cell_type": "markdown",
   "metadata": {},
   "source": [
    "Dataset is slightly more difficult to parse when loaded using pandas hence will use pandas results for convenience when building custom parser. Also use pandas df to build relevant dictionaries for convenience."
   ]
  },
  {
   "cell_type": "code",
   "execution_count": 3,
   "metadata": {},
   "outputs": [],
   "source": [
    "train_dev_data = pd.read_csv(\"NERdata/NCBI-disease/train_dev.tsv\", sep = \"\\t\", header = None)"
   ]
  },
  {
   "cell_type": "code",
   "execution_count": 4,
   "metadata": {},
   "outputs": [
    {
     "data": {
      "text/html": [
       "<div>\n",
       "<style scoped>\n",
       "    .dataframe tbody tr th:only-of-type {\n",
       "        vertical-align: middle;\n",
       "    }\n",
       "\n",
       "    .dataframe tbody tr th {\n",
       "        vertical-align: top;\n",
       "    }\n",
       "\n",
       "    .dataframe thead th {\n",
       "        text-align: right;\n",
       "    }\n",
       "</style>\n",
       "<table border=\"1\" class=\"dataframe\">\n",
       "  <thead>\n",
       "    <tr style=\"text-align: right;\">\n",
       "      <th></th>\n",
       "      <th>0</th>\n",
       "      <th>1</th>\n",
       "    </tr>\n",
       "  </thead>\n",
       "  <tbody>\n",
       "    <tr>\n",
       "      <th>0</th>\n",
       "      <td>Identification</td>\n",
       "      <td>O</td>\n",
       "    </tr>\n",
       "    <tr>\n",
       "      <th>1</th>\n",
       "      <td>of</td>\n",
       "      <td>O</td>\n",
       "    </tr>\n",
       "    <tr>\n",
       "      <th>2</th>\n",
       "      <td>APC2</td>\n",
       "      <td>O</td>\n",
       "    </tr>\n",
       "    <tr>\n",
       "      <th>3</th>\n",
       "      <td>,</td>\n",
       "      <td>O</td>\n",
       "    </tr>\n",
       "    <tr>\n",
       "      <th>4</th>\n",
       "      <td>a</td>\n",
       "      <td>O</td>\n",
       "    </tr>\n",
       "    <tr>\n",
       "      <th>5</th>\n",
       "      <td>homologue</td>\n",
       "      <td>O</td>\n",
       "    </tr>\n",
       "    <tr>\n",
       "      <th>6</th>\n",
       "      <td>of</td>\n",
       "      <td>O</td>\n",
       "    </tr>\n",
       "    <tr>\n",
       "      <th>7</th>\n",
       "      <td>the</td>\n",
       "      <td>O</td>\n",
       "    </tr>\n",
       "    <tr>\n",
       "      <th>8</th>\n",
       "      <td>adenomatous</td>\n",
       "      <td>B</td>\n",
       "    </tr>\n",
       "    <tr>\n",
       "      <th>9</th>\n",
       "      <td>polyposis</td>\n",
       "      <td>I</td>\n",
       "    </tr>\n",
       "    <tr>\n",
       "      <th>10</th>\n",
       "      <td>coli</td>\n",
       "      <td>I</td>\n",
       "    </tr>\n",
       "    <tr>\n",
       "      <th>11</th>\n",
       "      <td>tumour</td>\n",
       "      <td>I</td>\n",
       "    </tr>\n",
       "    <tr>\n",
       "      <th>12</th>\n",
       "      <td>suppressor</td>\n",
       "      <td>O</td>\n",
       "    </tr>\n",
       "    <tr>\n",
       "      <th>13</th>\n",
       "      <td>.</td>\n",
       "      <td>O</td>\n",
       "    </tr>\n",
       "    <tr>\n",
       "      <th>14</th>\n",
       "      <td>The</td>\n",
       "      <td>O</td>\n",
       "    </tr>\n",
       "    <tr>\n",
       "      <th>15</th>\n",
       "      <td>adenomatous</td>\n",
       "      <td>B</td>\n",
       "    </tr>\n",
       "    <tr>\n",
       "      <th>16</th>\n",
       "      <td>polyposis</td>\n",
       "      <td>I</td>\n",
       "    </tr>\n",
       "    <tr>\n",
       "      <th>17</th>\n",
       "      <td>coli</td>\n",
       "      <td>I</td>\n",
       "    </tr>\n",
       "    <tr>\n",
       "      <th>18</th>\n",
       "      <td>(</td>\n",
       "      <td>I</td>\n",
       "    </tr>\n",
       "    <tr>\n",
       "      <th>19</th>\n",
       "      <td>APC</td>\n",
       "      <td>I</td>\n",
       "    </tr>\n",
       "  </tbody>\n",
       "</table>\n",
       "</div>"
      ],
      "text/plain": [
       "                 0  1\n",
       "0   Identification  O\n",
       "1               of  O\n",
       "2             APC2  O\n",
       "3                ,  O\n",
       "4                a  O\n",
       "5        homologue  O\n",
       "6               of  O\n",
       "7              the  O\n",
       "8      adenomatous  B\n",
       "9        polyposis  I\n",
       "10            coli  I\n",
       "11          tumour  I\n",
       "12      suppressor  O\n",
       "13               .  O\n",
       "14             The  O\n",
       "15     adenomatous  B\n",
       "16       polyposis  I\n",
       "17            coli  I\n",
       "18               (  I\n",
       "19             APC  I"
      ]
     },
     "execution_count": 4,
     "metadata": {},
     "output_type": "execute_result"
    }
   ],
   "source": [
    "train_dev_data.head(20)"
   ]
  },
  {
   "cell_type": "code",
   "execution_count": 5,
   "metadata": {},
   "outputs": [],
   "source": [
    "def load_data(file_path):\n",
    "    file = open(file_path, \"r\")\n",
    "    data, entities, sentence, unique_labels = [], [], [], []\n",
    "    for line in file:\n",
    "        line = line.strip(\"\\n\").split(\"\\t\")\n",
    "        \n",
    "        if len(line) > 1:\n",
    "            word = line[0]\n",
    "            label = line[1]\n",
    "            \n",
    "            sentence.append(word)\n",
    "            entities.append(label)\n",
    "            \n",
    "            if label not in unique_labels:\n",
    "                unique_labels.append(label)\n",
    "            \n",
    "        elif len(entities) > 0:\n",
    "            sentence = \" \".join(sentence)\n",
    "            data.append({\"sentence\" : sentence, \"entities\" : entities})\n",
    "            entities, sentence = [], []\n",
    "            \n",
    "    file.close()\n",
    "    return data, unique_labels"
   ]
  },
  {
   "cell_type": "code",
   "execution_count": 6,
   "metadata": {},
   "outputs": [],
   "source": [
    "filepath = \"NERdata/NCBI-disease/train_dev.tsv\"\n",
    "\n",
    "data, unq_labels = load_data(filepath)"
   ]
  },
  {
   "cell_type": "code",
   "execution_count": 7,
   "metadata": {},
   "outputs": [
    {
     "data": {
      "text/plain": [
       "{'sentence': 'Identification of APC2 , a homologue of the adenomatous polyposis coli tumour suppressor .',\n",
       " 'entities': ['O',\n",
       "  'O',\n",
       "  'O',\n",
       "  'O',\n",
       "  'O',\n",
       "  'O',\n",
       "  'O',\n",
       "  'O',\n",
       "  'B',\n",
       "  'I',\n",
       "  'I',\n",
       "  'I',\n",
       "  'O',\n",
       "  'O']}"
      ]
     },
     "execution_count": 7,
     "metadata": {},
     "output_type": "execute_result"
    }
   ],
   "source": [
    "data[0]"
   ]
  },
  {
   "cell_type": "code",
   "execution_count": 7,
   "metadata": {},
   "outputs": [
    {
     "data": {
      "text/plain": [
       "(6347, 3)"
      ]
     },
     "execution_count": 7,
     "metadata": {},
     "output_type": "execute_result"
    }
   ],
   "source": [
    "#Check how many datapoints and unique labels we have acquired from the dataset\n",
    "\n",
    "len(data), len(unq_labels)"
   ]
  },
  {
   "cell_type": "markdown",
   "metadata": {},
   "source": [
    "## Feature Engineering"
   ]
  },
  {
   "cell_type": "code",
   "execution_count": 8,
   "metadata": {},
   "outputs": [],
   "source": [
    "#Now we will make reference dictionaries for the text elements\n",
    "\n",
    "def get_mappings(data, word_ent):\n",
    "\n",
    "    if word_ent == \"word\":\n",
    "        vocab = list(set([i for x in data for i in x['sentence'].split()]))\n",
    "    elif word_ent == \"ent\":\n",
    "        vocab = list(set([i for x in data for i in x['entities']]))\n",
    "    \n",
    "    idx2tok = {idx:tok for  idx, tok in enumerate(vocab)}\n",
    "    tok2idx = {tok:idx for  idx, tok in enumerate(vocab)}\n",
    "    \n",
    "    return tok2idx, idx2tok\n",
    "\n",
    "\n",
    "word2idx, idx2word = get_mappings(data, \"word\")\n",
    "tag2idx, idx2tag = get_mappings(data, \"ent\")\n",
    "\n",
    "n_words = len(word2idx)"
   ]
  },
  {
   "cell_type": "code",
   "execution_count": 9,
   "metadata": {},
   "outputs": [],
   "source": [
    "# We will add a PAD token to consider padding during training\n",
    "\n",
    "word2idx[\"PAD\"] = n_words\n",
    "idx2word[n_words] = \"PAD\""
   ]
  },
  {
   "cell_type": "code",
   "execution_count": 10,
   "metadata": {},
   "outputs": [
    {
     "name": "stdout",
     "output_type": "stream",
     "text": [
      "There are 10057 unique words/elements in the corpus being considered\n"
     ]
    }
   ],
   "source": [
    "n_words = len(word2idx)\n",
    "\n",
    "print(\"There are {} unique words/elements in the corpus being considered\".format(n_words))"
   ]
  },
  {
   "cell_type": "markdown",
   "metadata": {},
   "source": [
    "For convenience let us create a Pandas df summarising all the reelvant data to this point"
   ]
  },
  {
   "cell_type": "code",
   "execution_count": 11,
   "metadata": {},
   "outputs": [],
   "source": [
    "columns = [\"Sentence\", \"Labels\", \"Word Tokens\", \"Label Tokens\"]\n",
    "\n",
    "data_df = []\n",
    "for i in range(len(data)):\n",
    "    #We want data in the form : [Sentence, Labels, Words Tokens, Label Tokens]\n",
    "    sentence = data[i]['sentence']\n",
    "    labels = data[i]['entities']\n",
    "    words = sentence.split()\n",
    "    word_tkns = [word2idx.get(i) for i in words]\n",
    "    label_tkns = [tag2idx.get(i) for i in labels]\n",
    "    \n",
    "    data_df.append([sentence, labels, word_tkns, label_tkns])\n",
    "    \n",
    "data_df = pd.DataFrame(data_df, columns = columns)"
   ]
  },
  {
   "cell_type": "code",
   "execution_count": 12,
   "metadata": {},
   "outputs": [
    {
     "data": {
      "text/html": [
       "<div>\n",
       "<style scoped>\n",
       "    .dataframe tbody tr th:only-of-type {\n",
       "        vertical-align: middle;\n",
       "    }\n",
       "\n",
       "    .dataframe tbody tr th {\n",
       "        vertical-align: top;\n",
       "    }\n",
       "\n",
       "    .dataframe thead th {\n",
       "        text-align: right;\n",
       "    }\n",
       "</style>\n",
       "<table border=\"1\" class=\"dataframe\">\n",
       "  <thead>\n",
       "    <tr style=\"text-align: right;\">\n",
       "      <th></th>\n",
       "      <th>Sentence</th>\n",
       "      <th>Labels</th>\n",
       "      <th>Word Tokens</th>\n",
       "      <th>Label Tokens</th>\n",
       "    </tr>\n",
       "  </thead>\n",
       "  <tbody>\n",
       "    <tr>\n",
       "      <th>0</th>\n",
       "      <td>Identification of APC2 , a homologue of the ad...</td>\n",
       "      <td>[O, O, O, O, O, O, O, O, B, I, I, I, O, O]</td>\n",
       "      <td>[2185, 9830, 7251, 5779, 1606, 2140, 9830, 875...</td>\n",
       "      <td>[1, 1, 1, 1, 1, 1, 1, 1, 0, 2, 2, 2, 1, 1]</td>\n",
       "    </tr>\n",
       "    <tr>\n",
       "      <th>1</th>\n",
       "      <td>The adenomatous polyposis coli ( APC ) tumour ...</td>\n",
       "      <td>[O, B, I, I, I, I, I, I, O, O, O, O, O, O, O, ...</td>\n",
       "      <td>[7515, 7130, 16, 3834, 524, 9376, 621, 1337, 6...</td>\n",
       "      <td>[1, 0, 2, 2, 2, 2, 2, 2, 1, 1, 1, 1, 1, 1, 1, ...</td>\n",
       "    </tr>\n",
       "    <tr>\n",
       "      <th>2</th>\n",
       "      <td>Complex formation induces the rapid degradatio...</td>\n",
       "      <td>[O, O, O, O, O, O, O, O, O]</td>\n",
       "      <td>[2905, 6673, 8949, 8758, 6680, 3297, 9830, 846...</td>\n",
       "      <td>[1, 1, 1, 1, 1, 1, 1, 1, 1]</td>\n",
       "    </tr>\n",
       "    <tr>\n",
       "      <th>3</th>\n",
       "      <td>In colon carcinoma cells , loss of APC leads t...</td>\n",
       "      <td>[O, B, I, O, O, O, O, O, O, O, O, O, O, O, O, ...</td>\n",
       "      <td>[2474, 3352, 7587, 8128, 5779, 4597, 9830, 937...</td>\n",
       "      <td>[1, 0, 2, 1, 1, 1, 1, 1, 1, 1, 1, 1, 1, 1, 1, ...</td>\n",
       "    </tr>\n",
       "    <tr>\n",
       "      <th>4</th>\n",
       "      <td>Here , we report the identification and genomi...</td>\n",
       "      <td>[O, O, O, O, O, O, O, O, O, O, O, O, O]</td>\n",
       "      <td>[4869, 5779, 2266, 2086, 8758, 315, 72, 7803, ...</td>\n",
       "      <td>[1, 1, 1, 1, 1, 1, 1, 1, 1, 1, 1, 1, 1]</td>\n",
       "    </tr>\n",
       "  </tbody>\n",
       "</table>\n",
       "</div>"
      ],
      "text/plain": [
       "                                            Sentence  \\\n",
       "0  Identification of APC2 , a homologue of the ad...   \n",
       "1  The adenomatous polyposis coli ( APC ) tumour ...   \n",
       "2  Complex formation induces the rapid degradatio...   \n",
       "3  In colon carcinoma cells , loss of APC leads t...   \n",
       "4  Here , we report the identification and genomi...   \n",
       "\n",
       "                                              Labels  \\\n",
       "0         [O, O, O, O, O, O, O, O, B, I, I, I, O, O]   \n",
       "1  [O, B, I, I, I, I, I, I, O, O, O, O, O, O, O, ...   \n",
       "2                        [O, O, O, O, O, O, O, O, O]   \n",
       "3  [O, B, I, O, O, O, O, O, O, O, O, O, O, O, O, ...   \n",
       "4            [O, O, O, O, O, O, O, O, O, O, O, O, O]   \n",
       "\n",
       "                                         Word Tokens  \\\n",
       "0  [2185, 9830, 7251, 5779, 1606, 2140, 9830, 875...   \n",
       "1  [7515, 7130, 16, 3834, 524, 9376, 621, 1337, 6...   \n",
       "2  [2905, 6673, 8949, 8758, 6680, 3297, 9830, 846...   \n",
       "3  [2474, 3352, 7587, 8128, 5779, 4597, 9830, 937...   \n",
       "4  [4869, 5779, 2266, 2086, 8758, 315, 72, 7803, ...   \n",
       "\n",
       "                                        Label Tokens  \n",
       "0         [1, 1, 1, 1, 1, 1, 1, 1, 0, 2, 2, 2, 1, 1]  \n",
       "1  [1, 0, 2, 2, 2, 2, 2, 2, 1, 1, 1, 1, 1, 1, 1, ...  \n",
       "2                        [1, 1, 1, 1, 1, 1, 1, 1, 1]  \n",
       "3  [1, 0, 2, 1, 1, 1, 1, 1, 1, 1, 1, 1, 1, 1, 1, ...  \n",
       "4            [1, 1, 1, 1, 1, 1, 1, 1, 1, 1, 1, 1, 1]  "
      ]
     },
     "execution_count": 12,
     "metadata": {},
     "output_type": "execute_result"
    }
   ],
   "source": [
    "data_df.head()"
   ]
  },
  {
   "cell_type": "code",
   "execution_count": 13,
   "metadata": {},
   "outputs": [],
   "source": [
    "del train_dev_data, data"
   ]
  },
  {
   "cell_type": "markdown",
   "metadata": {},
   "source": [
    "Let us look at the sentence lengths and find an appropriate padding length"
   ]
  },
  {
   "cell_type": "code",
   "execution_count": 14,
   "metadata": {},
   "outputs": [
    {
     "data": {
      "image/png": "[encoded data removed]",
      "text/plain": [
       "<Figure size 432x288 with 1 Axes>"
      ]
     },
     "metadata": {
      "needs_background": "light"
     },
     "output_type": "display_data"
    },
    {
     "data": {
      "text/plain": [
       "count    6347.000000\n",
       "mean       25.156767\n",
       "std        12.523920\n",
       "min         2.000000\n",
       "25%        16.000000\n",
       "50%        23.000000\n",
       "75%        32.000000\n",
       "max       123.000000\n",
       "Name: Word Tokens, dtype: float64"
      ]
     },
     "execution_count": 14,
     "metadata": {},
     "output_type": "execute_result"
    }
   ],
   "source": [
    "lengths = data_df['Word Tokens'].map(len)\n",
    "\n",
    "lengths.hist()\n",
    "plt.show()\n",
    "\n",
    "lengths.describe()"
   ]
  },
  {
   "cell_type": "code",
   "execution_count": 15,
   "metadata": {},
   "outputs": [
    {
     "data": {
      "text/plain": [
       "'PAD'"
      ]
     },
     "execution_count": 15,
     "metadata": {},
     "output_type": "execute_result"
    }
   ],
   "source": [
    "idx2word[n_words-1]"
   ]
  },
  {
   "cell_type": "code",
   "execution_count": 16,
   "metadata": {},
   "outputs": [],
   "source": [
    "MAX_PAD = 50\n",
    "\n",
    "padded_sentences = pad_sequences(data_df[\"Word Tokens\"], maxlen=MAX_PAD, dtype='int32', padding='post', truncating='post', value= n_words - 1)\n",
    "padded_labels = pad_sequences(data_df[\"Label Tokens\"], maxlen = MAX_PAD, dtype='int32', padding='post', truncating='post', value= tag2idx[\"O\"])\n",
    "padded_labels = np.array([to_categorical(i, num_classes = len(tag2idx)) for i in padded_labels])\n",
    "\n",
    "no_samples = np.shape(padded_sentences)[0]"
   ]
  },
  {
   "cell_type": "code",
   "execution_count": 17,
   "metadata": {},
   "outputs": [
    {
     "data": {
      "text/plain": [
       "array([[0., 1., 0.],\n",
       "       [0., 1., 0.],\n",
       "       [0., 1., 0.],\n",
       "       [0., 1., 0.],\n",
       "       [0., 1., 0.],\n",
       "       [0., 1., 0.],\n",
       "       [0., 1., 0.],\n",
       "       [0., 1., 0.],\n",
       "       [0., 1., 0.],\n",
       "       [1., 0., 0.],\n",
       "       [0., 1., 0.],\n",
       "       [0., 1., 0.],\n",
       "       [0., 1., 0.],\n",
       "       [0., 1., 0.],\n",
       "       [0., 1., 0.],\n",
       "       [0., 1., 0.],\n",
       "       [0., 1., 0.],\n",
       "       [0., 1., 0.],\n",
       "       [0., 1., 0.],\n",
       "       [0., 1., 0.],\n",
       "       [0., 1., 0.],\n",
       "       [0., 1., 0.],\n",
       "       [1., 0., 0.],\n",
       "       [0., 0., 1.],\n",
       "       [0., 1., 0.],\n",
       "       [0., 1., 0.],\n",
       "       [0., 1., 0.],\n",
       "       [0., 1., 0.],\n",
       "       [0., 1., 0.],\n",
       "       [0., 1., 0.],\n",
       "       [0., 1., 0.],\n",
       "       [0., 1., 0.],\n",
       "       [0., 1., 0.],\n",
       "       [0., 1., 0.],\n",
       "       [0., 1., 0.],\n",
       "       [0., 1., 0.],\n",
       "       [0., 1., 0.],\n",
       "       [0., 1., 0.],\n",
       "       [0., 1., 0.],\n",
       "       [0., 1., 0.],\n",
       "       [0., 1., 0.],\n",
       "       [0., 1., 0.],\n",
       "       [0., 1., 0.],\n",
       "       [0., 1., 0.],\n",
       "       [0., 1., 0.],\n",
       "       [0., 1., 0.],\n",
       "       [0., 1., 0.],\n",
       "       [0., 1., 0.],\n",
       "       [0., 1., 0.],\n",
       "       [0., 1., 0.]], dtype=float32)"
      ]
     },
     "execution_count": 17,
     "metadata": {},
     "output_type": "execute_result"
    }
   ],
   "source": [
    "padded_labels[10]"
   ]
  },
  {
   "cell_type": "code",
   "execution_count": 18,
   "metadata": {},
   "outputs": [
    {
     "data": {
      "text/plain": [
       "['A',\n",
       " 'common',\n",
       " 'MSH2',\n",
       " 'mutation',\n",
       " 'in',\n",
       " 'English',\n",
       " 'and',\n",
       " 'North',\n",
       " 'American',\n",
       " 'HNPCC',\n",
       " 'families',\n",
       " ':',\n",
       " 'origin',\n",
       " ',',\n",
       " 'phenotypic',\n",
       " 'expression',\n",
       " ',',\n",
       " 'and',\n",
       " 'sex',\n",
       " 'specific',\n",
       " 'differences',\n",
       " 'in',\n",
       " 'colorectal',\n",
       " 'cancer',\n",
       " '.',\n",
       " 'PAD',\n",
       " 'PAD',\n",
       " 'PAD',\n",
       " 'PAD',\n",
       " 'PAD',\n",
       " 'PAD',\n",
       " 'PAD',\n",
       " 'PAD',\n",
       " 'PAD',\n",
       " 'PAD',\n",
       " 'PAD',\n",
       " 'PAD',\n",
       " 'PAD',\n",
       " 'PAD',\n",
       " 'PAD',\n",
       " 'PAD',\n",
       " 'PAD',\n",
       " 'PAD',\n",
       " 'PAD',\n",
       " 'PAD',\n",
       " 'PAD',\n",
       " 'PAD',\n",
       " 'PAD',\n",
       " 'PAD',\n",
       " 'PAD']"
      ]
     },
     "execution_count": 18,
     "metadata": {},
     "output_type": "execute_result"
    }
   ],
   "source": [
    "[idx2word[i] for i in padded_sentences[10]]"
   ]
  },
  {
   "cell_type": "code",
   "execution_count": 19,
   "metadata": {},
   "outputs": [],
   "source": [
    "idx = list(range(no_samples))\n",
    "\n",
    "train_idx, val_test_idx = train_test_split(idx, test_size = 0.6, shuffle = True, random_state = 2021)\n",
    "val_idx, test_idx = train_test_split(val_test_idx, test_size = 0.5)\n",
    "\n",
    "train_sent, train_labels = padded_sentences[train_idx], padded_labels[train_idx]\n",
    "val_sent, val_labels = padded_sentences[val_idx], padded_labels[val_idx]\n",
    "test_sent, test_labels = padded_sentences[test_idx], padded_labels[test_idx]"
   ]
  },
  {
   "cell_type": "markdown",
   "metadata": {},
   "source": [
    "## Build Model"
   ]
  },
  {
   "cell_type": "code",
   "execution_count": 24,
   "metadata": {},
   "outputs": [],
   "source": [
    "def get_model(vocab_size, lr = 0.001):\n",
    "    EMB_DIM = 64\n",
    "\n",
    "    inputs = Input(shape = (50,))\n",
    "\n",
    "    emb = Embedding(input_dim=vocab_size + 1, output_dim=EMB_DIM, trainable = True, name = \"embed\")\n",
    "    lstm = Bidirectional(LSTM(units=EMB_DIM, return_sequences=True, dropout=0.2), merge_mode = 'concat', name = \"bilstm\")\n",
    "    tdd = TimeDistributed(Dense(3, activation=\"softmax\"), name = \"tdd\")\n",
    "    \n",
    "    x = emb(inputs)\n",
    "    x = lstm(x)\n",
    "    output = tdd(x)\n",
    "\n",
    "    model = Model(inputs, output)\n",
    "\n",
    "    model.compile(loss='categorical_crossentropy', optimizer=Adam(lr=lr, beta_1=0.9, beta_2=0.999), metrics=['accuracy'])\n",
    "    model.summary()\n",
    "    \n",
    "    return model"
   ]
  },
  {
   "cell_type": "code",
   "execution_count": 37,
   "metadata": {},
   "outputs": [
    {
     "name": "stdout",
     "output_type": "stream",
     "text": [
      "Model: \"model_4\"\n",
      "_________________________________________________________________\n",
      "Layer (type)                 Output Shape              Param #   \n",
      "=================================================================\n",
      "input_5 (InputLayer)         [(None, 50)]              0         \n",
      "_________________________________________________________________\n",
      "embed (Embedding)            (None, 50, 64)            643712    \n",
      "_________________________________________________________________\n",
      "bilstm (Bidirectional)       (None, 50, 128)           66048     \n",
      "_________________________________________________________________\n",
      "tdd (TimeDistributed)        (None, 50, 3)             387       \n",
      "=================================================================\n",
      "Total params: 710,147\n",
      "Trainable params: 710,147\n",
      "Non-trainable params: 0\n",
      "_________________________________________________________________\n"
     ]
    }
   ],
   "source": [
    "model = get_model(n_words, lr = 0.0005)"
   ]
  },
  {
   "cell_type": "code",
   "execution_count": 32,
   "metadata": {
    "scrolled": true
   },
   "outputs": [
    {
     "name": "stdout",
     "output_type": "stream",
     "text": [
      "Train on 2538 samples, validate on 1904 samples\n",
      "Epoch 1/100\n",
      "2538/2538 [==============================] - 6s 2ms/sample - loss: 0.6407 - accuracy: 0.9249 - val_loss: 0.2176 - val_accuracy: 0.9593\n",
      "Epoch 2/100\n",
      "2538/2538 [==============================] - 2s 973us/sample - loss: 0.1898 - accuracy: 0.9584 - val_loss: 0.1738 - val_accuracy: 0.9593\n",
      "Epoch 3/100\n",
      "2538/2538 [==============================] - 2s 972us/sample - loss: 0.1688 - accuracy: 0.9584 - val_loss: 0.1619 - val_accuracy: 0.9593\n",
      "Epoch 4/100\n",
      "2538/2538 [==============================] - 3s 997us/sample - loss: 0.1559 - accuracy: 0.9584 - val_loss: 0.1510 - val_accuracy: 0.9593\n",
      "Epoch 5/100\n",
      "2538/2538 [==============================] - 2s 977us/sample - loss: 0.1419 - accuracy: 0.9585 - val_loss: 0.1378 - val_accuracy: 0.9593\n",
      "Epoch 6/100\n",
      "2538/2538 [==============================] - 3s 1ms/sample - loss: 0.1251 - accuracy: 0.9586 - val_loss: 0.1202 - val_accuracy: 0.9598\n",
      "Epoch 7/100\n",
      "2538/2538 [==============================] - 3s 1ms/sample - loss: 0.1045 - accuracy: 0.9617 - val_loss: 0.1011 - val_accuracy: 0.9643\n",
      "Epoch 8/100\n",
      "2538/2538 [==============================] - 3s 1ms/sample - loss: 0.0849 - accuracy: 0.9682 - val_loss: 0.0860 - val_accuracy: 0.9698\n",
      "Epoch 9/100\n",
      "2538/2538 [==============================] - 3s 1ms/sample - loss: 0.0701 - accuracy: 0.9726 - val_loss: 0.0771 - val_accuracy: 0.9729\n",
      "Epoch 10/100\n",
      "2538/2538 [==============================] - 3s 1ms/sample - loss: 0.0599 - accuracy: 0.9765 - val_loss: 0.0715 - val_accuracy: 0.9746\n",
      "Epoch 11/100\n",
      "2538/2538 [==============================] - 3s 1ms/sample - loss: 0.0522 - accuracy: 0.9798 - val_loss: 0.0714 - val_accuracy: 0.9758\n",
      "Epoch 12/100\n",
      "2538/2538 [==============================] - 3s 1ms/sample - loss: 0.0474 - accuracy: 0.9822 - val_loss: 0.0660 - val_accuracy: 0.9775\n",
      "Epoch 13/100\n",
      "2538/2538 [==============================] - 3s 1ms/sample - loss: 0.0419 - accuracy: 0.9843 - val_loss: 0.0675 - val_accuracy: 0.9779\n",
      "Epoch 14/100\n",
      "2538/2538 [==============================] - 3s 1ms/sample - loss: 0.0379 - accuracy: 0.9862 - val_loss: 0.0635 - val_accuracy: 0.9795\n",
      "Epoch 15/100\n",
      "2538/2538 [==============================] - 3s 1ms/sample - loss: 0.0347 - accuracy: 0.9872 - val_loss: 0.0696 - val_accuracy: 0.9787\n",
      "Epoch 16/100\n",
      "2538/2538 [==============================] - 3s 1ms/sample - loss: 0.0308 - accuracy: 0.9886 - val_loss: 0.0659 - val_accuracy: 0.9801\n",
      "Epoch 17/100\n",
      "2538/2538 [==============================] - 3s 1ms/sample - loss: 0.0274 - accuracy: 0.9900 - val_loss: 0.0641 - val_accuracy: 0.9808\n",
      "Epoch 18/100\n",
      "2538/2538 [==============================] - 3s 1ms/sample - loss: 0.0247 - accuracy: 0.9911 - val_loss: 0.0657 - val_accuracy: 0.9811\n",
      "Epoch 19/100\n",
      "2538/2538 [==============================] - 3s 1ms/sample - loss: 0.0224 - accuracy: 0.9920 - val_loss: 0.0647 - val_accuracy: 0.9819\n",
      "Epoch 20/100\n",
      "2538/2538 [==============================] - 3s 985us/sample - loss: 0.0201 - accuracy: 0.9931 - val_loss: 0.0689 - val_accuracy: 0.9821\n",
      "Epoch 21/100\n",
      "2538/2538 [==============================] - 3s 1ms/sample - loss: 0.0179 - accuracy: 0.9939 - val_loss: 0.0697 - val_accuracy: 0.9822\n",
      "Epoch 22/100\n",
      "2538/2538 [==============================] - 3s 1ms/sample - loss: 0.0163 - accuracy: 0.9948 - val_loss: 0.0660 - val_accuracy: 0.9830\n",
      "Epoch 23/100\n",
      "2538/2538 [==============================] - 3s 1ms/sample - loss: 0.0149 - accuracy: 0.9954 - val_loss: 0.0757 - val_accuracy: 0.9824\n",
      "Epoch 24/100\n",
      "2538/2538 [==============================] - 3s 1ms/sample - loss: 0.0136 - accuracy: 0.9961 - val_loss: 0.0708 - val_accuracy: 0.9832\n",
      "Epoch 25/100\n",
      "2538/2538 [==============================] - 3s 1ms/sample - loss: 0.0123 - accuracy: 0.9967 - val_loss: 0.0745 - val_accuracy: 0.9832\n",
      "Epoch 26/100\n",
      "2538/2538 [==============================] - 3s 1ms/sample - loss: 0.0116 - accuracy: 0.9969 - val_loss: 0.0770 - val_accuracy: 0.9833\n",
      "Epoch 27/100\n",
      "2538/2538 [==============================] - 3s 1ms/sample - loss: 0.0104 - accuracy: 0.9973 - val_loss: 0.0769 - val_accuracy: 0.9833\n",
      "Epoch 28/100\n",
      "2538/2538 [==============================] - 3s 1ms/sample - loss: 0.0097 - accuracy: 0.9975 - val_loss: 0.0795 - val_accuracy: 0.9829\n",
      "Epoch 29/100\n",
      "2538/2538 [==============================] - 3s 1ms/sample - loss: 0.0087 - accuracy: 0.9979 - val_loss: 0.0753 - val_accuracy: 0.9834\n",
      "Epoch 30/100\n",
      "2538/2538 [==============================] - 3s 1ms/sample - loss: 0.0083 - accuracy: 0.9980 - val_loss: 0.0755 - val_accuracy: 0.9834\n",
      "Epoch 31/100\n",
      "2538/2538 [==============================] - 3s 1ms/sample - loss: 0.0074 - accuracy: 0.9982 - val_loss: 0.0790 - val_accuracy: 0.9837\n",
      "Epoch 32/100\n",
      "2538/2538 [==============================] - 3s 1ms/sample - loss: 0.0068 - accuracy: 0.9983 - val_loss: 0.0820 - val_accuracy: 0.9836\n",
      "Epoch 33/100\n",
      "2538/2538 [==============================] - 3s 1ms/sample - loss: 0.0062 - accuracy: 0.9986 - val_loss: 0.0849 - val_accuracy: 0.9833\n",
      "Epoch 34/100\n",
      "2538/2538 [==============================] - 3s 1ms/sample - loss: 0.0061 - accuracy: 0.9987 - val_loss: 0.0789 - val_accuracy: 0.9834\n",
      "Epoch 35/100\n",
      "2538/2538 [==============================] - 3s 1ms/sample - loss: 0.0054 - accuracy: 0.9989 - val_loss: 0.0887 - val_accuracy: 0.9831\n",
      "Epoch 36/100\n",
      "2538/2538 [==============================] - 3s 1ms/sample - loss: 0.0054 - accuracy: 0.9988 - val_loss: 0.0846 - val_accuracy: 0.9837\n",
      "Epoch 37/100\n",
      "2538/2538 [==============================] - 3s 1ms/sample - loss: 0.0048 - accuracy: 0.9990 - val_loss: 0.0814 - val_accuracy: 0.9839\n",
      "Epoch 38/100\n",
      "2538/2538 [==============================] - 3s 1ms/sample - loss: 0.0044 - accuracy: 0.9991 - val_loss: 0.0845 - val_accuracy: 0.9837\n",
      "Epoch 39/100\n",
      "2538/2538 [==============================] - 4s 1ms/sample - loss: 0.0041 - accuracy: 0.9991 - val_loss: 0.0894 - val_accuracy: 0.9834\n",
      "Epoch 40/100\n",
      "2538/2538 [==============================] - 3s 1ms/sample - loss: 0.0037 - accuracy: 0.9993 - val_loss: 0.0855 - val_accuracy: 0.9839\n",
      "Epoch 41/100\n",
      "2538/2538 [==============================] - 3s 1ms/sample - loss: 0.0037 - accuracy: 0.9993 - val_loss: 0.0864 - val_accuracy: 0.9841\n",
      "Epoch 42/100\n",
      "2538/2538 [==============================] - 3s 1ms/sample - loss: 0.0032 - accuracy: 0.9995 - val_loss: 0.0847 - val_accuracy: 0.9842\n",
      "Epoch 43/100\n",
      "2538/2538 [==============================] - 3s 1ms/sample - loss: 0.0031 - accuracy: 0.9995 - val_loss: 0.0875 - val_accuracy: 0.9838\n",
      "Epoch 44/100\n",
      "2538/2538 [==============================] - 3s 1ms/sample - loss: 0.0031 - accuracy: 0.9994 - val_loss: 0.0888 - val_accuracy: 0.9838\n",
      "Epoch 45/100\n",
      "2538/2538 [==============================] - 3s 1ms/sample - loss: 0.0027 - accuracy: 0.9995 - val_loss: 0.0898 - val_accuracy: 0.9828\n",
      "Epoch 46/100\n",
      "2538/2538 [==============================] - 3s 1ms/sample - loss: 0.0025 - accuracy: 0.9996 - val_loss: 0.0930 - val_accuracy: 0.9836\n",
      "Epoch 47/100\n",
      "2538/2538 [==============================] - 3s 1ms/sample - loss: 0.0023 - accuracy: 0.9996 - val_loss: 0.0908 - val_accuracy: 0.9839\n",
      "Epoch 48/100\n",
      "2538/2538 [==============================] - 3s 1ms/sample - loss: 0.0023 - accuracy: 0.9996 - val_loss: 0.0924 - val_accuracy: 0.9842\n",
      "Epoch 49/100\n",
      "2538/2538 [==============================] - 4s 1ms/sample - loss: 0.0022 - accuracy: 0.9996 - val_loss: 0.0898 - val_accuracy: 0.9839\n",
      "Epoch 50/100\n",
      "2538/2538 [==============================] - 3s 1ms/sample - loss: 0.0020 - accuracy: 0.9996 - val_loss: 0.0957 - val_accuracy: 0.9841\n",
      "Epoch 51/100\n",
      "2538/2538 [==============================] - 3s 1ms/sample - loss: 0.0020 - accuracy: 0.9997 - val_loss: 0.0928 - val_accuracy: 0.9842\n",
      "Epoch 52/100\n",
      "2538/2538 [==============================] - 3s 1ms/sample - loss: 0.0019 - accuracy: 0.9997 - val_loss: 0.0942 - val_accuracy: 0.9839\n",
      "Epoch 53/100\n",
      "2538/2538 [==============================] - 3s 1ms/sample - loss: 0.0017 - accuracy: 0.9997 - val_loss: 0.0976 - val_accuracy: 0.9842\n",
      "Epoch 54/100\n",
      "2538/2538 [==============================] - 3s 1ms/sample - loss: 0.0016 - accuracy: 0.9997 - val_loss: 0.0918 - val_accuracy: 0.9841\n",
      "Epoch 55/100\n",
      "2538/2538 [==============================] - 3s 1ms/sample - loss: 0.0016 - accuracy: 0.9997 - val_loss: 0.0951 - val_accuracy: 0.9842\n",
      "Epoch 56/100\n"
     ]
    },
    {
     "name": "stdout",
     "output_type": "stream",
     "text": [
      "2538/2538 [==============================] - 3s 1ms/sample - loss: 0.0016 - accuracy: 0.9997 - val_loss: 0.0914 - val_accuracy: 0.9840\n",
      "Epoch 57/100\n",
      "2538/2538 [==============================] - 3s 1ms/sample - loss: 0.0014 - accuracy: 0.9998 - val_loss: 0.0983 - val_accuracy: 0.9839\n",
      "Epoch 58/100\n",
      "2538/2538 [==============================] - 3s 1ms/sample - loss: 0.0013 - accuracy: 0.9998 - val_loss: 0.0947 - val_accuracy: 0.9842\n",
      "Epoch 59/100\n",
      "2538/2538 [==============================] - 3s 1ms/sample - loss: 0.0013 - accuracy: 0.9998 - val_loss: 0.0990 - val_accuracy: 0.9843\n",
      "Epoch 60/100\n",
      "2538/2538 [==============================] - 3s 1ms/sample - loss: 0.0011 - accuracy: 0.9999 - val_loss: 0.0986 - val_accuracy: 0.9840\n",
      "Epoch 61/100\n",
      "2538/2538 [==============================] - 3s 1ms/sample - loss: 0.0014 - accuracy: 0.9997 - val_loss: 0.1017 - val_accuracy: 0.9842\n",
      "Epoch 62/100\n",
      "2538/2538 [==============================] - 4s 2ms/sample - loss: 0.0012 - accuracy: 0.9999 - val_loss: 0.0994 - val_accuracy: 0.9844\n",
      "Epoch 63/100\n",
      "2538/2538 [==============================] - 4s 1ms/sample - loss: 0.0011 - accuracy: 0.9999 - val_loss: 0.1001 - val_accuracy: 0.9840\n",
      "Epoch 64/100\n",
      "2538/2538 [==============================] - 3s 1ms/sample - loss: 9.6842e-04 - accuracy: 0.9998 - val_loss: 0.0996 - val_accuracy: 0.9845\n",
      "Epoch 65/100\n",
      "2538/2538 [==============================] - 3s 1ms/sample - loss: 9.5924e-04 - accuracy: 0.9999 - val_loss: 0.1010 - val_accuracy: 0.9842\n",
      "Epoch 66/100\n",
      "2538/2538 [==============================] - 3s 1ms/sample - loss: 9.1304e-04 - accuracy: 0.9999 - val_loss: 0.1027 - val_accuracy: 0.9842\n",
      "Epoch 67/100\n",
      "2538/2538 [==============================] - 3s 1ms/sample - loss: 9.2520e-04 - accuracy: 0.9999 - val_loss: 0.1002 - val_accuracy: 0.9841\n",
      "Epoch 68/100\n",
      "2538/2538 [==============================] - 3s 1ms/sample - loss: 8.8896e-04 - accuracy: 0.9999 - val_loss: 0.0977 - val_accuracy: 0.9841\n",
      "Epoch 69/100\n",
      "2538/2538 [==============================] - 3s 1ms/sample - loss: 9.1310e-04 - accuracy: 0.9999 - val_loss: 0.1018 - val_accuracy: 0.9841\n",
      "Epoch 70/100\n",
      "2538/2538 [==============================] - 3s 1ms/sample - loss: 8.3093e-04 - accuracy: 0.9999 - val_loss: 0.1031 - val_accuracy: 0.9840\n",
      "Epoch 71/100\n",
      "2538/2538 [==============================] - 3s 1ms/sample - loss: 9.3341e-04 - accuracy: 0.9999 - val_loss: 0.1001 - val_accuracy: 0.9842\n",
      "Epoch 72/100\n",
      "2538/2538 [==============================] - 4s 1ms/sample - loss: 8.6405e-04 - accuracy: 0.9999 - val_loss: 0.1017 - val_accuracy: 0.9842\n",
      "Epoch 73/100\n",
      "2538/2538 [==============================] - 3s 1ms/sample - loss: 9.0216e-04 - accuracy: 0.9999 - val_loss: 0.1048 - val_accuracy: 0.9841\n",
      "Epoch 74/100\n",
      "2538/2538 [==============================] - 3s 1ms/sample - loss: 7.7404e-04 - accuracy: 0.9999 - val_loss: 0.0992 - val_accuracy: 0.9841\n",
      "Epoch 75/100\n",
      "2538/2538 [==============================] - 3s 1ms/sample - loss: 8.0419e-04 - accuracy: 0.9998 - val_loss: 0.1081 - val_accuracy: 0.9837\n",
      "Epoch 76/100\n",
      "2538/2538 [==============================] - 3s 1ms/sample - loss: 7.1732e-04 - accuracy: 0.9999 - val_loss: 0.1019 - val_accuracy: 0.9839\n",
      "Epoch 77/100\n",
      "2538/2538 [==============================] - 3s 1ms/sample - loss: 6.0964e-04 - accuracy: 1.0000 - val_loss: 0.1052 - val_accuracy: 0.9843\n",
      "Epoch 78/100\n",
      "2538/2538 [==============================] - 3s 1ms/sample - loss: 5.9022e-04 - accuracy: 0.9999 - val_loss: 0.1031 - val_accuracy: 0.9840\n",
      "Epoch 79/100\n",
      "2538/2538 [==============================] - 3s 1ms/sample - loss: 5.9063e-04 - accuracy: 0.9999 - val_loss: 0.1035 - val_accuracy: 0.9836\n",
      "Epoch 80/100\n",
      "2538/2538 [==============================] - 3s 1ms/sample - loss: 5.6342e-04 - accuracy: 1.0000 - val_loss: 0.1096 - val_accuracy: 0.9841\n",
      "Epoch 81/100\n",
      "2538/2538 [==============================] - 3s 1ms/sample - loss: 7.5302e-04 - accuracy: 0.9999 - val_loss: 0.1054 - val_accuracy: 0.9834\n",
      "Epoch 82/100\n",
      "2538/2538 [==============================] - 3s 1ms/sample - loss: 7.4551e-04 - accuracy: 0.9999 - val_loss: 0.1142 - val_accuracy: 0.9838\n",
      "Epoch 83/100\n",
      "2538/2538 [==============================] - 3s 1ms/sample - loss: 6.3261e-04 - accuracy: 0.9999 - val_loss: 0.1056 - val_accuracy: 0.9847\n",
      "Epoch 84/100\n",
      "2538/2538 [==============================] - 3s 1ms/sample - loss: 6.1627e-04 - accuracy: 0.9999 - val_loss: 0.1078 - val_accuracy: 0.9839\n",
      "Epoch 85/100\n",
      "2538/2538 [==============================] - 4s 1ms/sample - loss: 5.0132e-04 - accuracy: 1.0000 - val_loss: 0.1092 - val_accuracy: 0.9843\n",
      "Epoch 86/100\n",
      "2538/2538 [==============================] - 3s 1ms/sample - loss: 4.8457e-04 - accuracy: 1.0000 - val_loss: 0.1091 - val_accuracy: 0.9840\n",
      "Epoch 87/100\n",
      "2538/2538 [==============================] - 3s 1ms/sample - loss: 4.6094e-04 - accuracy: 0.9999 - val_loss: 0.1053 - val_accuracy: 0.9833\n",
      "Epoch 88/100\n",
      "2538/2538 [==============================] - 3s 1ms/sample - loss: 4.6435e-04 - accuracy: 1.0000 - val_loss: 0.1070 - val_accuracy: 0.9841\n",
      "Epoch 89/100\n",
      "2538/2538 [==============================] - 3s 1ms/sample - loss: 5.0181e-04 - accuracy: 0.9999 - val_loss: 0.1082 - val_accuracy: 0.9841\n",
      "Epoch 90/100\n",
      "2538/2538 [==============================] - 3s 1ms/sample - loss: 3.9998e-04 - accuracy: 1.0000 - val_loss: 0.1123 - val_accuracy: 0.9844\n",
      "Epoch 91/100\n",
      "2538/2538 [==============================] - 3s 1ms/sample - loss: 4.5237e-04 - accuracy: 0.9999 - val_loss: 0.1101 - val_accuracy: 0.9842\n",
      "Epoch 92/100\n",
      "2538/2538 [==============================] - 3s 1ms/sample - loss: 5.8398e-04 - accuracy: 0.9999 - val_loss: 0.1068 - val_accuracy: 0.9841\n",
      "Epoch 93/100\n",
      "2538/2538 [==============================] - 3s 1ms/sample - loss: 4.4173e-04 - accuracy: 0.9999 - val_loss: 0.1078 - val_accuracy: 0.9846\n",
      "Epoch 94/100\n",
      "2538/2538 [==============================] - 4s 2ms/sample - loss: 3.2640e-04 - accuracy: 1.0000 - val_loss: 0.1099 - val_accuracy: 0.9841\n",
      "Epoch 95/100\n",
      "2538/2538 [==============================] - 4s 1ms/sample - loss: 3.3532e-04 - accuracy: 1.0000 - val_loss: 0.1074 - val_accuracy: 0.9842\n",
      "Epoch 96/100\n",
      "2538/2538 [==============================] - 3s 1ms/sample - loss: 3.0379e-04 - accuracy: 1.0000 - val_loss: 0.1093 - val_accuracy: 0.9843\n",
      "Epoch 97/100\n",
      "2538/2538 [==============================] - 3s 1ms/sample - loss: 3.3618e-04 - accuracy: 1.0000 - val_loss: 0.1096 - val_accuracy: 0.9846\n",
      "Epoch 98/100\n",
      "2538/2538 [==============================] - 3s 1ms/sample - loss: 3.3063e-04 - accuracy: 1.0000 - val_loss: 0.1111 - val_accuracy: 0.9844\n",
      "Epoch 99/100\n",
      "2538/2538 [==============================] - 3s 1ms/sample - loss: 3.4341e-04 - accuracy: 1.0000 - val_loss: 0.1122 - val_accuracy: 0.9839\n",
      "Epoch 100/100\n",
      "2538/2538 [==============================] - 3s 1ms/sample - loss: 3.0126e-04 - accuracy: 1.0000 - val_loss: 0.1114 - val_accuracy: 0.9845\n"
     ]
    }
   ],
   "source": [
    "file_path = \"mer.h5\"\n",
    "BATCH_SIZE = 64\n",
    "\n",
    "checkpoint = ModelCheckpoint(file_path, monitor='val_loss', verbose=1, save_best_only=True, mode='min')\n",
    "es = EarlyStopping(monitor='val_loss', mode='min', verbose=1, patience=5)\n",
    "reduce_ = ReduceLROnPlateau(monitor=\"val_loss\", mode='min', patience=5, min_lr=1e-7)\n",
    "\n",
    "history = model.fit(train_sent, train_labels, batch_size = BATCH_SIZE, validation_data= (val_sent, val_labels), epochs = 100, callbacks=[es, checkpoint, reduce_], verbose = 1)"
   ]
  },
  {
   "cell_type": "code",
   "execution_count": 33,
   "metadata": {},
   "outputs": [
    {
     "data": {
      "text/plain": [
       "[<matplotlib.lines.Line2D at 0x13e739f90>]"
      ]
     },
     "execution_count": 33,
     "metadata": {},
     "output_type": "execute_result"
    },
    {
     "data": {
      "image/png": "[encoded data removed]",
      "text/plain": [
       "<Figure size 432x288 with 1 Axes>"
      ]
     },
     "metadata": {
      "needs_background": "light"
     },
     "output_type": "display_data"
    }
   ],
   "source": [
    "plt.plot(history.history['val_loss'])\n",
    "plt.plot(history.history['loss'])"
   ]
  },
  {
   "cell_type": "code",
   "execution_count": 34,
   "metadata": {},
   "outputs": [
    {
     "name": "stdout",
     "output_type": "stream",
     "text": [
      "1905/1905 [==============================] - 0s 256us/sample - loss: 0.1159 - accuracy: 0.9837\n"
     ]
    }
   ],
   "source": [
    "loss, acc = model.evaluate(test_sent, test_labels)"
   ]
  },
  {
   "cell_type": "code",
   "execution_count": 35,
   "metadata": {},
   "outputs": [
    {
     "data": {
      "text/plain": [
       "0.9837375"
      ]
     },
     "execution_count": 35,
     "metadata": {},
     "output_type": "execute_result"
    }
   ],
   "source": [
    "acc"
   ]
  },
  {
   "cell_type": "code",
   "execution_count": null,
   "metadata": {},
   "outputs": [],
   "source": []
  }
 ],
 "metadata": {
  "kernelspec": {
   "display_name": "Python 3",
   "language": "python",
   "name": "python3"
  },
  "language_info": {
   "codemirror_mode": {
    "name": "ipython",
    "version": 3
   },
   "file_extension": ".py",
   "mimetype": "text/x-python",
   "name": "python",
   "nbconvert_exporter": "python",
   "pygments_lexer": "ipython3",
   "version": "3.7.4"
  }
 },
 "nbformat": 4,
 "nbformat_minor": 2
}
