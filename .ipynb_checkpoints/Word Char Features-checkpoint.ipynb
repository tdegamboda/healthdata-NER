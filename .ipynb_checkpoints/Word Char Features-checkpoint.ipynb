{
 "cells": [
  {
   "cell_type": "markdown",
   "metadata": {},
   "source": [
    "# CNN-BiLSTM-CRF"
   ]
  },
  {
   "cell_type": "markdown",
   "metadata": {},
   "source": [
    "This notebook is based on the work of \"End-to-end Sequence Labelling via Bidirectional LSTM-CNNs-CRF https://arxiv.org/pdf/1603.01354.pdf"
   ]
  },
  {
   "cell_type": "code",
   "execution_count": 41,
   "metadata": {},
   "outputs": [],
   "source": [
    "import pandas as pd\n",
    "import numpy as np\n",
    "import matplotlib.pyplot as plt\n",
    "%matplotlib inline\n",
    "import seaborn as sns\n",
    "\n",
    "from collections import Counter\n",
    "\n",
    "from sklearn.model_selection import train_test_split\n",
    "from sklearn.metrics import classification_report\n",
    "\n",
    "import tensorflow as tf\n",
    "import tensorflow.keras.backend as K\n",
    "import tensorflow_addons as tfa\n",
    "\n",
    "from keras.preprocessing.sequence import pad_sequences\n",
    "from keras.utils import to_categorical\n",
    "\n",
    "from tensorflow.keras import Sequential, Model, Input\n",
    "from tensorflow.keras.layers import LSTM, concatenate, Embedding, Dense, TimeDistributed, InputSpec, Dropout, Bidirectional, Layer, Conv1D, SpatialDropout1D,GlobalMaxPooling1D, Concatenate\n",
    "from tensorflow.keras.utils import plot_model\n",
    "from tensorflow.keras.callbacks import ModelCheckpoint, ReduceLROnPlateau, EarlyStopping\n",
    "from tensorflow.keras.optimizers import Adam, SGD\n",
    "from tensorflow_addons.text import crf_decode, crf_log_likelihood\n",
    "\n",
    "# from keras_contrib.losses import crf_loss\n",
    "# from keras_contrib.metrics import crf_accuracy\n",
    "\n",
    "from tf2crf import CRF, ModelWithCRFLoss, ModelWithCRFLossDSCLoss"
   ]
  },
  {
   "cell_type": "code",
   "execution_count": 2,
   "metadata": {},
   "outputs": [],
   "source": [
    "def load_data(file_path):\n",
    "    file = open(file_path, \"r\")\n",
    "    data, entities, sentence, unique_labels = [], [], [], []\n",
    "    for line in file:\n",
    "        line = line.strip(\"\\n\").split(\"\\t\")\n",
    "        \n",
    "        if len(line) > 1:\n",
    "            word = line[0]\n",
    "            label = line[1]\n",
    "            \n",
    "            sentence.append(word)\n",
    "            entities.append(label)\n",
    "            \n",
    "            if label not in unique_labels:\n",
    "                unique_labels.append(label)\n",
    "            \n",
    "        elif len(entities) > 0:\n",
    "            sentence = \" \".join(sentence)\n",
    "            data.append({\"sentence\" : sentence, \"entities\" : entities})\n",
    "            entities, sentence = [], []\n",
    "            \n",
    "    file.close()\n",
    "    return data, unique_labels"
   ]
  },
  {
   "cell_type": "code",
   "execution_count": 3,
   "metadata": {},
   "outputs": [],
   "source": [
    "train_dev_filepath = \"NERdata/NCBI-disease/train_dev.tsv\"\n",
    "test_filepath = \"NERdata/NCBI-disease/test.tsv\"\n",
    "\n",
    "train_data, train_unq_labels = load_data(train_dev_filepath)\n",
    "test_data, _ = load_data(test_filepath)\n",
    "\n",
    "data = train_data + test_data"
   ]
  },
  {
   "cell_type": "code",
   "execution_count": 4,
   "metadata": {},
   "outputs": [
    {
     "data": {
      "text/plain": [
       "{'sentence': 'Identification of APC2 , a homologue of the adenomatous polyposis coli tumour suppressor .',\n",
       " 'entities': ['O',\n",
       "  'O',\n",
       "  'O',\n",
       "  'O',\n",
       "  'O',\n",
       "  'O',\n",
       "  'O',\n",
       "  'O',\n",
       "  'B',\n",
       "  'I',\n",
       "  'I',\n",
       "  'I',\n",
       "  'O',\n",
       "  'O']}"
      ]
     },
     "execution_count": 4,
     "metadata": {},
     "output_type": "execute_result"
    }
   ],
   "source": [
    "data[0]"
   ]
  },
  {
   "cell_type": "code",
   "execution_count": 5,
   "metadata": {},
   "outputs": [
    {
     "data": {
      "text/plain": [
       "(7287, 3)"
      ]
     },
     "execution_count": 5,
     "metadata": {},
     "output_type": "execute_result"
    }
   ],
   "source": [
    "#Check how many datapoints and unique labels we have acquired from the dataset\n",
    "\n",
    "len(data), len(train_unq_labels)"
   ]
  },
  {
   "cell_type": "code",
   "execution_count": 6,
   "metadata": {},
   "outputs": [],
   "source": [
    "#Now we will make reference dictionaries for the text elements\n",
    "\n",
    "def get_mappings(data, word_ent):\n",
    "\n",
    "    if word_ent == \"word\" or word_ent == \"char\":\n",
    "        vocab = Counter([i for x in data for i in x['sentence'].split()])\n",
    "        if word_ent == \"char\":\n",
    "            vocab = Counter([i for x in vocab for i in list(x)])\n",
    "    elif word_ent == \"ent\":\n",
    "        vocab = Counter([i for x in data for i in x['entities']])\n",
    "    \n",
    "    vocab = [i[0] for i in vocab.most_common()]\n",
    "    \n",
    "    idx2tok = {idx:tok for idx, tok in enumerate(vocab, 1)}\n",
    "    tok2idx = {tok:idx for  idx, tok in enumerate(vocab, 1)}\n",
    "    \n",
    "    return tok2idx, idx2tok\n",
    "\n",
    "\n",
    "word2idx, idx2word = get_mappings(data, \"word\")\n",
    "char2idx, idx2char = get_mappings(data, \"char\")\n",
    "tag2idx, idx2tag = get_mappings(data, \"ent\")\n",
    "\n",
    "n_words = len(word2idx)\n",
    "n_chars = len(char2idx)"
   ]
  },
  {
   "cell_type": "code",
   "execution_count": 7,
   "metadata": {},
   "outputs": [],
   "source": [
    "# We will add a PAD token to consider padding during training\n",
    "\n",
    "word2idx[\"UNK\"] = n_words + 1\n",
    "idx2word[n_words + 1] = \"UNK\"\n",
    "\n",
    "word2idx[\"PAD\"] = 0\n",
    "idx2word[0] = \"PAD\"\n",
    "\n",
    "char2idx[\"UNK\"] = n_chars + 1\n",
    "idx2char[n_chars + 1] = \"UNK\"\n",
    "\n",
    "char2idx[\"PAD\"] = 0\n",
    "idx2char[0] = \"PAD\"\n",
    "\n",
    "# tag2idx[\"PAD\"] = 0\n",
    "# idx2tag[0] = \"PAD\"\n",
    "\n",
    "\n",
    "assert len(word2idx) == len(idx2word) and len(char2idx) == len(idx2char)"
   ]
  },
  {
   "cell_type": "code",
   "execution_count": 8,
   "metadata": {
    "scrolled": true
   },
   "outputs": [
    {
     "data": {
      "text/plain": [
       "{'O': 1, 'I': 2, 'B': 3}"
      ]
     },
     "execution_count": 8,
     "metadata": {},
     "output_type": "execute_result"
    }
   ],
   "source": [
    "tag2idx"
   ]
  },
  {
   "cell_type": "code",
   "execution_count": 9,
   "metadata": {},
   "outputs": [],
   "source": [
    "tag2idx = {i:x for x, i in enumerate(tag2idx.keys())}\n",
    "idx2tag = {i:x for x, i in tag2idx.items()}"
   ]
  },
  {
   "cell_type": "code",
   "execution_count": 10,
   "metadata": {},
   "outputs": [
    {
     "data": {
      "text/plain": [
       "({'O': 0, 'I': 1, 'B': 2}, {0: 'O', 1: 'I', 2: 'B'})"
      ]
     },
     "execution_count": 10,
     "metadata": {},
     "output_type": "execute_result"
    }
   ],
   "source": [
    "tag2idx, idx2tag"
   ]
  },
  {
   "cell_type": "code",
   "execution_count": 11,
   "metadata": {},
   "outputs": [
    {
     "name": "stdout",
     "output_type": "stream",
     "text": [
      "There are 10820 unique words/elements in the corpus being considered\n"
     ]
    }
   ],
   "source": [
    "n_words = len(word2idx)\n",
    "n_chars = len(char2idx)\n",
    "\n",
    "print(\"There are {} unique words/elements in the corpus being considered\".format(n_words))"
   ]
  },
  {
   "cell_type": "markdown",
   "metadata": {},
   "source": [
    "For convenience let us create a Pandas df summarising all the relevant data to this point"
   ]
  },
  {
   "cell_type": "code",
   "execution_count": 12,
   "metadata": {},
   "outputs": [],
   "source": [
    "columns = [\"Sentence\", \"Labels\", \"Word Tokens\", \"Label Tokens\", \"Character Tokens\"]\n",
    "\n",
    "data_df = []\n",
    "for i in range(len(data)):\n",
    "    #We want data in the form : [Sentence, Labels, Words Tokens, Label Tokens]\n",
    "    sentence = data[i]['sentence']\n",
    "    labels = data[i]['entities']\n",
    "    words = sentence.split()\n",
    "    chars = [list(i) for i in words]\n",
    "    word_tkns = [word2idx.get(i) for i in words]\n",
    "    label_tkns = [tag2idx.get(i) for i in labels]\n",
    "    char_tkns = [list(map(char2idx.get, i)) for i in chars]\n",
    "    \n",
    "    data_df.append([sentence, labels, word_tkns, label_tkns, char_tkns])\n",
    "    \n",
    "data_df = pd.DataFrame(data_df, columns = columns)"
   ]
  },
  {
   "cell_type": "code",
   "execution_count": 13,
   "metadata": {},
   "outputs": [
    {
     "data": {
      "text/html": [
       "<div>\n",
       "<style scoped>\n",
       "    .dataframe tbody tr th:only-of-type {\n",
       "        vertical-align: middle;\n",
       "    }\n",
       "\n",
       "    .dataframe tbody tr th {\n",
       "        vertical-align: top;\n",
       "    }\n",
       "\n",
       "    .dataframe thead th {\n",
       "        text-align: right;\n",
       "    }\n",
       "</style>\n",
       "<table border=\"1\" class=\"dataframe\">\n",
       "  <thead>\n",
       "    <tr style=\"text-align: right;\">\n",
       "      <th></th>\n",
       "      <th>Sentence</th>\n",
       "      <th>Labels</th>\n",
       "      <th>Word Tokens</th>\n",
       "      <th>Label Tokens</th>\n",
       "      <th>Character Tokens</th>\n",
       "    </tr>\n",
       "  </thead>\n",
       "  <tbody>\n",
       "    <tr>\n",
       "      <th>0</th>\n",
       "      <td>Identification of APC2 , a homologue of the ad...</td>\n",
       "      <td>[O, O, O, O, O, O, O, O, B, I, I, I, O, O]</td>\n",
       "      <td>[777, 3, 2888, 4, 8, 778, 3, 2, 335, 280, 532,...</td>\n",
       "      <td>[0, 0, 0, 0, 0, 0, 0, 0, 2, 1, 1, 1, 0, 0]</td>\n",
       "      <td>[[37, 11, 1, 4, 6, 2, 20, 2, 10, 3, 6, 2, 5, 4...</td>\n",
       "    </tr>\n",
       "    <tr>\n",
       "      <th>1</th>\n",
       "      <td>The adenomatous polyposis coli ( APC ) tumour ...</td>\n",
       "      <td>[O, B, I, I, I, I, I, I, O, O, O, O, O, O, O, ...</td>\n",
       "      <td>[18, 335, 280, 532, 10, 115, 9, 507, 6, 355, 3...</td>\n",
       "      <td>[0, 2, 1, 1, 1, 1, 1, 1, 0, 0, 0, 0, 0, 0, 0, ...</td>\n",
       "      <td>[[34, 17, 1], [3, 11, 1, 4, 5, 13, 3, 6, 5, 14...</td>\n",
       "    </tr>\n",
       "    <tr>\n",
       "      <th>2</th>\n",
       "      <td>Complex formation induces the rapid degradatio...</td>\n",
       "      <td>[O, O, O, O, O, O, O, O, O]</td>\n",
       "      <td>[4814, 623, 3363, 2, 1036, 2889, 3, 3362, 1]</td>\n",
       "      <td>[0, 0, 0, 0, 0, 0, 0, 0, 0]</td>\n",
       "      <td>[[24, 5, 13, 12, 9, 1, 32], [20, 5, 7, 13, 3, ...</td>\n",
       "    </tr>\n",
       "    <tr>\n",
       "      <th>3</th>\n",
       "      <td>In colon carcinoma cells , loss of APC leads t...</td>\n",
       "      <td>[O, B, I, O, O, O, O, O, O, O, O, O, O, O, O, ...</td>\n",
       "      <td>[51, 1577, 578, 84, 4, 160, 3, 115, 872, 11, 2...</td>\n",
       "      <td>[0, 2, 1, 0, 0, 0, 0, 0, 0, 0, 0, 0, 0, 0, 0, ...</td>\n",
       "      <td>[[37, 4], [10, 5, 9, 5, 4], [10, 3, 7, 10, 2, ...</td>\n",
       "    </tr>\n",
       "    <tr>\n",
       "      <th>4</th>\n",
       "      <td>Here , we report the identification and genomi...</td>\n",
       "      <td>[O, O, O, O, O, O, O, O, O, O, O, O, O]</td>\n",
       "      <td>[368, 4, 54, 149, 2, 397, 7, 197, 517, 3, 115,...</td>\n",
       "      <td>[0, 0, 0, 0, 0, 0, 0, 0, 0, 0, 0, 0, 0]</td>\n",
       "      <td>[[43, 1, 7, 1], [63], [44, 1], [7, 1, 12, 5, 7...</td>\n",
       "    </tr>\n",
       "  </tbody>\n",
       "</table>\n",
       "</div>"
      ],
      "text/plain": [
       "                                            Sentence  \\\n",
       "0  Identification of APC2 , a homologue of the ad...   \n",
       "1  The adenomatous polyposis coli ( APC ) tumour ...   \n",
       "2  Complex formation induces the rapid degradatio...   \n",
       "3  In colon carcinoma cells , loss of APC leads t...   \n",
       "4  Here , we report the identification and genomi...   \n",
       "\n",
       "                                              Labels  \\\n",
       "0         [O, O, O, O, O, O, O, O, B, I, I, I, O, O]   \n",
       "1  [O, B, I, I, I, I, I, I, O, O, O, O, O, O, O, ...   \n",
       "2                        [O, O, O, O, O, O, O, O, O]   \n",
       "3  [O, B, I, O, O, O, O, O, O, O, O, O, O, O, O, ...   \n",
       "4            [O, O, O, O, O, O, O, O, O, O, O, O, O]   \n",
       "\n",
       "                                         Word Tokens  \\\n",
       "0  [777, 3, 2888, 4, 8, 778, 3, 2, 335, 280, 532,...   \n",
       "1  [18, 335, 280, 532, 10, 115, 9, 507, 6, 355, 3...   \n",
       "2       [4814, 623, 3363, 2, 1036, 2889, 3, 3362, 1]   \n",
       "3  [51, 1577, 578, 84, 4, 160, 3, 115, 872, 11, 2...   \n",
       "4  [368, 4, 54, 149, 2, 397, 7, 197, 517, 3, 115,...   \n",
       "\n",
       "                                        Label Tokens  \\\n",
       "0         [0, 0, 0, 0, 0, 0, 0, 0, 2, 1, 1, 1, 0, 0]   \n",
       "1  [0, 2, 1, 1, 1, 1, 1, 1, 0, 0, 0, 0, 0, 0, 0, ...   \n",
       "2                        [0, 0, 0, 0, 0, 0, 0, 0, 0]   \n",
       "3  [0, 2, 1, 0, 0, 0, 0, 0, 0, 0, 0, 0, 0, 0, 0, ...   \n",
       "4            [0, 0, 0, 0, 0, 0, 0, 0, 0, 0, 0, 0, 0]   \n",
       "\n",
       "                                    Character Tokens  \n",
       "0  [[37, 11, 1, 4, 6, 2, 20, 2, 10, 3, 6, 2, 5, 4...  \n",
       "1  [[34, 17, 1], [3, 11, 1, 4, 5, 13, 3, 6, 5, 14...  \n",
       "2  [[24, 5, 13, 12, 9, 1, 32], [20, 5, 7, 13, 3, ...  \n",
       "3  [[37, 4], [10, 5, 9, 5, 4], [10, 3, 7, 10, 2, ...  \n",
       "4  [[43, 1, 7, 1], [63], [44, 1], [7, 1, 12, 5, 7...  "
      ]
     },
     "execution_count": 13,
     "metadata": {},
     "output_type": "execute_result"
    }
   ],
   "source": [
    "data_df.head()"
   ]
  },
  {
   "cell_type": "code",
   "execution_count": 14,
   "metadata": {},
   "outputs": [
    {
     "data": {
      "text/plain": [
       "<BarContainer object of 3 artists>"
      ]
     },
     "execution_count": 14,
     "metadata": {},
     "output_type": "execute_result"
    },
    {
     "data": {
      "image/png": "[encoded data removed]",
      "text/plain": [
       "<Figure size 432x288 with 1 Axes>"
      ]
     },
     "metadata": {
      "needs_background": "light"
     },
     "output_type": "display_data"
    }
   ],
   "source": [
    "from collections import Counter\n",
    "\n",
    "labels = [i for x in data_df[\"Labels\"].values for i in x]\n",
    "cnt = Counter(labels)\n",
    "plt.bar(cnt.keys(), cnt.values())"
   ]
  },
  {
   "cell_type": "code",
   "execution_count": 15,
   "metadata": {},
   "outputs": [
    {
     "data": {
      "image/png": "[encoded data removed]",
      "text/plain": [
       "<Figure size 432x288 with 1 Axes>"
      ]
     },
     "metadata": {
      "needs_background": "light"
     },
     "output_type": "display_data"
    },
    {
     "data": {
      "text/plain": [
       "count    7287.000000\n",
       "mean       25.273364\n",
       "std        12.583760\n",
       "min         2.000000\n",
       "25%        17.000000\n",
       "50%        23.000000\n",
       "75%        32.000000\n",
       "max       123.000000\n",
       "Name: Word Tokens, dtype: float64"
      ]
     },
     "execution_count": 15,
     "metadata": {},
     "output_type": "execute_result"
    }
   ],
   "source": [
    "lengths = data_df['Word Tokens'].map(len)\n",
    "\n",
    "lengths.hist()\n",
    "plt.show()\n",
    "\n",
    "lengths.describe()"
   ]
  },
  {
   "cell_type": "code",
   "execution_count": 16,
   "metadata": {},
   "outputs": [
    {
     "data": {
      "image/png": "[encoded data removed]",
      "text/plain": [
       "<Figure size 432x288 with 1 Axes>"
      ]
     },
     "metadata": {
      "needs_background": "light"
     },
     "output_type": "display_data"
    },
    {
     "data": {
      "text/plain": [
       "count    184167.000000\n",
       "mean          4.682104\n",
       "std           3.334064\n",
       "min           1.000000\n",
       "25%           2.000000\n",
       "50%           4.000000\n",
       "75%           7.000000\n",
       "max          26.000000\n",
       "dtype: float64"
      ]
     },
     "execution_count": 16,
     "metadata": {},
     "output_type": "execute_result"
    }
   ],
   "source": [
    "words = data_df[\"Character Tokens\"]\n",
    "word_lengths = pd.Series([len(x) for i in words for x in i])\n",
    "\n",
    "word_lengths.hist()\n",
    "plt.show()\n",
    "\n",
    "word_lengths.describe()"
   ]
  },
  {
   "cell_type": "code",
   "execution_count": 17,
   "metadata": {},
   "outputs": [],
   "source": [
    "MAX_CHAR = 26\n",
    "MAX_WORD = 123\n",
    "\n",
    "padded_sentences = pad_sequences(data_df[\"Word Tokens\"], maxlen=MAX_WORD, dtype='int32', padding='post', truncating='post', value= word2idx[\"PAD\"])\n",
    "padded_labels = pad_sequences(data_df[\"Label Tokens\"], maxlen = MAX_WORD, dtype='int32', padding='post', truncating='post', value= tag2idx[\"O\"])\n",
    "padded_labels = np.array([to_categorical(i, num_classes = len(tag2idx)) for i in padded_labels])\n",
    "padded_chars = [pad_sequences(x, maxlen = MAX_CHAR, dtype = 'int32', padding = 'post', truncating = 'post', value= char2idx[\"PAD\"]) for x in data_df[\"Character Tokens\"]]\n",
    "padded_chars = pad_sequences(padded_chars, maxlen = MAX_WORD, padding = 'post', value = [0]*MAX_CHAR)\n",
    "\n",
    "no_samples = np.shape(padded_sentences)[0]"
   ]
  },
  {
   "cell_type": "code",
   "execution_count": 18,
   "metadata": {},
   "outputs": [],
   "source": [
    "idx = list(range(no_samples))\n",
    "\n",
    "train_idx, val_test_idx = train_test_split(idx, test_size = 0.6, shuffle = True, random_state = 2021)\n",
    "val_idx, test_idx = train_test_split(val_test_idx, test_size = 0.5)\n",
    "\n",
    "train_sent, train_chars, train_labels = padded_sentences[train_idx], padded_chars[train_idx], padded_labels[train_idx]\n",
    "val_sent, val_chars, val_labels = padded_sentences[val_idx], padded_chars[val_idx], padded_labels[val_idx]\n",
    "test_sent, test_chars, test_labels = padded_sentences[test_idx], padded_chars[test_idx], padded_labels[test_idx]"
   ]
  },
  {
   "cell_type": "markdown",
   "metadata": {},
   "source": [
    "## Build Model"
   ]
  },
  {
   "cell_type": "code",
   "execution_count": 42,
   "metadata": {},
   "outputs": [],
   "source": [
    "def get_model(word_vocab_size, char_vocab_size, max_word_len, max_char_len, final_layer = 'softmax', lr = 0.001):\n",
    "    WORD_EMB_DIM = 64\n",
    "    CHAR_EMB_DIM = 32\n",
    "\n",
    "    # Input and Embedding for words\n",
    "    word_input = Input(shape = (max_word_len,))\n",
    "    word_emb = Embedding(input_dim=word_vocab_size + 1, output_dim=WORD_EMB_DIM, trainable = True,\n",
    "                         input_length=max_word_len, mask_zero = True, name = \"word_embed\")(word_input)\n",
    "    \n",
    "    \n",
    "    \n",
    "    # Input and Embedding for characters\n",
    "    char_input= Input(shape = (max_word_len, max_char_len,))\n",
    "    char_emb = TimeDistributed(Embedding(input_dim = char_vocab_size + 1, output_dim = CHAR_EMB_DIM, trainable = True,\n",
    "                                        input_length = max_char_len, name = \"char_embed\"))(char_input)\n",
    "    \n",
    "    \n",
    "    # Character CNN feature extraction with filter of length 3\n",
    "    char_conv = TimeDistributed(Conv1D(32, 3, padding='same'), name = \"td_conv1d\")(char_emb)\n",
    "    char_pool = TimeDistributed(GlobalMaxPooling1D(), name=\"char_pooling\")(char_conv)\n",
    "    \n",
    "    # Main LSTM\n",
    "    x = concatenate([word_emb, char_pool])\n",
    "    x = SpatialDropout1D(0.3)(x)\n",
    "    main_lstm = Bidirectional(LSTM(units=32, return_sequences=True), name = 'bilstm')(x)\n",
    "    \n",
    "    opt = Adam(lr=lr, beta_1=0.9, beta_2=0.999, clipvalue =0.5)\n",
    "    input_nodes = [word_input, char_input]\n",
    "    \n",
    "    if final_layer == 'softmax':\n",
    "        out = TimeDistributed(Dense(len(tag2idx), activation=\"softmax\"), name = 'tdd')(main_lstm)\n",
    "        model = Model(input_nodes, out)\n",
    "        model.compile(loss = \"categorical_crossentropy\", optimizer=opt, metrics=['accuracy'])\n",
    "    \n",
    "    elif final_layer == 'crf':\n",
    "        \n",
    "        crf = CRF(units = len(tag2idx))\n",
    "\n",
    "        out = crf(main_lstm)\n",
    "\n",
    "        base_model = Model(input_nodes, out)\n",
    "        model = ModelWithCRFLoss(base_model, sparse_target=False)\n",
    "\n",
    "        model.compile(optimizer=opt)\n",
    "    \n",
    "    try:\n",
    "        model.summary()\n",
    "    except:\n",
    "        pass\n",
    "    \n",
    "    return model"
   ]
  },
  {
   "cell_type": "code",
   "execution_count": 43,
   "metadata": {},
   "outputs": [],
   "source": [
    "classifier = 'crf'\n",
    "\n",
    "model = get_model(len(word2idx), len(char2idx), MAX_WORD, MAX_CHAR, final_layer = classifier, lr = 0.001)"
   ]
  },
  {
   "cell_type": "code",
   "execution_count": 44,
   "metadata": {},
   "outputs": [
    {
     "name": "stdout",
     "output_type": "stream",
     "text": [
      "Epoch 1/25\n",
      "92/92 [==============================] - 26s 203ms/step - loss: 8.0072 - accuracy: 0.9178 - val_loss_val: 5.1641 - val_val_accuracy: 0.9255\n",
      "\n",
      "Epoch 00001: val_loss_val improved from inf to 5.16411, saving model to mer.h5\n",
      "Epoch 2/25\n",
      "92/92 [==============================] - 16s 170ms/step - loss: 3.9259 - accuracy: 0.9346 - val_loss_val: 3.2169 - val_val_accuracy: 0.9449\n",
      "\n",
      "Epoch 00002: val_loss_val improved from 5.16411 to 3.21687, saving model to mer.h5\n",
      "Epoch 3/25\n",
      "92/92 [==============================] - 16s 179ms/step - loss: 2.5097 - accuracy: 0.9567 - val_loss_val: 2.5052 - val_val_accuracy: 0.9623\n",
      "\n",
      "Epoch 00003: val_loss_val improved from 3.21687 to 2.50521, saving model to mer.h5\n",
      "Epoch 4/25\n",
      "92/92 [==============================] - 17s 181ms/step - loss: 1.7006 - accuracy: 0.9743 - val_loss_val: 2.1491 - val_val_accuracy: 0.9692\n",
      "\n",
      "Epoch 00004: val_loss_val improved from 2.50521 to 2.14913, saving model to mer.h5\n",
      "Epoch 5/25\n",
      "92/92 [==============================] - 18s 194ms/step - loss: 1.1824 - accuracy: 0.9827 - val_loss_val: 1.9783 - val_val_accuracy: 0.9709\n",
      "\n",
      "Epoch 00005: val_loss_val improved from 2.14913 to 1.97831, saving model to mer.h5\n",
      "Epoch 6/25\n",
      "92/92 [==============================] - 17s 183ms/step - loss: 0.9391 - accuracy: 0.9855 - val_loss_val: 1.9656 - val_val_accuracy: 0.9740\n",
      "\n",
      "Epoch 00006: val_loss_val improved from 1.97831 to 1.96559, saving model to mer.h5\n",
      "Epoch 7/25\n",
      "92/92 [==============================] - 17s 188ms/step - loss: 0.7332 - accuracy: 0.9887 - val_loss_val: 1.8360 - val_val_accuracy: 0.9726\n",
      "\n",
      "Epoch 00007: val_loss_val improved from 1.96559 to 1.83599, saving model to mer.h5\n",
      "Epoch 8/25\n",
      "92/92 [==============================] - 16s 170ms/step - loss: 0.5743 - accuracy: 0.9914 - val_loss_val: 2.2596 - val_val_accuracy: 0.9729\n",
      "\n",
      "Epoch 00008: val_loss_val did not improve from 1.83599\n",
      "Epoch 9/25\n",
      "92/92 [==============================] - 17s 184ms/step - loss: 0.4776 - accuracy: 0.9929 - val_loss_val: 2.1177 - val_val_accuracy: 0.9746\n",
      "\n",
      "Epoch 00009: val_loss_val did not improve from 1.83599\n",
      "Epoch 10/25\n",
      "92/92 [==============================] - 19s 203ms/step - loss: 0.3803 - accuracy: 0.9948 - val_loss_val: 2.1806 - val_val_accuracy: 0.9738\n",
      "\n",
      "Epoch 00010: val_loss_val did not improve from 1.83599\n",
      "Epoch 00010: early stopping\n"
     ]
    }
   ],
   "source": [
    "file_path = \"mer.h5\"\n",
    "BATCH_SIZE = 32\n",
    "MAX_EPOCHS = 25\n",
    "\n",
    "checkpoint = ModelCheckpoint(file_path, monitor='val_loss_val', verbose=1, save_best_only=True, mode='min')\n",
    "es = EarlyStopping(monitor='val_loss_val', mode='min', verbose=1, patience=3)\n",
    "reduce_ = ReduceLROnPlateau(monitor=\"val_loss_val\", mode='min', patience=3, min_lr=1e-5)\n",
    "\n",
    "history = model.fit(x = [train_sent, train_chars], y = train_labels, validation_data = ([val_sent, val_chars], val_labels),\n",
    "                   batch_size = BATCH_SIZE, epochs = MAX_EPOCHS, callbacks=[es, checkpoint, reduce_], verbose = 1)"
   ]
  },
  {
   "cell_type": "code",
   "execution_count": 46,
   "metadata": {},
   "outputs": [
    {
     "data": {
      "text/plain": [
       "<matplotlib.legend.Legend at 0x1506ed310>"
      ]
     },
     "execution_count": 46,
     "metadata": {},
     "output_type": "execute_result"
    },
    {
     "data": {
      "image/png": "[encoded data removed]",
      "text/plain": [
       "<Figure size 432x288 with 1 Axes>"
      ]
     },
     "metadata": {
      "needs_background": "light"
     },
     "output_type": "display_data"
    }
   ],
   "source": [
    "plt.plot(history.history['val_loss_val'], label = \"Validation Loss\")\n",
    "plt.plot(history.history['loss'], label = \"Training Loss\")\n",
    "plt.legend(loc = \"best\")"
   ]
  },
  {
   "cell_type": "markdown",
   "metadata": {},
   "source": [
    "## Evaluation"
   ]
  },
  {
   "cell_type": "code",
   "execution_count": 47,
   "metadata": {},
   "outputs": [
    {
     "name": "stdout",
     "output_type": "stream",
     "text": [
      "69/69 [==============================] - 3s 36ms/step - loss_val: 2.3385 - val_accuracy: 0.9711\n"
     ]
    }
   ],
   "source": [
    "loss, acc = model.evaluate([test_sent, test_chars], test_labels)"
   ]
  },
  {
   "cell_type": "code",
   "execution_count": 48,
   "metadata": {},
   "outputs": [],
   "source": [
    "preds = model.predict([test_sent, test_chars])"
   ]
  },
  {
   "cell_type": "code",
   "execution_count": 49,
   "metadata": {},
   "outputs": [
    {
     "name": "stdout",
     "output_type": "stream",
     "text": [
      "              precision    recall  f1-score   support\n",
      "\n",
      "           B       0.78      0.18      0.29      9190\n",
      "           I       0.78      0.09      0.17     21457\n",
      "\n",
      "   micro avg       0.78      0.12      0.20     30647\n",
      "   macro avg       0.78      0.13      0.23     30647\n",
      "weighted avg       0.78      0.12      0.20     30647\n",
      "\n"
     ]
    }
   ],
   "source": [
    "print(classification_report([idx2tag[x] for i in preds for x in i], [idx2tag[np.argmax(i)] for x in test_labels for i in x], labels = [\"B\", \"I\"]))"
   ]
  },
  {
   "cell_type": "code",
   "execution_count": 50,
   "metadata": {},
   "outputs": [
    {
     "name": "stdout",
     "output_type": "stream",
     "text": [
      "Word           ||True ||Pred\n",
      "==============================\n",
      "In             : O     O\n",
      "addition       : O     O\n",
      ",              : O     O\n",
      "germline       : O     O\n",
      "mosaicism      : O     O\n",
      "of             : O     O\n",
      "the            : O     O\n",
      "VHL            : B     B\n",
      "gene           : O     O\n",
      "was            : O     O\n",
      "identified     : O     O\n",
      "in             : O     O\n",
      "one            : O     O\n",
      "family         : O     O\n",
      ".              : O     O\n"
     ]
    }
   ],
   "source": [
    "classifier = 'crf'\n",
    "\n",
    "i = 127\n",
    "if classifier == 'softmax':\n",
    "    p = np.argmax(preds[i], axis=-1)\n",
    "else:\n",
    "    p = preds[i]\n",
    "print(\"{:15}||{:5}||{}\".format(\"Word\", \"True\", \"Pred\"))\n",
    "print(30 * \"=\")\n",
    "for w, t, pred in zip(test_sent[i], np.argmax(test_labels[i], axis = -1), p):\n",
    "    if w != 0:\n",
    "        print(\"{:15}: {:5} {}\".format(idx2word[w], idx2tag[t], idx2tag[pred]))"
   ]
  },
  {
   "cell_type": "code",
   "execution_count": null,
   "metadata": {},
   "outputs": [],
   "source": []
  }
 ],
 "metadata": {
  "kernelspec": {
   "display_name": "Python 3",
   "language": "python",
   "name": "python3"
  },
  "language_info": {
   "codemirror_mode": {
    "name": "ipython",
    "version": 3
   },
   "file_extension": ".py",
   "mimetype": "text/x-python",
   "name": "python",
   "nbconvert_exporter": "python",
   "pygments_lexer": "ipython3",
   "version": "3.7.4"
  }
 },
 "nbformat": 4,
 "nbformat_minor": 2
}
