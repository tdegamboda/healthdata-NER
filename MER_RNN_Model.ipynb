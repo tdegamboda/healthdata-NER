{
 "cells": [
  {
   "cell_type": "markdown",
   "metadata": {},
   "source": [
    "# Medical Entity Recognition"
   ]
  },
  {
   "cell_type": "markdown",
   "metadata": {},
   "source": [
    "We will be looking at using multiple entities in our dataset, attempting to improve on the Bidirectional LSTM and further exploration"
   ]
  },
  {
   "cell_type": "markdown",
   "metadata": {},
   "source": [
    "## Import Libraries"
   ]
  },
  {
   "cell_type": "code",
   "execution_count": 1,
   "metadata": {},
   "outputs": [
    {
     "name": "stderr",
     "output_type": "stream",
     "text": [
      "Using TensorFlow backend.\n"
     ]
    }
   ],
   "source": [
    "import pandas as pd\n",
    "import numpy as np\n",
    "import matplotlib.pyplot as plt\n",
    "import seaborn as sns\n",
    "\n",
    "from sklearn.model_selection import train_test_split\n",
    "\n",
    "import tensorflow\n",
    "\n",
    "from keras.preprocessing.sequence import pad_sequences\n",
    "from keras.utils import to_categorical\n",
    "\n",
    "from tensorflow.keras import Sequential, Model, Input\n",
    "from tensorflow.keras.layers import LSTM, Embedding, Dense, TimeDistributed, Dropout, Bidirectional\n",
    "from tensorflow.keras.utils import plot_model\n",
    "from tensorflow.keras.callbacks import ModelCheckpoint, ReduceLROnPlateau, EarlyStopping\n",
    "from tensorflow.keras.optimizers import Adam, SGD"
   ]
  },
  {
   "cell_type": "markdown",
   "metadata": {},
   "source": [
    "## Load and Parse Data"
   ]
  },
  {
   "cell_type": "markdown",
   "metadata": {},
   "source": [
    "Dataset is slightly more difficult to parse when loaded using pandas hence will use pandas results for convenience when building custom parser. Also use pandas df to build relevant dictionaries for convenience."
   ]
  },
  {
   "cell_type": "code",
   "execution_count": 2,
   "metadata": {},
   "outputs": [],
   "source": [
    "train_dev_data = pd.read_csv(\"NERdata/NCBI-disease/train_dev.tsv\", sep = \"\\t\", header = None)"
   ]
  },
  {
   "cell_type": "code",
   "execution_count": 3,
   "metadata": {},
   "outputs": [
    {
     "data": {
      "text/html": [
       "<div>\n",
       "<style scoped>\n",
       "    .dataframe tbody tr th:only-of-type {\n",
       "        vertical-align: middle;\n",
       "    }\n",
       "\n",
       "    .dataframe tbody tr th {\n",
       "        vertical-align: top;\n",
       "    }\n",
       "\n",
       "    .dataframe thead th {\n",
       "        text-align: right;\n",
       "    }\n",
       "</style>\n",
       "<table border=\"1\" class=\"dataframe\">\n",
       "  <thead>\n",
       "    <tr style=\"text-align: right;\">\n",
       "      <th></th>\n",
       "      <th>0</th>\n",
       "      <th>1</th>\n",
       "    </tr>\n",
       "  </thead>\n",
       "  <tbody>\n",
       "    <tr>\n",
       "      <th>0</th>\n",
       "      <td>Identification</td>\n",
       "      <td>O</td>\n",
       "    </tr>\n",
       "    <tr>\n",
       "      <th>1</th>\n",
       "      <td>of</td>\n",
       "      <td>O</td>\n",
       "    </tr>\n",
       "    <tr>\n",
       "      <th>2</th>\n",
       "      <td>APC2</td>\n",
       "      <td>O</td>\n",
       "    </tr>\n",
       "    <tr>\n",
       "      <th>3</th>\n",
       "      <td>,</td>\n",
       "      <td>O</td>\n",
       "    </tr>\n",
       "    <tr>\n",
       "      <th>4</th>\n",
       "      <td>a</td>\n",
       "      <td>O</td>\n",
       "    </tr>\n",
       "    <tr>\n",
       "      <th>5</th>\n",
       "      <td>homologue</td>\n",
       "      <td>O</td>\n",
       "    </tr>\n",
       "    <tr>\n",
       "      <th>6</th>\n",
       "      <td>of</td>\n",
       "      <td>O</td>\n",
       "    </tr>\n",
       "    <tr>\n",
       "      <th>7</th>\n",
       "      <td>the</td>\n",
       "      <td>O</td>\n",
       "    </tr>\n",
       "    <tr>\n",
       "      <th>8</th>\n",
       "      <td>adenomatous</td>\n",
       "      <td>B</td>\n",
       "    </tr>\n",
       "    <tr>\n",
       "      <th>9</th>\n",
       "      <td>polyposis</td>\n",
       "      <td>I</td>\n",
       "    </tr>\n",
       "    <tr>\n",
       "      <th>10</th>\n",
       "      <td>coli</td>\n",
       "      <td>I</td>\n",
       "    </tr>\n",
       "    <tr>\n",
       "      <th>11</th>\n",
       "      <td>tumour</td>\n",
       "      <td>I</td>\n",
       "    </tr>\n",
       "    <tr>\n",
       "      <th>12</th>\n",
       "      <td>suppressor</td>\n",
       "      <td>O</td>\n",
       "    </tr>\n",
       "    <tr>\n",
       "      <th>13</th>\n",
       "      <td>.</td>\n",
       "      <td>O</td>\n",
       "    </tr>\n",
       "    <tr>\n",
       "      <th>14</th>\n",
       "      <td>The</td>\n",
       "      <td>O</td>\n",
       "    </tr>\n",
       "    <tr>\n",
       "      <th>15</th>\n",
       "      <td>adenomatous</td>\n",
       "      <td>B</td>\n",
       "    </tr>\n",
       "    <tr>\n",
       "      <th>16</th>\n",
       "      <td>polyposis</td>\n",
       "      <td>I</td>\n",
       "    </tr>\n",
       "    <tr>\n",
       "      <th>17</th>\n",
       "      <td>coli</td>\n",
       "      <td>I</td>\n",
       "    </tr>\n",
       "    <tr>\n",
       "      <th>18</th>\n",
       "      <td>(</td>\n",
       "      <td>I</td>\n",
       "    </tr>\n",
       "    <tr>\n",
       "      <th>19</th>\n",
       "      <td>APC</td>\n",
       "      <td>I</td>\n",
       "    </tr>\n",
       "  </tbody>\n",
       "</table>\n",
       "</div>"
      ],
      "text/plain": [
       "                 0  1\n",
       "0   Identification  O\n",
       "1               of  O\n",
       "2             APC2  O\n",
       "3                ,  O\n",
       "4                a  O\n",
       "5        homologue  O\n",
       "6               of  O\n",
       "7              the  O\n",
       "8      adenomatous  B\n",
       "9        polyposis  I\n",
       "10            coli  I\n",
       "11          tumour  I\n",
       "12      suppressor  O\n",
       "13               .  O\n",
       "14             The  O\n",
       "15     adenomatous  B\n",
       "16       polyposis  I\n",
       "17            coli  I\n",
       "18               (  I\n",
       "19             APC  I"
      ]
     },
     "execution_count": 3,
     "metadata": {},
     "output_type": "execute_result"
    }
   ],
   "source": [
    "train_dev_data.head(20)"
   ]
  },
  {
   "cell_type": "code",
   "execution_count": 4,
   "metadata": {},
   "outputs": [],
   "source": [
    "def load_data(file_path):\n",
    "    file = open(file_path, \"r\")\n",
    "    data, entities, sentence, unique_labels = [], [], [], []\n",
    "    for line in file:\n",
    "        line = line.strip(\"\\n\").split(\"\\t\")\n",
    "        \n",
    "        if len(line) > 1:\n",
    "            word = line[0]\n",
    "            label = line[1]\n",
    "            \n",
    "            sentence.append(word)\n",
    "            entities.append(label)\n",
    "            \n",
    "            if label not in unique_labels:\n",
    "                unique_labels.append(label)\n",
    "            \n",
    "        elif len(entities) > 0:\n",
    "            sentence = \" \".join(sentence)\n",
    "            data.append({\"sentence\" : sentence, \"entities\" : entities})\n",
    "            entities, sentence = [], []\n",
    "            \n",
    "    file.close()\n",
    "    return data, unique_labels"
   ]
  },
  {
   "cell_type": "code",
   "execution_count": 5,
   "metadata": {},
   "outputs": [],
   "source": [
    "filepath = \"NERdata/NCBI-disease/train_dev.tsv\"\n",
    "\n",
    "data, unq_labels = load_data(filepath)"
   ]
  },
  {
   "cell_type": "code",
   "execution_count": 6,
   "metadata": {},
   "outputs": [
    {
     "data": {
      "text/plain": [
       "{'sentence': 'Identification of APC2 , a homologue of the adenomatous polyposis coli tumour suppressor .',\n",
       " 'entities': ['O',\n",
       "  'O',\n",
       "  'O',\n",
       "  'O',\n",
       "  'O',\n",
       "  'O',\n",
       "  'O',\n",
       "  'O',\n",
       "  'B',\n",
       "  'I',\n",
       "  'I',\n",
       "  'I',\n",
       "  'O',\n",
       "  'O']}"
      ]
     },
     "execution_count": 6,
     "metadata": {},
     "output_type": "execute_result"
    }
   ],
   "source": [
    "data[0]"
   ]
  },
  {
   "cell_type": "code",
   "execution_count": 7,
   "metadata": {},
   "outputs": [
    {
     "data": {
      "text/plain": [
       "(6347, 3)"
      ]
     },
     "execution_count": 7,
     "metadata": {},
     "output_type": "execute_result"
    }
   ],
   "source": [
    "#Check how many datapoints and unique labels we have acquired from the dataset\n",
    "\n",
    "len(data), len(unq_labels)"
   ]
  },
  {
   "cell_type": "markdown",
   "metadata": {},
   "source": [
    "## Feature Engineering"
   ]
  },
  {
   "cell_type": "code",
   "execution_count": 8,
   "metadata": {},
   "outputs": [],
   "source": [
    "#Now we will make reference dictionaries for the text elements\n",
    "\n",
    "def get_mappings(data, word_ent):\n",
    "\n",
    "    if word_ent == \"word\":\n",
    "        vocab = list(set([i for x in data for i in x['sentence'].split()]))\n",
    "    elif word_ent == \"ent\":\n",
    "        vocab = list(set([i for x in data for i in x['entities']]))\n",
    "    \n",
    "    idx2tok = {idx:tok for  idx, tok in enumerate(vocab)}\n",
    "    tok2idx = {tok:idx for  idx, tok in enumerate(vocab)}\n",
    "    \n",
    "    return tok2idx, idx2tok\n",
    "\n",
    "\n",
    "word2idx, idx2word = get_mappings(data, \"word\")\n",
    "tag2idx, idx2tag = get_mappings(data, \"ent\")\n",
    "\n",
    "n_words = len(word2idx)"
   ]
  },
  {
   "cell_type": "code",
   "execution_count": 9,
   "metadata": {},
   "outputs": [],
   "source": [
    "# We will add a PAD token to consider padding during training\n",
    "\n",
    "word2idx[\"PAD\"] = n_words\n",
    "idx2word[n_words] = \"PAD\""
   ]
  },
  {
   "cell_type": "code",
   "execution_count": 10,
   "metadata": {},
   "outputs": [
    {
     "name": "stdout",
     "output_type": "stream",
     "text": [
      "There are 10057 unique words/elements in the corpus being considered\n"
     ]
    }
   ],
   "source": [
    "n_words = len(word2idx)\n",
    "\n",
    "print(\"There are {} unique words/elements in the corpus being considered\".format(n_words))"
   ]
  },
  {
   "cell_type": "markdown",
   "metadata": {},
   "source": [
    "For convenience let us create a Pandas df summarising all the reelvant data to this point"
   ]
  },
  {
   "cell_type": "code",
   "execution_count": 11,
   "metadata": {},
   "outputs": [],
   "source": [
    "columns = [\"Sentence\", \"Labels\", \"Word Tokens\", \"Label Tokens\"]\n",
    "\n",
    "data_df = []\n",
    "for i in range(len(data)):\n",
    "    #We want data in the form : [Sentence, Labels, Words Tokens, Label Tokens]\n",
    "    sentence = data[i]['sentence']\n",
    "    labels = data[i]['entities']\n",
    "    words = sentence.split()\n",
    "    word_tkns = [word2idx.get(i) for i in words]\n",
    "    label_tkns = [tag2idx.get(i) for i in labels]\n",
    "    \n",
    "    data_df.append([sentence, labels, word_tkns, label_tkns])\n",
    "    \n",
    "data_df = pd.DataFrame(data_df, columns = columns)"
   ]
  },
  {
   "cell_type": "code",
   "execution_count": 12,
   "metadata": {
    "scrolled": false
   },
   "outputs": [
    {
     "data": {
      "text/html": [
       "<div>\n",
       "<style scoped>\n",
       "    .dataframe tbody tr th:only-of-type {\n",
       "        vertical-align: middle;\n",
       "    }\n",
       "\n",
       "    .dataframe tbody tr th {\n",
       "        vertical-align: top;\n",
       "    }\n",
       "\n",
       "    .dataframe thead th {\n",
       "        text-align: right;\n",
       "    }\n",
       "</style>\n",
       "<table border=\"1\" class=\"dataframe\">\n",
       "  <thead>\n",
       "    <tr style=\"text-align: right;\">\n",
       "      <th></th>\n",
       "      <th>Sentence</th>\n",
       "      <th>Labels</th>\n",
       "      <th>Word Tokens</th>\n",
       "      <th>Label Tokens</th>\n",
       "    </tr>\n",
       "  </thead>\n",
       "  <tbody>\n",
       "    <tr>\n",
       "      <th>0</th>\n",
       "      <td>Identification of APC2 , a homologue of the ad...</td>\n",
       "      <td>[O, O, O, O, O, O, O, O, B, I, I, I, O, O]</td>\n",
       "      <td>[551, 2653, 3176, 8352, 8134, 7406, 2653, 8280...</td>\n",
       "      <td>[2, 2, 2, 2, 2, 2, 2, 2, 1, 0, 0, 0, 2, 2]</td>\n",
       "    </tr>\n",
       "    <tr>\n",
       "      <th>1</th>\n",
       "      <td>The adenomatous polyposis coli ( APC ) tumour ...</td>\n",
       "      <td>[O, B, I, I, I, I, I, I, O, O, O, O, O, O, O, ...</td>\n",
       "      <td>[977, 45, 6580, 2549, 53, 5071, 1300, 2797, 66...</td>\n",
       "      <td>[2, 1, 0, 0, 0, 0, 0, 0, 2, 2, 2, 2, 2, 2, 2, ...</td>\n",
       "    </tr>\n",
       "    <tr>\n",
       "      <th>2</th>\n",
       "      <td>Complex formation induces the rapid degradatio...</td>\n",
       "      <td>[O, O, O, O, O, O, O, O, O]</td>\n",
       "      <td>[106, 7772, 5225, 8280, 969, 303, 2653, 2517, ...</td>\n",
       "      <td>[2, 2, 2, 2, 2, 2, 2, 2, 2]</td>\n",
       "    </tr>\n",
       "    <tr>\n",
       "      <th>3</th>\n",
       "      <td>In colon carcinoma cells , loss of APC leads t...</td>\n",
       "      <td>[O, B, I, O, O, O, O, O, O, O, O, O, O, O, O, ...</td>\n",
       "      <td>[257, 2532, 2016, 8367, 8352, 4614, 2653, 5071...</td>\n",
       "      <td>[2, 1, 0, 2, 2, 2, 2, 2, 2, 2, 2, 2, 2, 2, 2, ...</td>\n",
       "    </tr>\n",
       "    <tr>\n",
       "      <th>4</th>\n",
       "      <td>Here , we report the identification and genomi...</td>\n",
       "      <td>[O, O, O, O, O, O, O, O, O, O, O, O, O]</td>\n",
       "      <td>[187, 8352, 7477, 3599, 8280, 2045, 4930, 8169...</td>\n",
       "      <td>[2, 2, 2, 2, 2, 2, 2, 2, 2, 2, 2, 2, 2]</td>\n",
       "    </tr>\n",
       "  </tbody>\n",
       "</table>\n",
       "</div>"
      ],
      "text/plain": [
       "                                            Sentence  \\\n",
       "0  Identification of APC2 , a homologue of the ad...   \n",
       "1  The adenomatous polyposis coli ( APC ) tumour ...   \n",
       "2  Complex formation induces the rapid degradatio...   \n",
       "3  In colon carcinoma cells , loss of APC leads t...   \n",
       "4  Here , we report the identification and genomi...   \n",
       "\n",
       "                                              Labels  \\\n",
       "0         [O, O, O, O, O, O, O, O, B, I, I, I, O, O]   \n",
       "1  [O, B, I, I, I, I, I, I, O, O, O, O, O, O, O, ...   \n",
       "2                        [O, O, O, O, O, O, O, O, O]   \n",
       "3  [O, B, I, O, O, O, O, O, O, O, O, O, O, O, O, ...   \n",
       "4            [O, O, O, O, O, O, O, O, O, O, O, O, O]   \n",
       "\n",
       "                                         Word Tokens  \\\n",
       "0  [551, 2653, 3176, 8352, 8134, 7406, 2653, 8280...   \n",
       "1  [977, 45, 6580, 2549, 53, 5071, 1300, 2797, 66...   \n",
       "2  [106, 7772, 5225, 8280, 969, 303, 2653, 2517, ...   \n",
       "3  [257, 2532, 2016, 8367, 8352, 4614, 2653, 5071...   \n",
       "4  [187, 8352, 7477, 3599, 8280, 2045, 4930, 8169...   \n",
       "\n",
       "                                        Label Tokens  \n",
       "0         [2, 2, 2, 2, 2, 2, 2, 2, 1, 0, 0, 0, 2, 2]  \n",
       "1  [2, 1, 0, 0, 0, 0, 0, 0, 2, 2, 2, 2, 2, 2, 2, ...  \n",
       "2                        [2, 2, 2, 2, 2, 2, 2, 2, 2]  \n",
       "3  [2, 1, 0, 2, 2, 2, 2, 2, 2, 2, 2, 2, 2, 2, 2, ...  \n",
       "4            [2, 2, 2, 2, 2, 2, 2, 2, 2, 2, 2, 2, 2]  "
      ]
     },
     "execution_count": 12,
     "metadata": {},
     "output_type": "execute_result"
    }
   ],
   "source": [
    "data_df.head()"
   ]
  },
  {
   "cell_type": "code",
   "execution_count": 13,
   "metadata": {},
   "outputs": [
    {
     "data": {
      "text/plain": [
       "<BarContainer object of 3 artists>"
      ]
     },
     "execution_count": 13,
     "metadata": {},
     "output_type": "execute_result"
    },
    {
     "data": {
      "image/png": "[encoded data removed]",
      "text/plain": [
       "<Figure size 432x288 with 1 Axes>"
      ]
     },
     "metadata": {
      "needs_background": "light"
     },
     "output_type": "display_data"
    }
   ],
   "source": [
    "from collections import Counter\n",
    "\n",
    "labels = [i for x in data_df[\"Labels\"].values for i in x]\n",
    "cnt = Counter(labels)\n",
    "plt.bar(cnt.keys(), cnt.values())"
   ]
  },
  {
   "cell_type": "markdown",
   "metadata": {},
   "source": [
    "Dataset is heavily unbalanced as expected hence we must use relevant metrics to appropriately train and evaluate models going forward. Let us remove sentences where we only come across a single label i.e. only \"O\""
   ]
  },
  {
   "cell_type": "code",
   "execution_count": 14,
   "metadata": {},
   "outputs": [],
   "source": [
    "del train_dev_data, data"
   ]
  },
  {
   "cell_type": "markdown",
   "metadata": {},
   "source": [
    "Let us look at the sentence lengths and find an appropriate padding length"
   ]
  },
  {
   "cell_type": "code",
   "execution_count": 15,
   "metadata": {},
   "outputs": [
    {
     "data": {
      "image/png": "[encoded data removed]",
      "text/plain": [
       "<Figure size 432x288 with 1 Axes>"
      ]
     },
     "metadata": {
      "needs_background": "light"
     },
     "output_type": "display_data"
    },
    {
     "data": {
      "text/plain": [
       "count    6347.000000\n",
       "mean       25.156767\n",
       "std        12.523920\n",
       "min         2.000000\n",
       "25%        16.000000\n",
       "50%        23.000000\n",
       "75%        32.000000\n",
       "max       123.000000\n",
       "Name: Word Tokens, dtype: float64"
      ]
     },
     "execution_count": 15,
     "metadata": {},
     "output_type": "execute_result"
    }
   ],
   "source": [
    "lengths = data_df['Word Tokens'].map(len)\n",
    "\n",
    "lengths.hist()\n",
    "plt.show()\n",
    "\n",
    "lengths.describe()"
   ]
  },
  {
   "cell_type": "code",
   "execution_count": 16,
   "metadata": {},
   "outputs": [],
   "source": [
    "VEC_DIM = 123\n",
    "\n",
    "padded_sentences = pad_sequences(data_df[\"Word Tokens\"], maxlen=VEC_DIM, dtype='int32', padding='post', truncating='post', value= n_words - 1)\n",
    "padded_labels = pad_sequences(data_df[\"Label Tokens\"], maxlen = VEC_DIM, dtype='int32', padding='post', truncating='post', value= tag2idx[\"O\"])\n",
    "padded_labels = np.array([to_categorical(i, num_classes = len(tag2idx)) for i in padded_labels])\n",
    "\n",
    "no_samples = np.shape(padded_sentences)[0]"
   ]
  },
  {
   "cell_type": "code",
   "execution_count": 17,
   "metadata": {},
   "outputs": [],
   "source": [
    "idx = list(range(no_samples))\n",
    "\n",
    "train_idx, val_test_idx = train_test_split(idx, test_size = 0.6, shuffle = True, random_state = 2021)\n",
    "val_idx, test_idx = train_test_split(val_test_idx, test_size = 0.5)\n",
    "\n",
    "train_sent, train_labels = padded_sentences[train_idx], padded_labels[train_idx]\n",
    "val_sent, val_labels = padded_sentences[val_idx], padded_labels[val_idx]\n",
    "test_sent, test_labels = padded_sentences[test_idx], padded_labels[test_idx]"
   ]
  },
  {
   "cell_type": "markdown",
   "metadata": {},
   "source": [
    "## Build Model"
   ]
  },
  {
   "cell_type": "code",
   "execution_count": 32,
   "metadata": {},
   "outputs": [],
   "source": [
    "def get_model(vocab_size, input_shape, lr = 0.001):\n",
    "    EMB_DIM = 64\n",
    "\n",
    "    inputs = Input(shape = (input_shape,))\n",
    "\n",
    "    emb = Embedding(input_dim=vocab_size + 1, output_dim=EMB_DIM, trainable = True, name = \"embed\")\n",
    "    lstm = Bidirectional(LSTM(units=EMB_DIM, return_sequences=True, dropout=0.2), merge_mode = 'concat', name = \"bilstm\")\n",
    "    tdd = TimeDistributed(Dense(3, activation=\"softmax\"), name = \"tdd\")\n",
    "    \n",
    "    x = emb(inputs)\n",
    "    x = lstm(x)\n",
    "    output = tdd(x)\n",
    "\n",
    "    model = Model(inputs, output)\n",
    "\n",
    "    model.compile(loss='categorical_crossentropy', optimizer=Adam(lr=lr, beta_1=0.9, beta_2=0.999), metrics=['accuracy'])\n",
    "    model.summary()\n",
    "    \n",
    "    return model"
   ]
  },
  {
   "cell_type": "code",
   "execution_count": 33,
   "metadata": {},
   "outputs": [
    {
     "name": "stdout",
     "output_type": "stream",
     "text": [
      "Model: \"model_1\"\n",
      "_________________________________________________________________\n",
      "Layer (type)                 Output Shape              Param #   \n",
      "=================================================================\n",
      "input_2 (InputLayer)         [(None, 123)]             0         \n",
      "_________________________________________________________________\n",
      "embed (Embedding)            (None, 123, 64)           643712    \n",
      "_________________________________________________________________\n",
      "bilstm (Bidirectional)       (None, 123, 128)          66048     \n",
      "_________________________________________________________________\n",
      "tdd (TimeDistributed)        (None, 123, 3)            387       \n",
      "=================================================================\n",
      "Total params: 710,147\n",
      "Trainable params: 710,147\n",
      "Non-trainable params: 0\n",
      "_________________________________________________________________\n"
     ]
    }
   ],
   "source": [
    "model = get_model(n_words, VEC_DIM)"
   ]
  },
  {
   "cell_type": "code",
   "execution_count": 34,
   "metadata": {
    "scrolled": true
   },
   "outputs": [
    {
     "name": "stdout",
     "output_type": "stream",
     "text": [
      "Train on 2538 samples, validate on 1904 samples\n",
      "Epoch 1/20\n",
      "2538/2538 [==============================] - 9s 3ms/sample - loss: 0.5248 - accuracy: 0.9210 - val_loss: 0.1067 - val_accuracy: 0.9827\n",
      "Epoch 2/20\n",
      "2538/2538 [==============================] - 6s 2ms/sample - loss: 0.1004 - accuracy: 0.9830 - val_loss: 0.0854 - val_accuracy: 0.9827\n",
      "Epoch 3/20\n",
      "2538/2538 [==============================] - 5s 2ms/sample - loss: 0.0783 - accuracy: 0.9830 - val_loss: 0.0758 - val_accuracy: 0.9827\n",
      "Epoch 4/20\n",
      "2538/2538 [==============================] - 5s 2ms/sample - loss: 0.0690 - accuracy: 0.9830 - val_loss: 0.0694 - val_accuracy: 0.9827\n",
      "Epoch 5/20\n",
      "2538/2538 [==============================] - 5s 2ms/sample - loss: 0.0639 - accuracy: 0.9830 - val_loss: 0.0665 - val_accuracy: 0.9827\n",
      "Epoch 6/20\n",
      "2538/2538 [==============================] - 5s 2ms/sample - loss: 0.0596 - accuracy: 0.9830 - val_loss: 0.0629 - val_accuracy: 0.9827\n",
      "Epoch 7/20\n",
      "2538/2538 [==============================] - 5s 2ms/sample - loss: 0.0545 - accuracy: 0.9830 - val_loss: 0.0576 - val_accuracy: 0.9827\n",
      "Epoch 8/20\n",
      "2538/2538 [==============================] - 5s 2ms/sample - loss: 0.0481 - accuracy: 0.9831 - val_loss: 0.0503 - val_accuracy: 0.9830\n",
      "Epoch 9/20\n",
      "2538/2538 [==============================] - 5s 2ms/sample - loss: 0.0412 - accuracy: 0.9845 - val_loss: 0.0444 - val_accuracy: 0.9849\n",
      "Epoch 10/20\n",
      "2538/2538 [==============================] - 5s 2ms/sample - loss: 0.0347 - accuracy: 0.9867 - val_loss: 0.0394 - val_accuracy: 0.9863\n",
      "Epoch 11/20\n",
      "2538/2538 [==============================] - 5s 2ms/sample - loss: 0.0295 - accuracy: 0.9883 - val_loss: 0.0359 - val_accuracy: 0.9875\n",
      "Epoch 12/20\n",
      "2538/2538 [==============================] - 6s 2ms/sample - loss: 0.0256 - accuracy: 0.9899 - val_loss: 0.0335 - val_accuracy: 0.9887\n",
      "Epoch 13/20\n",
      "2538/2538 [==============================] - 5s 2ms/sample - loss: 0.0225 - accuracy: 0.9913 - val_loss: 0.0330 - val_accuracy: 0.9891\n",
      "Epoch 14/20\n",
      "2538/2538 [==============================] - 5s 2ms/sample - loss: 0.0201 - accuracy: 0.9925 - val_loss: 0.0321 - val_accuracy: 0.9896\n",
      "Epoch 15/20\n",
      "2538/2538 [==============================] - 5s 2ms/sample - loss: 0.0182 - accuracy: 0.9933 - val_loss: 0.0311 - val_accuracy: 0.9902\n",
      "Epoch 16/20\n",
      "2538/2538 [==============================] - 5s 2ms/sample - loss: 0.0165 - accuracy: 0.9941 - val_loss: 0.0309 - val_accuracy: 0.9905\n",
      "Epoch 17/20\n",
      "2538/2538 [==============================] - 5s 2ms/sample - loss: 0.0150 - accuracy: 0.9948 - val_loss: 0.0309 - val_accuracy: 0.9909\n",
      "Epoch 18/20\n",
      "2538/2538 [==============================] - 5s 2ms/sample - loss: 0.0136 - accuracy: 0.9954 - val_loss: 0.0298 - val_accuracy: 0.9914\n",
      "Epoch 19/20\n",
      "2538/2538 [==============================] - 5s 2ms/sample - loss: 0.0123 - accuracy: 0.9960 - val_loss: 0.0293 - val_accuracy: 0.9919\n",
      "Epoch 20/20\n",
      "2538/2538 [==============================] - 5s 2ms/sample - loss: 0.0111 - accuracy: 0.9965 - val_loss: 0.0313 - val_accuracy: 0.9919\n"
     ]
    }
   ],
   "source": [
    "file_path = \"mer.h5\"\n",
    "BATCH_SIZE = 128\n",
    "\n",
    "checkpoint = ModelCheckpoint(file_path, monitor='val_loss', verbose=1, save_best_only=True, mode='min')\n",
    "es = EarlyStopping(monitor='val_loss', mode='min', verbose=1, patience=5)\n",
    "reduce_ = ReduceLROnPlateau(monitor=\"val_loss\", mode='min', patience=5, min_lr=1e-8)\n",
    "\n",
    "history = model.fit(train_sent, train_labels, batch_size = BATCH_SIZE, validation_data= (val_sent, val_labels), epochs = 20)#, callbacks=[es, checkpoint, reduce_], verbose = 1)\n",
    "model.save_weights(file_path)"
   ]
  },
  {
   "cell_type": "code",
   "execution_count": 23,
   "metadata": {},
   "outputs": [
    {
     "data": {
      "text/plain": [
       "[<matplotlib.lines.Line2D at 0x1385d4b10>]"
      ]
     },
     "execution_count": 23,
     "metadata": {},
     "output_type": "execute_result"
    },
    {
     "data": {
      "image/png": "[encoded data removed]",
      "text/plain": [
       "<Figure size 432x288 with 1 Axes>"
      ]
     },
     "metadata": {
      "needs_background": "light"
     },
     "output_type": "display_data"
    }
   ],
   "source": [
    "plt.plot(history.history['val_loss'])\n",
    "plt.plot(history.history['loss'])"
   ]
  },
  {
   "cell_type": "code",
   "execution_count": 24,
   "metadata": {},
   "outputs": [
    {
     "name": "stdout",
     "output_type": "stream",
     "text": [
      "1905/1905 [==============================] - 1s 673us/sample - loss: 0.0256 - accuracy: 0.9931\n"
     ]
    }
   ],
   "source": [
    "loss, acc = model.evaluate(test_sent, test_labels)"
   ]
  },
  {
   "cell_type": "code",
   "execution_count": 25,
   "metadata": {},
   "outputs": [],
   "source": [
    "preds = model.predict(test_sent)"
   ]
  },
  {
   "cell_type": "code",
   "execution_count": 26,
   "metadata": {},
   "outputs": [
    {
     "data": {
      "text/plain": [
       "((1905, 123, 3), (1905, 123, 3))"
      ]
     },
     "execution_count": 26,
     "metadata": {},
     "output_type": "execute_result"
    }
   ],
   "source": [
    "np.shape(test_labels), np.shape(preds)"
   ]
  },
  {
   "cell_type": "code",
   "execution_count": 31,
   "metadata": {},
   "outputs": [
    {
     "data": {
      "text/plain": [
       "Counter({'O': 231139, 'B': 1493, 'I': 1683})"
      ]
     },
     "execution_count": 31,
     "metadata": {},
     "output_type": "execute_result"
    }
   ],
   "source": [
    "pred_labels = [idx2tag[np.argmax(x)] for i in preds for x in i]\n",
    "Counter(pred_labels)"
   ]
  },
  {
   "cell_type": "code",
   "execution_count": 28,
   "metadata": {
    "scrolled": true
   },
   "outputs": [],
   "source": [
    "test_single_labels = [idx2tag[np.argmax(i)] for x in test_labels for i in x]"
   ]
  },
  {
   "cell_type": "code",
   "execution_count": 36,
   "metadata": {},
   "outputs": [
    {
     "name": "stdout",
     "output_type": "stream",
     "text": [
      "              precision    recall  f1-score   support\n",
      "\n",
      "           I       0.66      0.80      0.72      1683\n",
      "           B       0.67      0.77      0.72      1493\n",
      "\n",
      "   micro avg       0.66      0.79      0.72      3176\n",
      "   macro avg       0.67      0.79      0.72      3176\n",
      "weighted avg       0.66      0.79      0.72      3176\n",
      "\n"
     ]
    }
   ],
   "source": [
    "from sklearn.metrics import classification_report\n",
    "\n",
    "print(classification_report(pred_labels, test_single_labels, labels = [\"I\", \"B\"]))"
   ]
  },
  {
   "cell_type": "code",
   "execution_count": null,
   "metadata": {},
   "outputs": [],
   "source": []
  }
 ],
 "metadata": {
  "kernelspec": {
   "display_name": "Python 3",
   "language": "python",
   "name": "python3"
  },
  "language_info": {
   "codemirror_mode": {
    "name": "ipython",
    "version": 3
   },
   "file_extension": ".py",
   "mimetype": "text/x-python",
   "name": "python",
   "nbconvert_exporter": "python",
   "pygments_lexer": "ipython3",
   "version": "3.7.4"
  }
 },
 "nbformat": 4,
 "nbformat_minor": 2
}
