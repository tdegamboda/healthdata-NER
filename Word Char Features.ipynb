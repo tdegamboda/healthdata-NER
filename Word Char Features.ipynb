{
 "cells": [
  {
   "cell_type": "markdown",
   "metadata": {},
   "source": [
    "# CNN-BiLSTM-CRF"
   ]
  },
  {
   "cell_type": "markdown",
   "metadata": {},
   "source": [
    "This notebook is based on the work of \"End-to-end Sequence Labelling via Bidirectional LSTM-CNNs-CRF https://arxiv.org/pdf/1603.01354.pdf"
   ]
  },
  {
   "cell_type": "code",
   "execution_count": 41,
   "metadata": {},
   "outputs": [],
   "source": [
    "import pandas as pd\n",
    "import numpy as np\n",
    "import matplotlib.pyplot as plt\n",
    "%matplotlib inline\n",
    "import seaborn as sns\n",
    "\n",
    "from collections import Counter\n",
    "\n",
    "from sklearn.model_selection import train_test_split\n",
    "from sklearn.metrics import classification_report\n",
    "\n",
    "import tensorflow as tf\n",
    "import tensorflow.keras.backend as K\n",
    "import tensorflow_addons as tfa\n",
    "\n",
    "from keras.preprocessing.sequence import pad_sequences\n",
    "from keras.utils import to_categorical\n",
    "\n",
    "from tensorflow.keras import Sequential, Model, Input\n",
    "from tensorflow.keras.layers import LSTM, concatenate, Embedding, Dense, TimeDistributed, InputSpec, Dropout, Bidirectional, Layer, Conv1D, SpatialDropout1D,GlobalMaxPooling1D, Concatenate\n",
    "from tensorflow.keras.utils import plot_model\n",
    "from tensorflow.keras.callbacks import ModelCheckpoint, ReduceLROnPlateau, EarlyStopping\n",
    "from tensorflow.keras.optimizers import Adam, SGD\n",
    "from tensorflow_addons.text import crf_decode, crf_log_likelihood\n",
    "\n",
    "# from keras_contrib.losses import crf_loss\n",
    "# from keras_contrib.metrics import crf_accuracy\n",
    "\n",
    "from tf2crf import CRF, ModelWithCRFLoss, ModelWithCRFLossDSCLoss"
   ]
  },
  {
   "cell_type": "code",
   "execution_count": 2,
   "metadata": {},
   "outputs": [],
   "source": [
    "def load_data(file_path):\n",
    "    file = open(file_path, \"r\")\n",
    "    data, entities, sentence, unique_labels = [], [], [], []\n",
    "    for line in file:\n",
    "        line = line.strip(\"\\n\").split(\"\\t\")\n",
    "        \n",
    "        if len(line) > 1:\n",
    "            word = line[0]\n",
    "            label = line[1]\n",
    "            \n",
    "            sentence.append(word)\n",
    "            entities.append(label)\n",
    "            \n",
    "            if label not in unique_labels:\n",
    "                unique_labels.append(label)\n",
    "            \n",
    "        elif len(entities) > 0:\n",
    "            sentence = \" \".join(sentence)\n",
    "            data.append({\"sentence\" : sentence, \"entities\" : entities})\n",
    "            entities, sentence = [], []\n",
    "            \n",
    "    file.close()\n",
    "    return data, unique_labels"
   ]
  },
  {
   "cell_type": "code",
   "execution_count": 3,
   "metadata": {},
   "outputs": [],
   "source": [
    "train_dev_filepath = \"NERdata/NCBI-disease/train_dev.tsv\"\n",
    "test_filepath = \"NERdata/NCBI-disease/test.tsv\"\n",
    "\n",
    "train_data, train_unq_labels = load_data(train_dev_filepath)\n",
    "test_data, _ = load_data(test_filepath)\n",
    "\n",
    "data = train_data + test_data"
   ]
  },
  {
   "cell_type": "code",
   "execution_count": 4,
   "metadata": {},
   "outputs": [
    {
     "data": {
      "text/plain": [
       "{'sentence': 'Identification of APC2 , a homologue of the adenomatous polyposis coli tumour suppressor .',\n",
       " 'entities': ['O',\n",
       "  'O',\n",
       "  'O',\n",
       "  'O',\n",
       "  'O',\n",
       "  'O',\n",
       "  'O',\n",
       "  'O',\n",
       "  'B',\n",
       "  'I',\n",
       "  'I',\n",
       "  'I',\n",
       "  'O',\n",
       "  'O']}"
      ]
     },
     "execution_count": 4,
     "metadata": {},
     "output_type": "execute_result"
    }
   ],
   "source": [
    "data[0]"
   ]
  },
  {
   "cell_type": "code",
   "execution_count": 5,
   "metadata": {},
   "outputs": [
    {
     "data": {
      "text/plain": [
       "(7287, 3)"
      ]
     },
     "execution_count": 5,
     "metadata": {},
     "output_type": "execute_result"
    }
   ],
   "source": [
    "#Check how many datapoints and unique labels we have acquired from the dataset\n",
    "\n",
    "len(data), len(train_unq_labels)"
   ]
  },
  {
   "cell_type": "code",
   "execution_count": 6,
   "metadata": {},
   "outputs": [],
   "source": [
    "#Now we will make reference dictionaries for the text elements\n",
    "\n",
    "def get_mappings(data, word_ent):\n",
    "\n",
    "    if word_ent == \"word\" or word_ent == \"char\":\n",
    "        vocab = Counter([i for x in data for i in x['sentence'].split()])\n",
    "        if word_ent == \"char\":\n",
    "            vocab = Counter([i for x in vocab for i in list(x)])\n",
    "    elif word_ent == \"ent\":\n",
    "        vocab = Counter([i for x in data for i in x['entities']])\n",
    "    \n",
    "    vocab = [i[0] for i in vocab.most_common()]\n",
    "    \n",
    "    idx2tok = {idx:tok for idx, tok in enumerate(vocab, 1)}\n",
    "    tok2idx = {tok:idx for  idx, tok in enumerate(vocab, 1)}\n",
    "    \n",
    "    return tok2idx, idx2tok\n",
    "\n",
    "\n",
    "word2idx, idx2word = get_mappings(data, \"word\")\n",
    "char2idx, idx2char = get_mappings(data, \"char\")\n",
    "tag2idx, idx2tag = get_mappings(data, \"ent\")\n",
    "\n",
    "n_words = len(word2idx)\n",
    "n_chars = len(char2idx)"
   ]
  },
  {
   "cell_type": "code",
   "execution_count": 7,
   "metadata": {},
   "outputs": [],
   "source": [
    "# We will add a PAD token to consider padding during training\n",
    "\n",
    "word2idx[\"UNK\"] = n_words + 1\n",
    "idx2word[n_words + 1] = \"UNK\"\n",
    "\n",
    "word2idx[\"PAD\"] = 0\n",
    "idx2word[0] = \"PAD\"\n",
    "\n",
    "char2idx[\"UNK\"] = n_chars + 1\n",
    "idx2char[n_chars + 1] = \"UNK\"\n",
    "\n",
    "char2idx[\"PAD\"] = 0\n",
    "idx2char[0] = \"PAD\"\n",
    "\n",
    "# tag2idx[\"PAD\"] = 0\n",
    "# idx2tag[0] = \"PAD\"\n",
    "\n",
    "\n",
    "assert len(word2idx) == len(idx2word) and len(char2idx) == len(idx2char)"
   ]
  },
  {
   "cell_type": "code",
   "execution_count": 8,
   "metadata": {
    "scrolled": true
   },
   "outputs": [
    {
     "data": {
      "text/plain": [
       "{'O': 1, 'I': 2, 'B': 3}"
      ]
     },
     "execution_count": 8,
     "metadata": {},
     "output_type": "execute_result"
    }
   ],
   "source": [
    "tag2idx"
   ]
  },
  {
   "cell_type": "code",
   "execution_count": 9,
   "metadata": {},
   "outputs": [],
   "source": [
    "tag2idx = {i:x for x, i in enumerate(tag2idx.keys())}\n",
    "idx2tag = {i:x for x, i in tag2idx.items()}"
   ]
  },
  {
   "cell_type": "code",
   "execution_count": 10,
   "metadata": {},
   "outputs": [
    {
     "data": {
      "text/plain": [
       "({'O': 0, 'I': 1, 'B': 2}, {0: 'O', 1: 'I', 2: 'B'})"
      ]
     },
     "execution_count": 10,
     "metadata": {},
     "output_type": "execute_result"
    }
   ],
   "source": [
    "tag2idx, idx2tag"
   ]
  },
  {
   "cell_type": "code",
   "execution_count": 11,
   "metadata": {},
   "outputs": [
    {
     "name": "stdout",
     "output_type": "stream",
     "text": [
      "There are 10820 unique words/elements in the corpus being considered\n"
     ]
    }
   ],
   "source": [
    "n_words = len(word2idx)\n",
    "n_chars = len(char2idx)\n",
    "\n",
    "print(\"There are {} unique words/elements in the corpus being considered\".format(n_words))"
   ]
  },
  {
   "cell_type": "markdown",
   "metadata": {},
   "source": [
    "For convenience let us create a Pandas df summarising all the relevant data to this point"
   ]
  },
  {
   "cell_type": "code",
   "execution_count": 12,
   "metadata": {},
   "outputs": [],
   "source": [
    "columns = [\"Sentence\", \"Labels\", \"Word Tokens\", \"Label Tokens\", \"Character Tokens\"]\n",
    "\n",
    "data_df = []\n",
    "for i in range(len(data)):\n",
    "    #We want data in the form : [Sentence, Labels, Words Tokens, Label Tokens]\n",
    "    sentence = data[i]['sentence']\n",
    "    labels = data[i]['entities']\n",
    "    words = sentence.split()\n",
    "    chars = [list(i) for i in words]\n",
    "    word_tkns = [word2idx.get(i) for i in words]\n",
    "    label_tkns = [tag2idx.get(i) for i in labels]\n",
    "    char_tkns = [list(map(char2idx.get, i)) for i in chars]\n",
    "    \n",
    "    data_df.append([sentence, labels, word_tkns, label_tkns, char_tkns])\n",
    "    \n",
    "data_df = pd.DataFrame(data_df, columns = columns)"
   ]
  },
  {
   "cell_type": "code",
   "execution_count": 13,
   "metadata": {},
   "outputs": [
    {
     "data": {
      "text/html": [
       "<div>\n",
       "<style scoped>\n",
       "    .dataframe tbody tr th:only-of-type {\n",
       "        vertical-align: middle;\n",
       "    }\n",
       "\n",
       "    .dataframe tbody tr th {\n",
       "        vertical-align: top;\n",
       "    }\n",
       "\n",
       "    .dataframe thead th {\n",
       "        text-align: right;\n",
       "    }\n",
       "</style>\n",
       "<table border=\"1\" class=\"dataframe\">\n",
       "  <thead>\n",
       "    <tr style=\"text-align: right;\">\n",
       "      <th></th>\n",
       "      <th>Sentence</th>\n",
       "      <th>Labels</th>\n",
       "      <th>Word Tokens</th>\n",
       "      <th>Label Tokens</th>\n",
       "      <th>Character Tokens</th>\n",
       "    </tr>\n",
       "  </thead>\n",
       "  <tbody>\n",
       "    <tr>\n",
       "      <th>0</th>\n",
       "      <td>Identification of APC2 , a homologue of the ad...</td>\n",
       "      <td>[O, O, O, O, O, O, O, O, B, I, I, I, O, O]</td>\n",
       "      <td>[777, 3, 2888, 4, 8, 778, 3, 2, 335, 280, 532,...</td>\n",
       "      <td>[0, 0, 0, 0, 0, 0, 0, 0, 2, 1, 1, 1, 0, 0]</td>\n",
       "      <td>[[37, 11, 1, 4, 6, 2, 20, 2, 10, 3, 6, 2, 5, 4...</td>\n",
       "    </tr>\n",
       "    <tr>\n",
       "      <th>1</th>\n",
       "      <td>The adenomatous polyposis coli ( APC ) tumour ...</td>\n",
       "      <td>[O, B, I, I, I, I, I, I, O, O, O, O, O, O, O, ...</td>\n",
       "      <td>[18, 335, 280, 532, 10, 115, 9, 507, 6, 355, 3...</td>\n",
       "      <td>[0, 2, 1, 1, 1, 1, 1, 1, 0, 0, 0, 0, 0, 0, 0, ...</td>\n",
       "      <td>[[34, 17, 1], [3, 11, 1, 4, 5, 13, 3, 6, 5, 14...</td>\n",
       "    </tr>\n",
       "    <tr>\n",
       "      <th>2</th>\n",
       "      <td>Complex formation induces the rapid degradatio...</td>\n",
       "      <td>[O, O, O, O, O, O, O, O, O]</td>\n",
       "      <td>[4814, 623, 3363, 2, 1036, 2889, 3, 3362, 1]</td>\n",
       "      <td>[0, 0, 0, 0, 0, 0, 0, 0, 0]</td>\n",
       "      <td>[[24, 5, 13, 12, 9, 1, 32], [20, 5, 7, 13, 3, ...</td>\n",
       "    </tr>\n",
       "    <tr>\n",
       "      <th>3</th>\n",
       "      <td>In colon carcinoma cells , loss of APC leads t...</td>\n",
       "      <td>[O, B, I, O, O, O, O, O, O, O, O, O, O, O, O, ...</td>\n",
       "      <td>[51, 1577, 578, 84, 4, 160, 3, 115, 872, 11, 2...</td>\n",
       "      <td>[0, 2, 1, 0, 0, 0, 0, 0, 0, 0, 0, 0, 0, 0, 0, ...</td>\n",
       "      <td>[[37, 4], [10, 5, 9, 5, 4], [10, 3, 7, 10, 2, ...</td>\n",
       "    </tr>\n",
       "    <tr>\n",
       "      <th>4</th>\n",
       "      <td>Here , we report the identification and genomi...</td>\n",
       "      <td>[O, O, O, O, O, O, O, O, O, O, O, O, O]</td>\n",
       "      <td>[368, 4, 54, 149, 2, 397, 7, 197, 517, 3, 115,...</td>\n",
       "      <td>[0, 0, 0, 0, 0, 0, 0, 0, 0, 0, 0, 0, 0]</td>\n",
       "      <td>[[43, 1, 7, 1], [63], [44, 1], [7, 1, 12, 5, 7...</td>\n",
       "    </tr>\n",
       "  </tbody>\n",
       "</table>\n",
       "</div>"
      ],
      "text/plain": [
       "                                            Sentence  \\\n",
       "0  Identification of APC2 , a homologue of the ad...   \n",
       "1  The adenomatous polyposis coli ( APC ) tumour ...   \n",
       "2  Complex formation induces the rapid degradatio...   \n",
       "3  In colon carcinoma cells , loss of APC leads t...   \n",
       "4  Here , we report the identification and genomi...   \n",
       "\n",
       "                                              Labels  \\\n",
       "0         [O, O, O, O, O, O, O, O, B, I, I, I, O, O]   \n",
       "1  [O, B, I, I, I, I, I, I, O, O, O, O, O, O, O, ...   \n",
       "2                        [O, O, O, O, O, O, O, O, O]   \n",
       "3  [O, B, I, O, O, O, O, O, O, O, O, O, O, O, O, ...   \n",
       "4            [O, O, O, O, O, O, O, O, O, O, O, O, O]   \n",
       "\n",
       "                                         Word Tokens  \\\n",
       "0  [777, 3, 2888, 4, 8, 778, 3, 2, 335, 280, 532,...   \n",
       "1  [18, 335, 280, 532, 10, 115, 9, 507, 6, 355, 3...   \n",
       "2       [4814, 623, 3363, 2, 1036, 2889, 3, 3362, 1]   \n",
       "3  [51, 1577, 578, 84, 4, 160, 3, 115, 872, 11, 2...   \n",
       "4  [368, 4, 54, 149, 2, 397, 7, 197, 517, 3, 115,...   \n",
       "\n",
       "                                        Label Tokens  \\\n",
       "0         [0, 0, 0, 0, 0, 0, 0, 0, 2, 1, 1, 1, 0, 0]   \n",
       "1  [0, 2, 1, 1, 1, 1, 1, 1, 0, 0, 0, 0, 0, 0, 0, ...   \n",
       "2                        [0, 0, 0, 0, 0, 0, 0, 0, 0]   \n",
       "3  [0, 2, 1, 0, 0, 0, 0, 0, 0, 0, 0, 0, 0, 0, 0, ...   \n",
       "4            [0, 0, 0, 0, 0, 0, 0, 0, 0, 0, 0, 0, 0]   \n",
       "\n",
       "                                    Character Tokens  \n",
       "0  [[37, 11, 1, 4, 6, 2, 20, 2, 10, 3, 6, 2, 5, 4...  \n",
       "1  [[34, 17, 1], [3, 11, 1, 4, 5, 13, 3, 6, 5, 14...  \n",
       "2  [[24, 5, 13, 12, 9, 1, 32], [20, 5, 7, 13, 3, ...  \n",
       "3  [[37, 4], [10, 5, 9, 5, 4], [10, 3, 7, 10, 2, ...  \n",
       "4  [[43, 1, 7, 1], [63], [44, 1], [7, 1, 12, 5, 7...  "
      ]
     },
     "execution_count": 13,
     "metadata": {},
     "output_type": "execute_result"
    }
   ],
   "source": [
    "data_df.head()"
   ]
  },
  {
   "cell_type": "code",
   "execution_count": 14,
   "metadata": {},
   "outputs": [
    {
     "data": {
      "text/plain": [
       "<BarContainer object of 3 artists>"
      ]
     },
     "execution_count": 14,
     "metadata": {},
     "output_type": "execute_result"
    },
    {
     "data": {
      "image/png": "[encoded data removed]",
      "text/plain": [
       "<Figure size 432x288 with 1 Axes>"
      ]
     },
     "metadata": {
      "needs_background": "light"
     },
     "output_type": "display_data"
    }
   ],
   "source": [
    "from collections import Counter\n",
    "\n",
    "labels = [i for x in data_df[\"Labels\"].values for i in x]\n",
    "cnt = Counter(labels)\n",
    "plt.bar(cnt.keys(), cnt.values())"
   ]
  },
  {
   "cell_type": "code",
   "execution_count": 15,
   "metadata": {},
   "outputs": [
    {
     "data": {
      "image/png": "[encoded data removed]",
      "text/plain": [
       "<Figure size 432x288 with 1 Axes>"
      ]
     },
     "metadata": {
      "needs_background": "light"
     },
     "output_type": "display_data"
    },
    {
     "data": {
      "text/plain": [
       "count    7287.000000\n",
       "mean       25.273364\n",
       "std        12.583760\n",
       "min         2.000000\n",
       "25%        17.000000\n",
       "50%        23.000000\n",
       "75%        32.000000\n",
       "max       123.000000\n",
       "Name: Word Tokens, dtype: float64"
      ]
     },
     "execution_count": 15,
     "metadata": {},
     "output_type": "execute_result"
    }
   ],
   "source": [
    "lengths = data_df['Word Tokens'].map(len)\n",
    "\n",
    "lengths.hist()\n",
    "plt.show()\n",
    "\n",
    "lengths.describe()"
   ]
  },
  {
   "cell_type": "code",
   "execution_count": 16,
   "metadata": {},
   "outputs": [
    {
     "data": {
      "image/png": "[encoded data removed]",
      "text/plain": [
       "<Figure size 432x288 with 1 Axes>"
      ]
     },
     "metadata": {
      "needs_background": "light"
     },
     "output_type": "display_data"
    },
    {
     "data": {
      "text/plain": [
       "count    184167.000000\n",
       "mean          4.682104\n",
       "std           3.334064\n",
       "min           1.000000\n",
       "25%           2.000000\n",
       "50%           4.000000\n",
       "75%           7.000000\n",
       "max          26.000000\n",
       "dtype: float64"
      ]
     },
     "execution_count": 16,
     "metadata": {},
     "output_type": "execute_result"
    }
   ],
   "source": [
    "words = data_df[\"Character Tokens\"]\n",
    "word_lengths = pd.Series([len(x) for i in words for x in i])\n",
    "\n",
    "word_lengths.hist()\n",
    "plt.show()\n",
    "\n",
    "word_lengths.describe()"
   ]
  },
  {
   "cell_type": "code",
   "execution_count": 17,
   "metadata": {},
   "outputs": [],
   "source": [
    "MAX_CHAR = 26\n",
    "MAX_WORD = 123\n",
    "\n",
    "padded_sentences = pad_sequences(data_df[\"Word Tokens\"], maxlen=MAX_WORD, dtype='int32', padding='post', truncating='post', value= word2idx[\"PAD\"])\n",
    "padded_labels = pad_sequences(data_df[\"Label Tokens\"], maxlen = MAX_WORD, dtype='int32', padding='post', truncating='post', value= tag2idx[\"O\"])\n",
    "padded_labels = np.array([to_categorical(i, num_classes = len(tag2idx)) for i in padded_labels])\n",
    "padded_chars = [pad_sequences(x, maxlen = MAX_CHAR, dtype = 'int32', padding = 'post', truncating = 'post', value= char2idx[\"PAD\"]) for x in data_df[\"Character Tokens\"]]\n",
    "padded_chars = pad_sequences(padded_chars, maxlen = MAX_WORD, padding = 'post', value = [0]*MAX_CHAR)\n",
    "\n",
    "no_samples = np.shape(padded_sentences)[0]"
   ]
  },
  {
   "cell_type": "code",
   "execution_count": 18,
   "metadata": {},
   "outputs": [],
   "source": [
    "idx = list(range(no_samples))\n",
    "\n",
    "train_idx, val_test_idx = train_test_split(idx, test_size = 0.6, shuffle = True, random_state = 2021)\n",
    "val_idx, test_idx = train_test_split(val_test_idx, test_size = 0.5)\n",
    "\n",
    "train_sent, train_chars, train_labels = padded_sentences[train_idx], padded_chars[train_idx], padded_labels[train_idx]\n",
    "val_sent, val_chars, val_labels = padded_sentences[val_idx], padded_chars[val_idx], padded_labels[val_idx]\n",
    "test_sent, test_chars, test_labels = padded_sentences[test_idx], padded_chars[test_idx], padded_labels[test_idx]"
   ]
  },
  {
   "cell_type": "markdown",
   "metadata": {},
   "source": [
    "## Build Model"
   ]
  },
  {
   "cell_type": "code",
   "execution_count": 61,
   "metadata": {},
   "outputs": [],
   "source": [
    "def get_model(word_vocab_size, char_vocab_size, max_word_len, max_char_len, final_layer = 'softmax', lr = 0.001):\n",
    "    WORD_EMB_DIM = 64\n",
    "    CHAR_EMB_DIM = 32\n",
    "\n",
    "    # Input and Embedding for words\n",
    "    word_input = Input(shape = (max_word_len,))\n",
    "    word_emb = Embedding(input_dim=word_vocab_size + 1, output_dim=WORD_EMB_DIM, trainable = True,\n",
    "                         input_length=max_word_len, mask_zero = True, name = \"word_embed\")(word_input)\n",
    "    \n",
    "    \n",
    "    \n",
    "    # Input and Embedding for characters\n",
    "    char_input= Input(shape = (max_word_len, max_char_len,))\n",
    "    char_emb = TimeDistributed(Embedding(input_dim = char_vocab_size + 1, output_dim = CHAR_EMB_DIM, trainable = True,\n",
    "                                        input_length = max_char_len, name = \"char_embed\"))(char_input)\n",
    "    \n",
    "    \n",
    "    # Character CNN feature extraction with filter of length 3\n",
    "    char_conv = TimeDistributed(Conv1D(32, 3, padding='same'), name = \"td_conv1d\")(char_emb)\n",
    "    char_pool = TimeDistributed(GlobalMaxPooling1D(), name=\"char_pooling\")(char_conv)\n",
    "    \n",
    "    # Main LSTM\n",
    "    x = concatenate([word_emb, char_pool])\n",
    "    x = SpatialDropout1D(0.3)(x)\n",
    "    main_lstm = Bidirectional(LSTM(units=32, return_sequences=True, recurrent_dropout = 0.5, dropout = 0.5), name = 'bilstm')(x)\n",
    "    \n",
    "    opt = Adam(lr=lr, beta_1=0.9, beta_2=0.999, clipvalue =0.5)\n",
    "    input_nodes = [word_input, char_input]\n",
    "    \n",
    "    if final_layer == 'softmax':\n",
    "        out = TimeDistributed(Dense(len(tag2idx), activation=\"softmax\"), name = 'tdd')(main_lstm)\n",
    "        model = Model(input_nodes, out)\n",
    "        model.compile(loss = \"categorical_crossentropy\", optimizer=opt)\n",
    "    \n",
    "    elif final_layer == 'crf':\n",
    "        \n",
    "        crf = CRF(units = len(tag2idx))\n",
    "\n",
    "        out = crf(main_lstm)\n",
    "\n",
    "        base_model = Model(input_nodes, out)\n",
    "        model = ModelWithCRFLoss(base_model, sparse_target=False)\n",
    "\n",
    "        model.compile(optimizer=opt)\n",
    "    \n",
    "    try:\n",
    "        model.summary()\n",
    "    except:\n",
    "        pass\n",
    "    \n",
    "    return model"
   ]
  },
  {
   "cell_type": "code",
   "execution_count": 62,
   "metadata": {},
   "outputs": [
    {
     "name": "stdout",
     "output_type": "stream",
     "text": [
      "Model: \"model_5\"\n",
      "__________________________________________________________________________________________________\n",
      "Layer (type)                    Output Shape         Param #     Connected to                     \n",
      "==================================================================================================\n",
      "input_17 (InputLayer)           [(None, 123, 26)]    0                                            \n",
      "__________________________________________________________________________________________________\n",
      "time_distributed_8 (TimeDistrib (None, 123, 26, 32)  2816        input_17[0][0]                   \n",
      "__________________________________________________________________________________________________\n",
      "input_16 (InputLayer)           [(None, 123)]        0                                            \n",
      "__________________________________________________________________________________________________\n",
      "td_conv1d (TimeDistributed)     (None, 123, 26, 32)  3104        time_distributed_8[0][0]         \n",
      "__________________________________________________________________________________________________\n",
      "word_embed (Embedding)          (None, 123, 64)      692544      input_16[0][0]                   \n",
      "__________________________________________________________________________________________________\n",
      "char_pooling (TimeDistributed)  (None, 123, 32)      0           td_conv1d[0][0]                  \n",
      "__________________________________________________________________________________________________\n",
      "concatenate_7 (Concatenate)     (None, 123, 96)      0           word_embed[0][0]                 \n",
      "                                                                 char_pooling[0][0]               \n",
      "__________________________________________________________________________________________________\n",
      "spatial_dropout1d_8 (SpatialDro (None, 123, 96)      0           concatenate_7[0][0]              \n",
      "__________________________________________________________________________________________________\n",
      "bilstm (Bidirectional)          (None, 123, 64)      33024       spatial_dropout1d_8[0][0]        \n",
      "__________________________________________________________________________________________________\n",
      "tdd (TimeDistributed)           (None, 123, 3)       195         bilstm[0][0]                     \n",
      "==================================================================================================\n",
      "Total params: 731,683\n",
      "Trainable params: 731,683\n",
      "Non-trainable params: 0\n",
      "__________________________________________________________________________________________________\n"
     ]
    }
   ],
   "source": [
    "classifier = 'softmax'\n",
    "\n",
    "model = get_model(len(word2idx), len(char2idx), MAX_WORD, MAX_CHAR, final_layer = classifier, lr = 0.0001)"
   ]
  },
  {
   "cell_type": "code",
   "execution_count": 63,
   "metadata": {
    "scrolled": true
   },
   "outputs": [
    {
     "name": "stdout",
     "output_type": "stream",
     "text": [
      "Epoch 1/25\n",
      "92/92 [==============================] - 25s 197ms/step - loss: 0.2093 - val_loss: 0.1421\n",
      "\n",
      "Epoch 00001: val_loss improved from inf to 0.14215, saving model to mer.h5\n",
      "Epoch 2/25\n",
      "92/92 [==============================] - 18s 194ms/step - loss: 0.1162 - val_loss: 0.0725\n",
      "\n",
      "Epoch 00002: val_loss improved from 0.14215 to 0.07254, saving model to mer.h5\n",
      "Epoch 3/25\n",
      "92/92 [==============================] - 18s 198ms/step - loss: 0.0761 - val_loss: 0.0710\n",
      "\n",
      "Epoch 00003: val_loss improved from 0.07254 to 0.07104, saving model to mer.h5\n",
      "Epoch 4/25\n",
      "92/92 [==============================] - 18s 199ms/step - loss: 0.0742 - val_loss: 0.0698\n",
      "\n",
      "Epoch 00004: val_loss improved from 0.07104 to 0.06984, saving model to mer.h5\n",
      "Epoch 5/25\n",
      "92/92 [==============================] - 19s 210ms/step - loss: 0.0705 - val_loss: 0.0680\n",
      "\n",
      "Epoch 00005: val_loss improved from 0.06984 to 0.06800, saving model to mer.h5\n",
      "Epoch 6/25\n",
      "92/92 [==============================] - 19s 203ms/step - loss: 0.0696 - val_loss: 0.0660\n",
      "\n",
      "Epoch 00006: val_loss improved from 0.06800 to 0.06595, saving model to mer.h5\n",
      "Epoch 7/25\n",
      "92/92 [==============================] - 19s 206ms/step - loss: 0.0690 - val_loss: 0.0631\n",
      "\n",
      "Epoch 00007: val_loss improved from 0.06595 to 0.06312, saving model to mer.h5\n",
      "Epoch 8/25\n",
      "92/92 [==============================] - 19s 207ms/step - loss: 0.0641 - val_loss: 0.0599\n",
      "\n",
      "Epoch 00008: val_loss improved from 0.06312 to 0.05988, saving model to mer.h5\n",
      "Epoch 9/25\n",
      "92/92 [==============================] - 19s 206ms/step - loss: 0.0598 - val_loss: 0.0563\n",
      "\n",
      "Epoch 00009: val_loss improved from 0.05988 to 0.05629, saving model to mer.h5\n",
      "Epoch 10/25\n",
      "92/92 [==============================] - 19s 208ms/step - loss: 0.0566 - val_loss: 0.0527\n",
      "\n",
      "Epoch 00010: val_loss improved from 0.05629 to 0.05266, saving model to mer.h5\n",
      "Epoch 11/25\n",
      "92/92 [==============================] - 20s 214ms/step - loss: 0.0539 - val_loss: 0.0497\n",
      "\n",
      "Epoch 00011: val_loss improved from 0.05266 to 0.04965, saving model to mer.h5\n",
      "Epoch 12/25\n",
      "92/92 [==============================] - 20s 217ms/step - loss: 0.0485 - val_loss: 0.0466\n",
      "\n",
      "Epoch 00012: val_loss improved from 0.04965 to 0.04662, saving model to mer.h5\n",
      "Epoch 13/25\n",
      "92/92 [==============================] - 23s 248ms/step - loss: 0.0462 - val_loss: 0.0440\n",
      "\n",
      "Epoch 00013: val_loss improved from 0.04662 to 0.04399, saving model to mer.h5\n",
      "Epoch 14/25\n",
      "92/92 [==============================] - 22s 236ms/step - loss: 0.0435 - val_loss: 0.0414\n",
      "\n",
      "Epoch 00014: val_loss improved from 0.04399 to 0.04142, saving model to mer.h5\n",
      "Epoch 15/25\n",
      "92/92 [==============================] - 24s 267ms/step - loss: 0.0406 - val_loss: 0.0392\n",
      "\n",
      "Epoch 00015: val_loss improved from 0.04142 to 0.03917, saving model to mer.h5\n",
      "Epoch 16/25\n",
      "92/92 [==============================] - 23s 251ms/step - loss: 0.0381 - val_loss: 0.0370\n",
      "\n",
      "Epoch 00016: val_loss improved from 0.03917 to 0.03700, saving model to mer.h5\n",
      "Epoch 17/25\n",
      "92/92 [==============================] - 22s 239ms/step - loss: 0.0350 - val_loss: 0.0351\n",
      "\n",
      "Epoch 00017: val_loss improved from 0.03700 to 0.03506, saving model to mer.h5\n",
      "Epoch 18/25\n",
      "92/92 [==============================] - 20s 216ms/step - loss: 0.0347 - val_loss: 0.0332\n",
      "\n",
      "Epoch 00018: val_loss improved from 0.03506 to 0.03325, saving model to mer.h5\n",
      "Epoch 19/25\n",
      "92/92 [==============================] - 21s 226ms/step - loss: 0.0310 - val_loss: 0.0317\n",
      "\n",
      "Epoch 00019: val_loss improved from 0.03325 to 0.03174, saving model to mer.h5\n",
      "Epoch 20/25\n",
      "92/92 [==============================] - 23s 252ms/step - loss: 0.0290 - val_loss: 0.0302\n",
      "\n",
      "Epoch 00020: val_loss improved from 0.03174 to 0.03025, saving model to mer.h5\n",
      "Epoch 21/25\n",
      "92/92 [==============================] - 20s 219ms/step - loss: 0.0293 - val_loss: 0.0293\n",
      "\n",
      "Epoch 00021: val_loss improved from 0.03025 to 0.02926, saving model to mer.h5\n",
      "Epoch 22/25\n",
      "92/92 [==============================] - 20s 221ms/step - loss: 0.0263 - val_loss: 0.0283\n",
      "\n",
      "Epoch 00022: val_loss improved from 0.02926 to 0.02829, saving model to mer.h5\n",
      "Epoch 23/25\n",
      "92/92 [==============================] - 20s 221ms/step - loss: 0.0264 - val_loss: 0.0273\n",
      "\n",
      "Epoch 00023: val_loss improved from 0.02829 to 0.02731, saving model to mer.h5\n",
      "Epoch 24/25\n",
      "92/92 [==============================] - 33s 366ms/step - loss: 0.0244 - val_loss: 0.0267\n",
      "\n",
      "Epoch 00024: val_loss improved from 0.02731 to 0.02675, saving model to mer.h5\n",
      "Epoch 25/25\n",
      "92/92 [==============================] - 27s 290ms/step - loss: 0.0236 - val_loss: 0.0261\n",
      "\n",
      "Epoch 00025: val_loss improved from 0.02675 to 0.02606, saving model to mer.h5\n"
     ]
    }
   ],
   "source": [
    "file_path = \"mer.h5\"\n",
    "BATCH_SIZE = 32\n",
    "MAX_EPOCHS = 25\n",
    "\n",
    "monitored_metric = \"val_loss\"\n",
    "\n",
    "if classifier == \"crf\":\n",
    "    monitored_metric += \"_val\"\n",
    "\n",
    "checkpoint = ModelCheckpoint(file_path, monitor=monitored_metric, verbose=1, save_best_only=True, mode='min')\n",
    "es = EarlyStopping(monitor=monitored_metric, mode='min', verbose=1, patience=5)\n",
    "reduce_ = ReduceLROnPlateau(monitor=monitored_metric, mode='min', patience=5, min_lr=1e-6)\n",
    "\n",
    "history = model.fit(x = [train_sent, train_chars], y = train_labels, validation_data = ([val_sent, val_chars], val_labels),\n",
    "                   batch_size = BATCH_SIZE, epochs = MAX_EPOCHS, callbacks=[es, checkpoint, reduce_], verbose = 1)"
   ]
  },
  {
   "cell_type": "code",
   "execution_count": 64,
   "metadata": {},
   "outputs": [
    {
     "data": {
      "text/plain": [
       "<matplotlib.legend.Legend at 0x1506ad750>"
      ]
     },
     "execution_count": 64,
     "metadata": {},
     "output_type": "execute_result"
    },
    {
     "data": {
      "image/png": "[encoded data removed]",
      "text/plain": [
       "<Figure size 432x288 with 1 Axes>"
      ]
     },
     "metadata": {
      "needs_background": "light"
     },
     "output_type": "display_data"
    }
   ],
   "source": [
    "plt.plot(history.history[monitored_metric], label = \"Validation Loss\")\n",
    "plt.plot(history.history['loss'], label = \"Training Loss\")\n",
    "plt.legend(loc = \"best\")"
   ]
  },
  {
   "cell_type": "markdown",
   "metadata": {},
   "source": [
    "## Evaluation"
   ]
  },
  {
   "cell_type": "code",
   "execution_count": 66,
   "metadata": {},
   "outputs": [
    {
     "name": "stdout",
     "output_type": "stream",
     "text": [
      "69/69 [==============================] - 2s 28ms/step - loss: 0.0270\n"
     ]
    }
   ],
   "source": [
    "loss = model.evaluate([test_sent, test_chars], test_labels)"
   ]
  },
  {
   "cell_type": "code",
   "execution_count": 67,
   "metadata": {},
   "outputs": [],
   "source": [
    "preds = model.predict([test_sent, test_chars])"
   ]
  },
  {
   "cell_type": "code",
   "execution_count": 68,
   "metadata": {},
   "outputs": [
    {
     "name": "stdout",
     "output_type": "stream",
     "text": [
      "              precision    recall  f1-score   support\n",
      "\n",
      "           B       0.43      0.77      0.55      1130\n",
      "           I       0.62      0.70      0.66      2250\n",
      "\n",
      "   micro avg       0.53      0.73      0.62      3380\n",
      "   macro avg       0.52      0.74      0.60      3380\n",
      "weighted avg       0.56      0.73      0.62      3380\n",
      "\n"
     ]
    }
   ],
   "source": [
    "print(classification_report([idx2tag[np.argmax(x)] for i in preds for x in i], [idx2tag[np.argmax(i)] for x in test_labels for i in x], labels = [\"B\", \"I\"]))"
   ]
  },
  {
   "cell_type": "code",
   "execution_count": 72,
   "metadata": {},
   "outputs": [
    {
     "name": "stdout",
     "output_type": "stream",
     "text": [
      "Word           ||True ||Pred\n",
      "==============================\n",
      "In             : O     O\n",
      "addition       : O     O\n",
      ",              : O     O\n",
      "germline       : O     O\n",
      "mosaicism      : O     O\n",
      "of             : O     O\n",
      "the            : O     O\n",
      "VHL            : B     B\n",
      "gene           : O     O\n",
      "was            : O     O\n",
      "identified     : O     O\n",
      "in             : O     O\n",
      "one            : O     O\n",
      "family         : O     O\n",
      ".              : O     O\n"
     ]
    }
   ],
   "source": [
    "classifier = 'softmax'\n",
    "\n",
    "i = 127\n",
    "if classifier == 'softmax':\n",
    "    p = np.argmax(preds[i], axis=-1)\n",
    "else:\n",
    "    p = preds[i]\n",
    "print(\"{:15}||{:5}||{}\".format(\"Word\", \"True\", \"Pred\"))\n",
    "print(30 * \"=\")\n",
    "for w, t, pred in zip(test_sent[i], np.argmax(test_labels[i], axis = -1), p):\n",
    "    if w != 0:\n",
    "        print(\"{:15}: {:5} {}\".format(idx2word[w], idx2tag[t], idx2tag[pred]))"
   ]
  },
  {
   "cell_type": "code",
   "execution_count": null,
   "metadata": {},
   "outputs": [],
   "source": []
  }
 ],
 "metadata": {
  "kernelspec": {
   "display_name": "Python 3",
   "language": "python",
   "name": "python3"
  },
  "language_info": {
   "codemirror_mode": {
    "name": "ipython",
    "version": 3
   },
   "file_extension": ".py",
   "mimetype": "text/x-python",
   "name": "python",
   "nbconvert_exporter": "python",
   "pygments_lexer": "ipython3",
   "version": "3.7.4"
  }
 },
 "nbformat": 4,
 "nbformat_minor": 2
}
