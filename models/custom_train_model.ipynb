{
 "cells": [
  {
   "cell_type": "markdown",
   "metadata": {},
   "source": [
    "# CNN-BiLSTM-CRF"
   ]
  },
  {
   "cell_type": "markdown",
   "metadata": {},
   "source": [
    "This notebook is based on the work of \"End-to-end Sequence Labelling via Bidirectional LSTM-CNNs-CRF https://arxiv.org/pdf/1603.01354.pdf"
   ]
  },
  {
   "cell_type": "markdown",
   "metadata": {},
   "source": [
    "RECENT UPDATE: Currently working on writing a custom training loop in order to define early stopping condition on F1 score"
   ]
  },
  {
   "cell_type": "code",
   "execution_count": 25,
   "metadata": {},
   "outputs": [
    {
     "name": "stderr",
     "output_type": "stream",
     "text": [
      "[nltk_data] Downloading package punkt to\n",
      "[nltk_data]     /Users/thevindegamboda/nltk_data...\n",
      "[nltk_data]   Package punkt is already up-to-date!\n"
     ]
    }
   ],
   "source": [
    "import time\n",
    "\n",
    "import pandas as pd\n",
    "import numpy as np\n",
    "import matplotlib.pyplot as plt\n",
    "%matplotlib inline\n",
    "import seaborn as sns\n",
    "\n",
    "from collections import Counter\n",
    "\n",
    "from sklearn.model_selection import train_test_split\n",
    "from sklearn.metrics import classification_report\n",
    "\n",
    "import tensorflow as tf\n",
    "from tensorflow import keras\n",
    "import tensorflow.keras.backend as K\n",
    "import tensorflow_addons as tfa\n",
    "\n",
    "from tensorflow.keras import layers # Just for example, delete later\n",
    "\n",
    "from keras.preprocessing.sequence import pad_sequences\n",
    "from keras.utils import to_categorical\n",
    "\n",
    "from tensorflow.keras import Sequential, Model, Input\n",
    "from tensorflow.keras.layers import LSTM, concatenate, Embedding, Dense, TimeDistributed, InputSpec, Dropout, Bidirectional, Layer, Conv1D, SpatialDropout1D,GlobalMaxPooling1D, Concatenate\n",
    "from tensorflow.keras.utils import plot_model\n",
    "from tensorflow.keras.callbacks import ModelCheckpoint, ReduceLROnPlateau, EarlyStopping\n",
    "from tensorflow.keras.optimizers import Adam, Nadam, SGD\n",
    "from tensorflow_addons.text import crf_decode, crf_log_likelihood\n",
    "\n",
    "# from keras_contrib.losses import crf_loss\n",
    "# from keras_contrib.metrics import crf_accuracy\n",
    "\n",
    "from tf2crf import CRF, ModelWithCRFLoss, ModelWithCRFLossDSCLoss\n",
    "\n",
    "import nltk\n",
    "nltk.download('punkt')\n",
    "\n",
    "from termcolor import colored"
   ]
  },
  {
   "cell_type": "code",
   "execution_count": 26,
   "metadata": {},
   "outputs": [],
   "source": [
    "def load_data(file_path):\n",
    "    file = open(file_path, \"r\")\n",
    "    data, entities, sentence, unique_labels = [], [], [], []\n",
    "    for line in file:\n",
    "        line = line.strip(\"\\n\").split(\"\\t\")\n",
    "        \n",
    "        if len(line) > 1:\n",
    "            word = line[0]\n",
    "            label = line[1]\n",
    "            \n",
    "            sentence.append(word)\n",
    "            entities.append(label)\n",
    "            \n",
    "            if label not in unique_labels:\n",
    "                unique_labels.append(label)\n",
    "            \n",
    "        elif len(entities) > 0:\n",
    "            sentence = \" \".join(sentence)\n",
    "            data.append({\"sentence\" : sentence, \"entities\" : entities})\n",
    "            entities, sentence = [], []\n",
    "            \n",
    "    file.close()\n",
    "    return data, unique_labels"
   ]
  },
  {
   "cell_type": "code",
   "execution_count": 27,
   "metadata": {},
   "outputs": [],
   "source": [
    "train_dev_filepath = \"../data/NERdata/NCBI-disease/train_dev.tsv\"\n",
    "test_filepath = \"../data/NERdata/NCBI-disease/test.tsv\"\n",
    "\n",
    "train_data, train_unq_labels = load_data(train_dev_filepath)\n",
    "test_data, _ = load_data(test_filepath)\n",
    "\n",
    "data = train_data + test_data"
   ]
  },
  {
   "cell_type": "code",
   "execution_count": 28,
   "metadata": {},
   "outputs": [
    {
     "data": {
      "text/plain": [
       "{'sentence': 'Identification of APC2 , a homologue of the adenomatous polyposis coli tumour suppressor .',\n",
       " 'entities': ['O',\n",
       "  'O',\n",
       "  'O',\n",
       "  'O',\n",
       "  'O',\n",
       "  'O',\n",
       "  'O',\n",
       "  'O',\n",
       "  'B',\n",
       "  'I',\n",
       "  'I',\n",
       "  'I',\n",
       "  'O',\n",
       "  'O']}"
      ]
     },
     "execution_count": 28,
     "metadata": {},
     "output_type": "execute_result"
    }
   ],
   "source": [
    "data[0]"
   ]
  },
  {
   "cell_type": "code",
   "execution_count": 29,
   "metadata": {},
   "outputs": [
    {
     "data": {
      "text/plain": [
       "(7287, 3)"
      ]
     },
     "execution_count": 29,
     "metadata": {},
     "output_type": "execute_result"
    }
   ],
   "source": [
    "#Check how many datapoints and unique labels we have acquired from the dataset\n",
    "\n",
    "len(data), len(train_unq_labels)"
   ]
  },
  {
   "cell_type": "code",
   "execution_count": 30,
   "metadata": {},
   "outputs": [],
   "source": [
    "#Now we will make reference dictionaries for the text elements\n",
    "\n",
    "def get_mappings(data, word_ent):\n",
    "\n",
    "    if word_ent == \"word\" or word_ent == \"char\":\n",
    "        vocab = Counter([i for x in data for i in x['sentence'].split()])\n",
    "        if word_ent == \"char\":\n",
    "            vocab = Counter([i for x in vocab for i in list(x)])\n",
    "    elif word_ent == \"ent\":\n",
    "        vocab = Counter([i for x in data for i in x['entities']])\n",
    "    \n",
    "    vocab = [i[0] for i in vocab.most_common()]\n",
    "    \n",
    "    idx2tok = {idx:tok for idx, tok in enumerate(vocab, 1)}\n",
    "    tok2idx = {tok:idx for  idx, tok in enumerate(vocab, 1)}\n",
    "    \n",
    "    return tok2idx, idx2tok\n",
    "\n",
    "\n",
    "word2idx, idx2word = get_mappings(data, \"word\")\n",
    "char2idx, idx2char = get_mappings(data, \"char\")\n",
    "tag2idx, idx2tag = get_mappings(data, \"ent\")\n",
    "\n",
    "n_words = len(word2idx)\n",
    "n_chars = len(char2idx)"
   ]
  },
  {
   "cell_type": "code",
   "execution_count": 31,
   "metadata": {},
   "outputs": [],
   "source": [
    "# We will add a PAD token to consider padding during training\n",
    "\n",
    "word2idx[\"UNK\"] = n_words + 1\n",
    "idx2word[n_words + 1] = \"UNK\"\n",
    "\n",
    "word2idx[\"PAD\"] = 0\n",
    "idx2word[0] = \"PAD\"\n",
    "\n",
    "char2idx[\"UNK\"] = n_chars + 1\n",
    "idx2char[n_chars + 1] = \"UNK\"\n",
    "\n",
    "char2idx[\"PAD\"] = 0\n",
    "idx2char[0] = \"PAD\"\n",
    "\n",
    "# tag2idx[\"PAD\"] = 0\n",
    "# idx2tag[0] = \"PAD\"\n",
    "\n",
    "\n",
    "assert len(word2idx) == len(idx2word) and len(char2idx) == len(idx2char)"
   ]
  },
  {
   "cell_type": "code",
   "execution_count": 32,
   "metadata": {
    "scrolled": true
   },
   "outputs": [
    {
     "data": {
      "text/plain": [
       "{'O': 1, 'I': 2, 'B': 3}"
      ]
     },
     "execution_count": 32,
     "metadata": {},
     "output_type": "execute_result"
    }
   ],
   "source": [
    "tag2idx"
   ]
  },
  {
   "cell_type": "code",
   "execution_count": 33,
   "metadata": {},
   "outputs": [],
   "source": [
    "tag2idx = {i:x for x, i in enumerate(tag2idx.keys())}\n",
    "idx2tag = {i:x for x, i in tag2idx.items()}"
   ]
  },
  {
   "cell_type": "code",
   "execution_count": 34,
   "metadata": {},
   "outputs": [
    {
     "data": {
      "text/plain": [
       "({'O': 0, 'I': 1, 'B': 2}, {0: 'O', 1: 'I', 2: 'B'})"
      ]
     },
     "execution_count": 34,
     "metadata": {},
     "output_type": "execute_result"
    }
   ],
   "source": [
    "tag2idx, idx2tag"
   ]
  },
  {
   "cell_type": "code",
   "execution_count": 35,
   "metadata": {},
   "outputs": [
    {
     "name": "stdout",
     "output_type": "stream",
     "text": [
      "There are 10820 unique words/elements in the corpus being considered\n"
     ]
    }
   ],
   "source": [
    "n_words = len(word2idx)\n",
    "n_chars = len(char2idx)\n",
    "\n",
    "print(\"There are {} unique words/elements in the corpus being considered\".format(n_words))"
   ]
  },
  {
   "cell_type": "markdown",
   "metadata": {},
   "source": [
    "For convenience let us create a Pandas df summarising all the relevant data to this point"
   ]
  },
  {
   "cell_type": "code",
   "execution_count": 36,
   "metadata": {},
   "outputs": [],
   "source": [
    "columns = [\"Sentence\", \"Labels\", \"Word Tokens\", \"Label Tokens\", \"Character Tokens\"]\n",
    "\n",
    "data_df = []\n",
    "for i in range(len(data)):\n",
    "    #We want data in the form : [Sentence, Labels, Words Tokens, Label Tokens]\n",
    "    sentence = data[i]['sentence']\n",
    "    labels = data[i]['entities']\n",
    "    words = sentence.split()\n",
    "    chars = [list(i) for i in words]\n",
    "    word_tkns = [word2idx.get(i) for i in words]\n",
    "    label_tkns = [tag2idx.get(i) for i in labels]\n",
    "    char_tkns = [list(map(char2idx.get, i)) for i in chars]\n",
    "    \n",
    "    data_df.append([sentence, labels, word_tkns, label_tkns, char_tkns])\n",
    "    \n",
    "data_df = pd.DataFrame(data_df, columns = columns)"
   ]
  },
  {
   "cell_type": "code",
   "execution_count": 37,
   "metadata": {},
   "outputs": [
    {
     "data": {
      "text/html": [
       "<div>\n",
       "<style scoped>\n",
       "    .dataframe tbody tr th:only-of-type {\n",
       "        vertical-align: middle;\n",
       "    }\n",
       "\n",
       "    .dataframe tbody tr th {\n",
       "        vertical-align: top;\n",
       "    }\n",
       "\n",
       "    .dataframe thead th {\n",
       "        text-align: right;\n",
       "    }\n",
       "</style>\n",
       "<table border=\"1\" class=\"dataframe\">\n",
       "  <thead>\n",
       "    <tr style=\"text-align: right;\">\n",
       "      <th></th>\n",
       "      <th>Sentence</th>\n",
       "      <th>Labels</th>\n",
       "      <th>Word Tokens</th>\n",
       "      <th>Label Tokens</th>\n",
       "      <th>Character Tokens</th>\n",
       "    </tr>\n",
       "  </thead>\n",
       "  <tbody>\n",
       "    <tr>\n",
       "      <th>0</th>\n",
       "      <td>Identification of APC2 , a homologue of the ad...</td>\n",
       "      <td>[O, O, O, O, O, O, O, O, B, I, I, I, O, O]</td>\n",
       "      <td>[777, 3, 2888, 4, 8, 778, 3, 2, 335, 280, 532,...</td>\n",
       "      <td>[0, 0, 0, 0, 0, 0, 0, 0, 2, 1, 1, 1, 0, 0]</td>\n",
       "      <td>[[37, 11, 1, 4, 6, 2, 20, 2, 10, 3, 6, 2, 5, 4...</td>\n",
       "    </tr>\n",
       "    <tr>\n",
       "      <th>1</th>\n",
       "      <td>The adenomatous polyposis coli ( APC ) tumour ...</td>\n",
       "      <td>[O, B, I, I, I, I, I, I, O, O, O, O, O, O, O, ...</td>\n",
       "      <td>[18, 335, 280, 532, 10, 115, 9, 507, 6, 355, 3...</td>\n",
       "      <td>[0, 2, 1, 1, 1, 1, 1, 1, 0, 0, 0, 0, 0, 0, 0, ...</td>\n",
       "      <td>[[34, 17, 1], [3, 11, 1, 4, 5, 13, 3, 6, 5, 14...</td>\n",
       "    </tr>\n",
       "    <tr>\n",
       "      <th>2</th>\n",
       "      <td>Complex formation induces the rapid degradatio...</td>\n",
       "      <td>[O, O, O, O, O, O, O, O, O]</td>\n",
       "      <td>[4814, 623, 3363, 2, 1036, 2889, 3, 3362, 1]</td>\n",
       "      <td>[0, 0, 0, 0, 0, 0, 0, 0, 0]</td>\n",
       "      <td>[[24, 5, 13, 12, 9, 1, 32], [20, 5, 7, 13, 3, ...</td>\n",
       "    </tr>\n",
       "    <tr>\n",
       "      <th>3</th>\n",
       "      <td>In colon carcinoma cells , loss of APC leads t...</td>\n",
       "      <td>[O, B, I, O, O, O, O, O, O, O, O, O, O, O, O, ...</td>\n",
       "      <td>[51, 1577, 578, 84, 4, 160, 3, 115, 872, 11, 2...</td>\n",
       "      <td>[0, 2, 1, 0, 0, 0, 0, 0, 0, 0, 0, 0, 0, 0, 0, ...</td>\n",
       "      <td>[[37, 4], [10, 5, 9, 5, 4], [10, 3, 7, 10, 2, ...</td>\n",
       "    </tr>\n",
       "    <tr>\n",
       "      <th>4</th>\n",
       "      <td>Here , we report the identification and genomi...</td>\n",
       "      <td>[O, O, O, O, O, O, O, O, O, O, O, O, O]</td>\n",
       "      <td>[368, 4, 54, 149, 2, 397, 7, 197, 517, 3, 115,...</td>\n",
       "      <td>[0, 0, 0, 0, 0, 0, 0, 0, 0, 0, 0, 0, 0]</td>\n",
       "      <td>[[43, 1, 7, 1], [63], [44, 1], [7, 1, 12, 5, 7...</td>\n",
       "    </tr>\n",
       "  </tbody>\n",
       "</table>\n",
       "</div>"
      ],
      "text/plain": [
       "                                            Sentence  \\\n",
       "0  Identification of APC2 , a homologue of the ad...   \n",
       "1  The adenomatous polyposis coli ( APC ) tumour ...   \n",
       "2  Complex formation induces the rapid degradatio...   \n",
       "3  In colon carcinoma cells , loss of APC leads t...   \n",
       "4  Here , we report the identification and genomi...   \n",
       "\n",
       "                                              Labels  \\\n",
       "0         [O, O, O, O, O, O, O, O, B, I, I, I, O, O]   \n",
       "1  [O, B, I, I, I, I, I, I, O, O, O, O, O, O, O, ...   \n",
       "2                        [O, O, O, O, O, O, O, O, O]   \n",
       "3  [O, B, I, O, O, O, O, O, O, O, O, O, O, O, O, ...   \n",
       "4            [O, O, O, O, O, O, O, O, O, O, O, O, O]   \n",
       "\n",
       "                                         Word Tokens  \\\n",
       "0  [777, 3, 2888, 4, 8, 778, 3, 2, 335, 280, 532,...   \n",
       "1  [18, 335, 280, 532, 10, 115, 9, 507, 6, 355, 3...   \n",
       "2       [4814, 623, 3363, 2, 1036, 2889, 3, 3362, 1]   \n",
       "3  [51, 1577, 578, 84, 4, 160, 3, 115, 872, 11, 2...   \n",
       "4  [368, 4, 54, 149, 2, 397, 7, 197, 517, 3, 115,...   \n",
       "\n",
       "                                        Label Tokens  \\\n",
       "0         [0, 0, 0, 0, 0, 0, 0, 0, 2, 1, 1, 1, 0, 0]   \n",
       "1  [0, 2, 1, 1, 1, 1, 1, 1, 0, 0, 0, 0, 0, 0, 0, ...   \n",
       "2                        [0, 0, 0, 0, 0, 0, 0, 0, 0]   \n",
       "3  [0, 2, 1, 0, 0, 0, 0, 0, 0, 0, 0, 0, 0, 0, 0, ...   \n",
       "4            [0, 0, 0, 0, 0, 0, 0, 0, 0, 0, 0, 0, 0]   \n",
       "\n",
       "                                    Character Tokens  \n",
       "0  [[37, 11, 1, 4, 6, 2, 20, 2, 10, 3, 6, 2, 5, 4...  \n",
       "1  [[34, 17, 1], [3, 11, 1, 4, 5, 13, 3, 6, 5, 14...  \n",
       "2  [[24, 5, 13, 12, 9, 1, 32], [20, 5, 7, 13, 3, ...  \n",
       "3  [[37, 4], [10, 5, 9, 5, 4], [10, 3, 7, 10, 2, ...  \n",
       "4  [[43, 1, 7, 1], [63], [44, 1], [7, 1, 12, 5, 7...  "
      ]
     },
     "execution_count": 37,
     "metadata": {},
     "output_type": "execute_result"
    }
   ],
   "source": [
    "data_df.head()"
   ]
  },
  {
   "cell_type": "code",
   "execution_count": 38,
   "metadata": {},
   "outputs": [
    {
     "data": {
      "text/plain": [
       "<BarContainer object of 3 artists>"
      ]
     },
     "execution_count": 38,
     "metadata": {},
     "output_type": "execute_result"
    },
    {
     "data": {
      "image/png": "[encoded data removed]",
      "text/plain": [
       "<Figure size 432x288 with 1 Axes>"
      ]
     },
     "metadata": {
      "needs_background": "light"
     },
     "output_type": "display_data"
    }
   ],
   "source": [
    "from collections import Counter\n",
    "\n",
    "labels = [i for x in data_df[\"Labels\"].values for i in x]\n",
    "cnt = Counter(labels)\n",
    "plt.bar(cnt.keys(), cnt.values())"
   ]
  },
  {
   "cell_type": "code",
   "execution_count": 39,
   "metadata": {},
   "outputs": [
    {
     "data": {
      "image/png": "[encoded data removed]",
      "text/plain": [
       "<Figure size 432x288 with 1 Axes>"
      ]
     },
     "metadata": {
      "needs_background": "light"
     },
     "output_type": "display_data"
    },
    {
     "data": {
      "text/plain": [
       "count    7287.000000\n",
       "mean       25.273364\n",
       "std        12.583760\n",
       "min         2.000000\n",
       "25%        17.000000\n",
       "50%        23.000000\n",
       "75%        32.000000\n",
       "max       123.000000\n",
       "Name: Word Tokens, dtype: float64"
      ]
     },
     "execution_count": 39,
     "metadata": {},
     "output_type": "execute_result"
    }
   ],
   "source": [
    "lengths = data_df['Word Tokens'].map(len)\n",
    "\n",
    "lengths.hist()\n",
    "plt.show()\n",
    "\n",
    "lengths.describe()"
   ]
  },
  {
   "cell_type": "code",
   "execution_count": 40,
   "metadata": {},
   "outputs": [
    {
     "data": {
      "image/png": "[encoded data removed]",
      "text/plain": [
       "<Figure size 432x288 with 1 Axes>"
      ]
     },
     "metadata": {
      "needs_background": "light"
     },
     "output_type": "display_data"
    },
    {
     "data": {
      "text/plain": [
       "count    184167.000000\n",
       "mean          4.682104\n",
       "std           3.334064\n",
       "min           1.000000\n",
       "25%           2.000000\n",
       "50%           4.000000\n",
       "75%           7.000000\n",
       "max          26.000000\n",
       "dtype: float64"
      ]
     },
     "execution_count": 40,
     "metadata": {},
     "output_type": "execute_result"
    }
   ],
   "source": [
    "words = data_df[\"Character Tokens\"]\n",
    "word_lengths = pd.Series([len(x) for i in words for x in i])\n",
    "\n",
    "word_lengths.hist()\n",
    "plt.show()\n",
    "\n",
    "word_lengths.describe()"
   ]
  },
  {
   "cell_type": "code",
   "execution_count": 41,
   "metadata": {},
   "outputs": [],
   "source": [
    "MAX_CHAR = 26\n",
    "MAX_WORD = 123\n",
    "\n",
    "padded_sentences = pad_sequences(data_df[\"Word Tokens\"], maxlen=MAX_WORD, dtype='int32', padding='post', truncating='post', value= word2idx[\"PAD\"])\n",
    "padded_labels = pad_sequences(data_df[\"Label Tokens\"], maxlen = MAX_WORD, dtype='int32', padding='post', truncating='post', value= tag2idx[\"O\"])\n",
    "padded_labels = np.array([to_categorical(i, num_classes = len(tag2idx)) for i in padded_labels])\n",
    "padded_chars = [pad_sequences(x, maxlen = MAX_CHAR, dtype = 'int32', padding = 'post', truncating = 'post', value= char2idx[\"PAD\"]) for x in data_df[\"Character Tokens\"]]\n",
    "padded_chars = pad_sequences(padded_chars, maxlen = MAX_WORD, padding = 'post', value = [0]*MAX_CHAR)\n",
    "\n",
    "no_samples = np.shape(padded_sentences)[0]"
   ]
  },
  {
   "cell_type": "code",
   "execution_count": 42,
   "metadata": {},
   "outputs": [],
   "source": [
    "idx = list(range(no_samples))\n",
    "\n",
    "train_idx, val_test_idx = train_test_split(idx, test_size = 0.6, shuffle = True, random_state = 2021)\n",
    "val_idx, test_idx = train_test_split(val_test_idx, test_size = 0.5)\n",
    "\n",
    "train_sent, train_chars, train_labels = padded_sentences[train_idx], padded_chars[train_idx], padded_labels[train_idx]\n",
    "val_sent, val_chars, val_labels = padded_sentences[val_idx], padded_chars[val_idx], padded_labels[val_idx]\n",
    "test_sent, test_chars, test_labels = padded_sentences[test_idx], padded_chars[test_idx], padded_labels[test_idx]"
   ]
  },
  {
   "cell_type": "markdown",
   "metadata": {},
   "source": [
    "## Build Model"
   ]
  },
  {
   "cell_type": "code",
   "execution_count": 48,
   "metadata": {},
   "outputs": [],
   "source": [
    "def get_model(word_vocab_size, char_vocab_size, max_word_len, max_char_len, final_layer = 'softmax', lr = 0.001):\n",
    "    WORD_EMB_DIM = 64\n",
    "    CHAR_EMB_DIM = 64\n",
    "\n",
    "    # Input and Embedding for words\n",
    "    word_input = Input(shape = (max_word_len,))\n",
    "    word_emb = Embedding(input_dim=word_vocab_size + 1, output_dim=WORD_EMB_DIM, trainable = True,\n",
    "                         input_length=max_word_len, mask_zero = True, name = \"word_embed\")(word_input)\n",
    "    \n",
    "    \n",
    "    \n",
    "    # Input and Embedding for characters\n",
    "    char_input= Input(shape = (max_word_len, max_char_len,))\n",
    "    char_emb = TimeDistributed(Embedding(input_dim = char_vocab_size + 1, output_dim = CHAR_EMB_DIM, trainable = True,\n",
    "                                        input_length = max_char_len, name = \"char_embed\"))(char_input)\n",
    "    \n",
    "    \n",
    "    # Character CNN feature extraction with filter of length 3\n",
    "    char_conv = TimeDistributed(Conv1D(32, 4, padding='same'), name = \"td_conv1d\")(char_emb)\n",
    "    char_pool = TimeDistributed(GlobalMaxPooling1D(), name=\"char_pooling\")(char_conv)\n",
    "    \n",
    "    # Main LSTM\n",
    "    x = concatenate([word_emb, char_pool])\n",
    "    #x = SpatialDropout1D(0.3)(x)\n",
    "    main_lstm = Bidirectional(LSTM(units=32, return_sequences=True, dropout = 0.5, recurrent_dropout = 0.5), name = 'bilstm')(x)\n",
    "    \n",
    "    opt = Nadam(lr=lr, clipnorm = 1.0)\n",
    "    input_nodes = [word_input, char_input]\n",
    "    \n",
    "    if final_layer == 'softmax':\n",
    "        out = TimeDistributed(Dense(len(tag2idx), activation=\"softmax\"), name = 'tdd')(main_lstm)\n",
    "        model = Model(input_nodes, out)\n",
    "        #model.compile(loss = \"categorical_crossentropy\", optimizer=opt)\n",
    "    \n",
    "    elif final_layer == 'crf':\n",
    "        \n",
    "        crf = CRF(units = len(tag2idx))\n",
    "\n",
    "        out = crf(main_lstm)\n",
    "\n",
    "        model = Model(input_nodes, out)\n",
    "        #model = ModelWithCRFLoss(base_model, sparse_target=False)\n",
    "\n",
    "        #model.compile(optimizer=opt)\n",
    "    \n",
    "    try:\n",
    "        model.summary()\n",
    "    except:\n",
    "        pass\n",
    "    \n",
    "    return model"
   ]
  },
  {
   "cell_type": "code",
   "execution_count": 49,
   "metadata": {},
   "outputs": [
    {
     "name": "stdout",
     "output_type": "stream",
     "text": [
      "Model: \"model_2\"\n",
      "__________________________________________________________________________________________________\n",
      "Layer (type)                    Output Shape         Param #     Connected to                     \n",
      "==================================================================================================\n",
      "input_6 (InputLayer)            [(None, 123, 26)]    0                                            \n",
      "__________________________________________________________________________________________________\n",
      "time_distributed_2 (TimeDistrib (None, 123, 26, 64)  5632        input_6[0][0]                    \n",
      "__________________________________________________________________________________________________\n",
      "input_5 (InputLayer)            [(None, 123)]        0                                            \n",
      "__________________________________________________________________________________________________\n",
      "td_conv1d (TimeDistributed)     (None, 123, 26, 32)  8224        time_distributed_2[0][0]         \n",
      "__________________________________________________________________________________________________\n",
      "word_embed (Embedding)          (None, 123, 64)      692544      input_5[0][0]                    \n",
      "__________________________________________________________________________________________________\n",
      "char_pooling (TimeDistributed)  (None, 123, 32)      0           td_conv1d[0][0]                  \n",
      "__________________________________________________________________________________________________\n",
      "concatenate_2 (Concatenate)     (None, 123, 96)      0           word_embed[0][0]                 \n",
      "                                                                 char_pooling[0][0]               \n",
      "__________________________________________________________________________________________________\n",
      "bilstm (Bidirectional)          (None, 123, 64)      33024       concatenate_2[0][0]              \n",
      "__________________________________________________________________________________________________\n",
      "tdd (TimeDistributed)           (None, 123, 3)       195         bilstm[0][0]                     \n",
      "==================================================================================================\n",
      "Total params: 739,619\n",
      "Trainable params: 739,619\n",
      "Non-trainable params: 0\n",
      "__________________________________________________________________________________________________\n"
     ]
    }
   ],
   "source": [
    "classifier = 'softmax'\n",
    "\n",
    "model = get_model(len(word2idx), len(char2idx), MAX_WORD, MAX_CHAR, final_layer = classifier, lr = 0.001)"
   ]
  },
  {
   "cell_type": "code",
   "execution_count": 27,
   "metadata": {},
   "outputs": [],
   "source": [
    "from tensorflow_addons.text.crf import crf_log_likelihood\n",
    "from typing import Union\n",
    "\n",
    "class ModelWithCRFLoss(tf.keras.Model):\n",
    "    \"\"\"\n",
    "    Wrapper around the base model for custom training logic.\n",
    "    Args:\n",
    "        base_model: The model including the CRF layer\n",
    "        sparse_target: if the y label is sparse or one-hot, default True\n",
    "        metric: the metric for training, default 'accuracy'. Warning: Currently tensorflow metrics like AUC need the output and y_true to be one-hot to cauculate, they are not supported.\n",
    "    \"\"\"\n",
    "\n",
    "    def __init__(self, base_model, sparse_target=True, metric: Union[str, object] = 'accuracy'):\n",
    "        super().__init__()\n",
    "        self.base_model = base_model\n",
    "        self.sparse_target = sparse_target\n",
    "        self.metric = metric\n",
    "        if isinstance(metric, str):\n",
    "            if metric == 'accuracy':\n",
    "                self.metrics_fn = tf.keras.metrics.Accuracy(name='accuracy')\n",
    "            else:\n",
    "                raise ValueError('unknown metric name')\n",
    "        else:\n",
    "            self.metrics_fn = self.metric\n",
    "        self.loss_tracker = tf.keras.metrics.Mean(name='loss')\n",
    "\n",
    "    def call(self, inputs, training=False):\n",
    "        if training:\n",
    "            return self.base_model(inputs)\n",
    "        else:\n",
    "            return self.base_model(inputs)[0]\n",
    "\n",
    "    def compute_loss(self, x, y, training=False):\n",
    "        viterbi_sequence, potentials, sequence_length, chain_kernel = self(x, training=training)\n",
    "        # we now add the CRF loss:\n",
    "        crf_loss = -crf_log_likelihood(potentials, y, sequence_length, chain_kernel)[0]\n",
    "        return viterbi_sequence, sequence_length, tf.reduce_mean(crf_loss)\n",
    "\n",
    "    def train_step(self, data):\n",
    "        x, y, sample_weight = unpack_data(data)\n",
    "        # y : '(batch_size, seq_length)'\n",
    "        if self.sparse_target:\n",
    "            assert len(y.shape) == 2\n",
    "        else:\n",
    "            y = tf.argmax(y, axis=-1)\n",
    "        with tf.GradientTape() as tape:\n",
    "            viterbi_sequence, sequence_length, crf_loss = self.compute_loss(x, y, training=True)\n",
    "            loss = crf_loss + tf.cast(tf.reduce_sum(self.losses), crf_loss.dtype)\n",
    "        gradients = tape.gradient(loss, self.trainable_variables)\n",
    "        self.optimizer.apply_gradients(zip(gradients, self.trainable_variables))\n",
    "        self.loss_tracker.update_state(loss)\n",
    "        self.metrics_fn.update_state(y, viterbi_sequence, tf.sequence_mask(sequence_length, y.shape[1]))\n",
    "        return {\"loss\": self.loss_tracker.result(), self.metrics_fn.name: self.metrics_fn.result()}\n",
    "\n",
    "    @property\n",
    "    def metrics(self):\n",
    "        return [self.loss_tracker, self.metrics_fn]\n",
    "\n",
    "    def test_step(self, data):\n",
    "        x, y, sample_weight = unpack_data(data)\n",
    "        # y : '(batch_size, seq_length)'\n",
    "        if self.sparse_target:\n",
    "            assert len(y.shape) == 2\n",
    "        else:\n",
    "            y = tf.argmax(y, axis=-1)\n",
    "        viterbi_sequence, sequence_length, crf_loss = self.compute_loss(x, y, training=True)\n",
    "        loss = crf_loss + tf.cast(tf.reduce_sum(self.losses), crf_loss.dtype)\n",
    "        self.loss_tracker.update_state(loss)\n",
    "        self.metrics_fn.update_state(y, viterbi_sequence, tf.sequence_mask(sequence_length, y.shape[1]))\n",
    "        return self.loss_tracker.result()"
   ]
  },
  {
   "cell_type": "code",
   "execution_count": 45,
   "metadata": {
    "scrolled": true
   },
   "outputs": [
    {
     "data": {
      "image/png": "[encoded data removed]",
      "text/plain": [
       "<IPython.core.display.Image object>"
      ]
     },
     "execution_count": 45,
     "metadata": {},
     "output_type": "execute_result"
    }
   ],
   "source": [
    "image_filepath = \"../docs/char_{}.png\".format(classifier)\n",
    "\n",
    "plot_model(model, to_file = image_filepath, show_shapes = True)"
   ]
  },
  {
   "cell_type": "code",
   "execution_count": 50,
   "metadata": {},
   "outputs": [],
   "source": [
    "def unpack_data(data):\n",
    "    if len(data) == 2:\n",
    "        return data[0], data[1], None\n",
    "    elif len(data) == 3:\n",
    "        return data\n",
    "    else:\n",
    "        raise TypeError(\"Expected data to be a tuple of size 2 or 3.\")"
   ]
  },
  {
   "cell_type": "code",
   "execution_count": 51,
   "metadata": {},
   "outputs": [],
   "source": [
    "def chunker(sequence, size, shuffle = False):\n",
    "    seq = sequence.copy()\n",
    "    if shuffle == True:\n",
    "        random.shuffle(seq)\n",
    "    return [seq[pos:pos + size] for pos in range(0, len(seq), size)]"
   ]
  },
  {
   "cell_type": "code",
   "execution_count": null,
   "metadata": {},
   "outputs": [],
   "source": [
    "def custom_fit_crf(model, loss_fn, optimizer, metric, train_dataset, val_dataset, batch_size, epochs):\n",
    "    y = tf.argmax(y, axis=-1)\n",
    "    with tf.GradientTape() as tape:\n",
    "        viterbi_sequence, sequence_length, crf_loss = self.compute_loss(x, y, training=True)\n",
    "        loss = crf_loss + tf.cast(tf.reduce_sum(self.losses), crf_loss.dtype)\n",
    "    gradients = tape.gradient(loss, self.trainable_variables)\n",
    "    self.optimizer.apply_gradients(zip(gradients, self.trainable_variables))\n",
    "    self.loss_tracker.update_state(loss)\n",
    "    self.metrics_fn.update_state(y, viterbi_sequence, tf.sequence_mask(sequence_length, y.shape[1]))\n",
    "    return {\"loss\": self.loss_tracker.result(), self.metrics_fn.name: self.metrics_fn.result()}"
   ]
  },
  {
   "cell_type": "code",
   "execution_count": 52,
   "metadata": {},
   "outputs": [],
   "source": [
    "def custom_fit(model, loss_fn, optimizer, metric, train_dataset, val_dataset, batch_size, epochs):\n",
    "    \n",
    "    @tf.function\n",
    "    def train_step(x_batch_train, y_batch_train):\n",
    "        with tf.GradientTape() as tape:\n",
    "            logits = model(x_batch_train, training=True)\n",
    "            loss_value = loss_fn(y_batch_train, logits)\n",
    "        grads = tape.gradient(loss_value, model.trainable_weights)\n",
    "        optimizer.apply_gradients(zip(grads, model.trainable_weights))\n",
    "        \n",
    "        # Update training metric.\n",
    "        train_acc_metric.update_state(y_batch_train, logits)\n",
    "        return loss_value\n",
    "\n",
    "    @tf.function\n",
    "    def test_step(x_batch_val, y_batch_val):\n",
    "        val_logits = model(x_batch_val, training=False)\n",
    "        # Update val metrics\n",
    "        val_acc_metric.update_state(y_batch_val, val_logits)\n",
    "    \n",
    "    x_train, y_train = train_dataset\n",
    "    x_val, y_val = val_dataset\n",
    "    \n",
    "    train_acc_metric = metric\n",
    "    val_acc_metric = metric\n",
    "    \n",
    "    for epoch in range(epochs):\n",
    "    \n",
    "        train_indices = list(range(len(x_train[0])))\n",
    "        val_indices = list(range(len(x_val[0])))\n",
    "\n",
    "        train_batches = chunker(train_indices, batch_size)\n",
    "        val_batches = chunker(val_indices, batch_size)\n",
    "\n",
    "        print(\"\\nStart of epoch %d\" % (epoch,))\n",
    "        start_time = time.time()\n",
    "\n",
    "        # Iterate over the batches of the dataset.\n",
    "        for step, batch_indices in enumerate(train_batches):\n",
    "            batch_sents = x_train[0][batch_indices]\n",
    "            batch_chars = x_train[1][batch_indices]\n",
    "            \n",
    "            x_batch_train = [batch_sents, batch_chars]\n",
    "            y_batch_train = y_train[batch_indices]\n",
    "\n",
    "            loss_value = train_step(x_batch_train, y_batch_train)\n",
    "            \n",
    "            # Log every 200 batches.\n",
    "            if step % 200 == 0:\n",
    "                print(\n",
    "                    \"Training loss (for one batch) at step %d: %.4f\"\n",
    "                    % (step, float(loss_value))\n",
    "                )\n",
    "                print(\"Seen so far: %d samples\" % ((step + 1) * 64))\n",
    "\n",
    "        # Display metrics at the end of each epoch.\n",
    "        train_acc = train_acc_metric.result()\n",
    "        print(\"Training acc over epoch: %.4f\" % (float(train_acc),))\n",
    "\n",
    "        # Reset training metrics at the end of each epoch\n",
    "        train_acc_metric.reset_states()\n",
    "\n",
    "        # Run a validation loop at the end of each epoch.\n",
    "        for batch_indices in val_batches:\n",
    "            batch_sents = x_val[0][batch_indices]\n",
    "            batch_chars = x_val[1][batch_indices]\n",
    "            \n",
    "            x_batch_val = [batch_sents, batch_chars]\n",
    "            y_batch_val= y_val[batch_indices]\n",
    "\n",
    "            test_step(x_batch_val, y_batch_val)\n",
    "            \n",
    "        val_acc = val_acc_metric.result()\n",
    "        val_acc_metric.reset_states()\n",
    "        print(\"Validation acc: %.4f\" % (float(val_acc),))\n",
    "        print(\"Time taken: %.2fs\" % (time.time() - start_time))"
   ]
  },
  {
   "cell_type": "code",
   "execution_count": 53,
   "metadata": {},
   "outputs": [
    {
     "name": "stdout",
     "output_type": "stream",
     "text": [
      "\n",
      "Start of epoch 0\n",
      "Training loss (for one batch) at step 0: 1.0968\n",
      "Seen so far: 64 samples\n",
      "Training acc over epoch: 0.9828\n",
      "Validation acc: 0.9832\n",
      "Time taken: 37.50s\n",
      "\n",
      "Start of epoch 1\n",
      "Training loss (for one batch) at step 0: 0.9476\n",
      "Seen so far: 64 samples\n",
      "Training acc over epoch: 0.9829\n",
      "Validation acc: 0.9832\n",
      "Time taken: 35.84s\n",
      "\n",
      "Start of epoch 2\n",
      "Training loss (for one batch) at step 0: 0.8785\n",
      "Seen so far: 64 samples\n",
      "Training acc over epoch: 0.9829\n",
      "Validation acc: 0.9832\n",
      "Time taken: 36.51s\n",
      "\n",
      "Start of epoch 3\n",
      "Training loss (for one batch) at step 0: 0.8158\n",
      "Seen so far: 64 samples\n",
      "Training acc over epoch: 0.9829\n",
      "Validation acc: 0.9832\n",
      "Time taken: 35.88s\n",
      "\n",
      "Start of epoch 4\n",
      "Training loss (for one batch) at step 0: 0.7638\n",
      "Seen so far: 64 samples\n",
      "Training acc over epoch: 0.9829\n",
      "Validation acc: 0.9832\n",
      "Time taken: 38.43s\n",
      "\n",
      "Start of epoch 5\n",
      "Training loss (for one batch) at step 0: 0.7230\n",
      "Seen so far: 64 samples\n",
      "Training acc over epoch: 0.9829\n",
      "Validation acc: 0.9832\n",
      "Time taken: 32.30s\n",
      "\n",
      "Start of epoch 6\n",
      "Training loss (for one batch) at step 0: 0.6918\n",
      "Seen so far: 64 samples\n",
      "Training acc over epoch: 0.9829\n",
      "Validation acc: 0.9832\n",
      "Time taken: 32.00s\n"
     ]
    }
   ],
   "source": [
    "loss_fn = keras.losses.CategoricalCrossentropy(from_logits=True)\n",
    "opt = Nadam(lr=0.001, clipnorm = 1.0)\n",
    "metric = keras.metrics.CategoricalAccuracy()\n",
    "train_dataset = ([train_sent, train_chars], train_labels)\n",
    "val_dataset = ([val_sent, val_chars], val_labels)\n",
    "epochs = 7\n",
    "batch_size = 16\n",
    "\n",
    "custom_fit(model, loss_fn, opt, metric, train_dataset, val_dataset, batch_size, epochs)"
   ]
  },
  {
   "cell_type": "markdown",
   "metadata": {},
   "source": [
    "## Evaluation"
   ]
  },
  {
   "cell_type": "code",
   "execution_count": null,
   "metadata": {},
   "outputs": [],
   "source": []
  }
 ],
 "metadata": {
  "kernelspec": {
   "display_name": "Python 3",
   "language": "python",
   "name": "python3"
  },
  "language_info": {
   "codemirror_mode": {
    "name": "ipython",
    "version": 3
   },
   "file_extension": ".py",
   "mimetype": "text/x-python",
   "name": "python",
   "nbconvert_exporter": "python",
   "pygments_lexer": "ipython3",
   "version": "3.7.4"
  }
 },
 "nbformat": 4,
 "nbformat_minor": 2
}
