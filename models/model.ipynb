{
 "cells": [
  {
   "cell_type": "markdown",
   "metadata": {},
   "source": [
    "# CNN-BiLSTM-CRF"
   ]
  },
  {
   "cell_type": "markdown",
   "metadata": {},
   "source": [
    "This notebook is based on the work of \"End-to-end Sequence Labelling via Bidirectional LSTM-CNNs-CRF https://arxiv.org/pdf/1603.01354.pdf"
   ]
  },
  {
   "cell_type": "markdown",
   "metadata": {},
   "source": [
    "RECENT UPDATE: Currently working on writing a custom training loop in order to define early stopping condition on F1 score"
   ]
  },
  {
   "cell_type": "code",
   "execution_count": 37,
   "metadata": {},
   "outputs": [
    {
     "name": "stderr",
     "output_type": "stream",
     "text": [
      "[nltk_data] Downloading package punkt to\n",
      "[nltk_data]     /Users/thevindegamboda/nltk_data...\n",
      "[nltk_data]   Package punkt is already up-to-date!\n"
     ]
    }
   ],
   "source": [
    "import time\n",
    "\n",
    "import pandas as pd\n",
    "import numpy as np\n",
    "import matplotlib.pyplot as plt\n",
    "%matplotlib inline\n",
    "import seaborn as sns\n",
    "\n",
    "from collections import Counter\n",
    "\n",
    "from sklearn.model_selection import train_test_split\n",
    "from sklearn.metrics import classification_report\n",
    "\n",
    "import tensorflow as tf\n",
    "from tensorflow import keras\n",
    "import tensorflow.keras.backend as K\n",
    "import tensorflow_addons as tfa\n",
    "\n",
    "from tensorflow.keras import layers # Just for example, delete later\n",
    "\n",
    "from keras.preprocessing.sequence import pad_sequences\n",
    "from keras.utils import to_categorical\n",
    "\n",
    "from tensorflow.keras import Sequential, Model, Input\n",
    "from tensorflow.keras.layers import LSTM, concatenate, Embedding, Dense, TimeDistributed, InputSpec, Dropout, Bidirectional, Layer, Conv1D, SpatialDropout1D,GlobalMaxPooling1D, Concatenate\n",
    "from tensorflow.keras.utils import plot_model\n",
    "from tensorflow.keras.callbacks import ModelCheckpoint, ReduceLROnPlateau, EarlyStopping\n",
    "from tensorflow.keras.optimizers import Adam, Nadam, SGD\n",
    "from tensorflow_addons.text import crf_decode, crf_log_likelihood\n",
    "\n",
    "# from keras_contrib.losses import crf_loss\n",
    "# from keras_contrib.metrics import crf_accuracy\n",
    "\n",
    "from tf2crf import CRF, ModelWithCRFLoss, ModelWithCRFLossDSCLoss\n",
    "\n",
    "import nltk\n",
    "nltk.download('punkt')\n",
    "\n",
    "from nltk import tokenize\n",
    "\n",
    "from termcolor import colored"
   ]
  },
  {
   "cell_type": "code",
   "execution_count": 3,
   "metadata": {},
   "outputs": [],
   "source": [
    "def load_data(file_path):\n",
    "    file = open(file_path, \"r\")\n",
    "    data, entities, sentence, unique_labels = [], [], [], []\n",
    "    for line in file:\n",
    "        line = line.strip(\"\\n\").split(\"\\t\")\n",
    "        \n",
    "        if len(line) > 1:\n",
    "            word = line[0]\n",
    "            label = line[1]\n",
    "            \n",
    "            sentence.append(word)\n",
    "            entities.append(label)\n",
    "            \n",
    "            if label not in unique_labels:\n",
    "                unique_labels.append(label)\n",
    "            \n",
    "        elif len(entities) > 0:\n",
    "            sentence = \" \".join(sentence)\n",
    "            data.append({\"sentence\" : sentence, \"entities\" : entities})\n",
    "            entities, sentence = [], []\n",
    "            \n",
    "    file.close()\n",
    "    return data, unique_labels"
   ]
  },
  {
   "cell_type": "code",
   "execution_count": 4,
   "metadata": {},
   "outputs": [],
   "source": [
    "train_dev_filepath = \"../data/NERdata/NCBI-disease/train_dev.tsv\"\n",
    "test_filepath = \"../data/NERdata/NCBI-disease/test.tsv\"\n",
    "\n",
    "train_data, train_unq_labels = load_data(train_dev_filepath)\n",
    "test_data, _ = load_data(test_filepath)\n",
    "\n",
    "data = train_data + test_data"
   ]
  },
  {
   "cell_type": "code",
   "execution_count": 5,
   "metadata": {},
   "outputs": [
    {
     "data": {
      "text/plain": [
       "{'sentence': 'Identification of APC2 , a homologue of the adenomatous polyposis coli tumour suppressor .',\n",
       " 'entities': ['O',\n",
       "  'O',\n",
       "  'O',\n",
       "  'O',\n",
       "  'O',\n",
       "  'O',\n",
       "  'O',\n",
       "  'O',\n",
       "  'B',\n",
       "  'I',\n",
       "  'I',\n",
       "  'I',\n",
       "  'O',\n",
       "  'O']}"
      ]
     },
     "execution_count": 5,
     "metadata": {},
     "output_type": "execute_result"
    }
   ],
   "source": [
    "data[0]"
   ]
  },
  {
   "cell_type": "code",
   "execution_count": 6,
   "metadata": {},
   "outputs": [
    {
     "data": {
      "text/plain": [
       "(7287, 3)"
      ]
     },
     "execution_count": 6,
     "metadata": {},
     "output_type": "execute_result"
    }
   ],
   "source": [
    "#Check how many datapoints and unique labels we have acquired from the dataset\n",
    "\n",
    "len(data), len(train_unq_labels)"
   ]
  },
  {
   "cell_type": "code",
   "execution_count": 7,
   "metadata": {},
   "outputs": [],
   "source": [
    "#Now we will make reference dictionaries for the text elements\n",
    "\n",
    "def get_mappings(data, word_ent):\n",
    "\n",
    "    if word_ent == \"word\" or word_ent == \"char\":\n",
    "        vocab = Counter([i for x in data for i in x['sentence'].split()])\n",
    "        if word_ent == \"char\":\n",
    "            vocab = Counter([i for x in vocab for i in list(x)])\n",
    "    elif word_ent == \"ent\":\n",
    "        vocab = Counter([i for x in data for i in x['entities']])\n",
    "    \n",
    "    vocab = [i[0] for i in vocab.most_common()]\n",
    "    \n",
    "    idx2tok = {idx:tok for idx, tok in enumerate(vocab, 1)}\n",
    "    tok2idx = {tok:idx for  idx, tok in enumerate(vocab, 1)}\n",
    "    \n",
    "    return tok2idx, idx2tok\n",
    "\n",
    "\n",
    "word2idx, idx2word = get_mappings(data, \"word\")\n",
    "char2idx, idx2char = get_mappings(data, \"char\")\n",
    "tag2idx, idx2tag = get_mappings(data, \"ent\")\n",
    "\n",
    "n_words = len(word2idx)\n",
    "n_chars = len(char2idx)"
   ]
  },
  {
   "cell_type": "code",
   "execution_count": 8,
   "metadata": {},
   "outputs": [],
   "source": [
    "# We will add a PAD token to consider padding during training\n",
    "\n",
    "word2idx[\"UNK\"] = n_words + 1\n",
    "idx2word[n_words + 1] = \"UNK\"\n",
    "\n",
    "word2idx[\"PAD\"] = 0\n",
    "idx2word[0] = \"PAD\"\n",
    "\n",
    "char2idx[\"UNK\"] = n_chars + 1\n",
    "idx2char[n_chars + 1] = \"UNK\"\n",
    "\n",
    "char2idx[\"PAD\"] = 0\n",
    "idx2char[0] = \"PAD\"\n",
    "\n",
    "# tag2idx[\"PAD\"] = 0\n",
    "# idx2tag[0] = \"PAD\"\n",
    "\n",
    "\n",
    "assert len(word2idx) == len(idx2word) and len(char2idx) == len(idx2char)"
   ]
  },
  {
   "cell_type": "code",
   "execution_count": 9,
   "metadata": {
    "scrolled": true
   },
   "outputs": [
    {
     "data": {
      "text/plain": [
       "{'O': 1, 'I': 2, 'B': 3}"
      ]
     },
     "execution_count": 9,
     "metadata": {},
     "output_type": "execute_result"
    }
   ],
   "source": [
    "tag2idx"
   ]
  },
  {
   "cell_type": "code",
   "execution_count": 10,
   "metadata": {},
   "outputs": [],
   "source": [
    "tag2idx = {i:x for x, i in enumerate(tag2idx.keys())}\n",
    "idx2tag = {i:x for x, i in tag2idx.items()}"
   ]
  },
  {
   "cell_type": "code",
   "execution_count": 11,
   "metadata": {},
   "outputs": [
    {
     "data": {
      "text/plain": [
       "({'O': 0, 'I': 1, 'B': 2}, {0: 'O', 1: 'I', 2: 'B'})"
      ]
     },
     "execution_count": 11,
     "metadata": {},
     "output_type": "execute_result"
    }
   ],
   "source": [
    "tag2idx, idx2tag"
   ]
  },
  {
   "cell_type": "code",
   "execution_count": 12,
   "metadata": {},
   "outputs": [
    {
     "name": "stdout",
     "output_type": "stream",
     "text": [
      "There are 10820 unique words/elements in the corpus being considered\n"
     ]
    }
   ],
   "source": [
    "n_words = len(word2idx)\n",
    "n_chars = len(char2idx)\n",
    "\n",
    "print(\"There are {} unique words/elements in the corpus being considered\".format(n_words))"
   ]
  },
  {
   "cell_type": "markdown",
   "metadata": {},
   "source": [
    "For convenience let us create a Pandas df summarising all the relevant data to this point"
   ]
  },
  {
   "cell_type": "code",
   "execution_count": 13,
   "metadata": {},
   "outputs": [],
   "source": [
    "columns = [\"Sentence\", \"Labels\", \"Word Tokens\", \"Label Tokens\", \"Character Tokens\"]\n",
    "\n",
    "data_df = []\n",
    "for i in range(len(data)):\n",
    "    #We want data in the form : [Sentence, Labels, Words Tokens, Label Tokens]\n",
    "    sentence = data[i]['sentence']\n",
    "    labels = data[i]['entities']\n",
    "    words = sentence.split()\n",
    "    chars = [list(i) for i in words]\n",
    "    word_tkns = [word2idx.get(i) for i in words]\n",
    "    label_tkns = [tag2idx.get(i) for i in labels]\n",
    "    char_tkns = [list(map(char2idx.get, i)) for i in chars]\n",
    "    \n",
    "    data_df.append([sentence, labels, word_tkns, label_tkns, char_tkns])\n",
    "    \n",
    "data_df = pd.DataFrame(data_df, columns = columns)"
   ]
  },
  {
   "cell_type": "code",
   "execution_count": 14,
   "metadata": {},
   "outputs": [
    {
     "data": {
      "text/html": [
       "<div>\n",
       "<style scoped>\n",
       "    .dataframe tbody tr th:only-of-type {\n",
       "        vertical-align: middle;\n",
       "    }\n",
       "\n",
       "    .dataframe tbody tr th {\n",
       "        vertical-align: top;\n",
       "    }\n",
       "\n",
       "    .dataframe thead th {\n",
       "        text-align: right;\n",
       "    }\n",
       "</style>\n",
       "<table border=\"1\" class=\"dataframe\">\n",
       "  <thead>\n",
       "    <tr style=\"text-align: right;\">\n",
       "      <th></th>\n",
       "      <th>Sentence</th>\n",
       "      <th>Labels</th>\n",
       "      <th>Word Tokens</th>\n",
       "      <th>Label Tokens</th>\n",
       "      <th>Character Tokens</th>\n",
       "    </tr>\n",
       "  </thead>\n",
       "  <tbody>\n",
       "    <tr>\n",
       "      <th>0</th>\n",
       "      <td>Identification of APC2 , a homologue of the ad...</td>\n",
       "      <td>[O, O, O, O, O, O, O, O, B, I, I, I, O, O]</td>\n",
       "      <td>[777, 3, 2888, 4, 8, 778, 3, 2, 335, 280, 532,...</td>\n",
       "      <td>[0, 0, 0, 0, 0, 0, 0, 0, 2, 1, 1, 1, 0, 0]</td>\n",
       "      <td>[[37, 11, 1, 4, 6, 2, 20, 2, 10, 3, 6, 2, 5, 4...</td>\n",
       "    </tr>\n",
       "    <tr>\n",
       "      <th>1</th>\n",
       "      <td>The adenomatous polyposis coli ( APC ) tumour ...</td>\n",
       "      <td>[O, B, I, I, I, I, I, I, O, O, O, O, O, O, O, ...</td>\n",
       "      <td>[18, 335, 280, 532, 10, 115, 9, 507, 6, 355, 3...</td>\n",
       "      <td>[0, 2, 1, 1, 1, 1, 1, 1, 0, 0, 0, 0, 0, 0, 0, ...</td>\n",
       "      <td>[[34, 17, 1], [3, 11, 1, 4, 5, 13, 3, 6, 5, 14...</td>\n",
       "    </tr>\n",
       "    <tr>\n",
       "      <th>2</th>\n",
       "      <td>Complex formation induces the rapid degradatio...</td>\n",
       "      <td>[O, O, O, O, O, O, O, O, O]</td>\n",
       "      <td>[4814, 623, 3363, 2, 1036, 2889, 3, 3362, 1]</td>\n",
       "      <td>[0, 0, 0, 0, 0, 0, 0, 0, 0]</td>\n",
       "      <td>[[24, 5, 13, 12, 9, 1, 32], [20, 5, 7, 13, 3, ...</td>\n",
       "    </tr>\n",
       "    <tr>\n",
       "      <th>3</th>\n",
       "      <td>In colon carcinoma cells , loss of APC leads t...</td>\n",
       "      <td>[O, B, I, O, O, O, O, O, O, O, O, O, O, O, O, ...</td>\n",
       "      <td>[51, 1577, 578, 84, 4, 160, 3, 115, 872, 11, 2...</td>\n",
       "      <td>[0, 2, 1, 0, 0, 0, 0, 0, 0, 0, 0, 0, 0, 0, 0, ...</td>\n",
       "      <td>[[37, 4], [10, 5, 9, 5, 4], [10, 3, 7, 10, 2, ...</td>\n",
       "    </tr>\n",
       "    <tr>\n",
       "      <th>4</th>\n",
       "      <td>Here , we report the identification and genomi...</td>\n",
       "      <td>[O, O, O, O, O, O, O, O, O, O, O, O, O]</td>\n",
       "      <td>[368, 4, 54, 149, 2, 397, 7, 197, 517, 3, 115,...</td>\n",
       "      <td>[0, 0, 0, 0, 0, 0, 0, 0, 0, 0, 0, 0, 0]</td>\n",
       "      <td>[[43, 1, 7, 1], [63], [44, 1], [7, 1, 12, 5, 7...</td>\n",
       "    </tr>\n",
       "  </tbody>\n",
       "</table>\n",
       "</div>"
      ],
      "text/plain": [
       "                                            Sentence  \\\n",
       "0  Identification of APC2 , a homologue of the ad...   \n",
       "1  The adenomatous polyposis coli ( APC ) tumour ...   \n",
       "2  Complex formation induces the rapid degradatio...   \n",
       "3  In colon carcinoma cells , loss of APC leads t...   \n",
       "4  Here , we report the identification and genomi...   \n",
       "\n",
       "                                              Labels  \\\n",
       "0         [O, O, O, O, O, O, O, O, B, I, I, I, O, O]   \n",
       "1  [O, B, I, I, I, I, I, I, O, O, O, O, O, O, O, ...   \n",
       "2                        [O, O, O, O, O, O, O, O, O]   \n",
       "3  [O, B, I, O, O, O, O, O, O, O, O, O, O, O, O, ...   \n",
       "4            [O, O, O, O, O, O, O, O, O, O, O, O, O]   \n",
       "\n",
       "                                         Word Tokens  \\\n",
       "0  [777, 3, 2888, 4, 8, 778, 3, 2, 335, 280, 532,...   \n",
       "1  [18, 335, 280, 532, 10, 115, 9, 507, 6, 355, 3...   \n",
       "2       [4814, 623, 3363, 2, 1036, 2889, 3, 3362, 1]   \n",
       "3  [51, 1577, 578, 84, 4, 160, 3, 115, 872, 11, 2...   \n",
       "4  [368, 4, 54, 149, 2, 397, 7, 197, 517, 3, 115,...   \n",
       "\n",
       "                                        Label Tokens  \\\n",
       "0         [0, 0, 0, 0, 0, 0, 0, 0, 2, 1, 1, 1, 0, 0]   \n",
       "1  [0, 2, 1, 1, 1, 1, 1, 1, 0, 0, 0, 0, 0, 0, 0, ...   \n",
       "2                        [0, 0, 0, 0, 0, 0, 0, 0, 0]   \n",
       "3  [0, 2, 1, 0, 0, 0, 0, 0, 0, 0, 0, 0, 0, 0, 0, ...   \n",
       "4            [0, 0, 0, 0, 0, 0, 0, 0, 0, 0, 0, 0, 0]   \n",
       "\n",
       "                                    Character Tokens  \n",
       "0  [[37, 11, 1, 4, 6, 2, 20, 2, 10, 3, 6, 2, 5, 4...  \n",
       "1  [[34, 17, 1], [3, 11, 1, 4, 5, 13, 3, 6, 5, 14...  \n",
       "2  [[24, 5, 13, 12, 9, 1, 32], [20, 5, 7, 13, 3, ...  \n",
       "3  [[37, 4], [10, 5, 9, 5, 4], [10, 3, 7, 10, 2, ...  \n",
       "4  [[43, 1, 7, 1], [63], [44, 1], [7, 1, 12, 5, 7...  "
      ]
     },
     "execution_count": 14,
     "metadata": {},
     "output_type": "execute_result"
    }
   ],
   "source": [
    "data_df.head()"
   ]
  },
  {
   "cell_type": "code",
   "execution_count": 15,
   "metadata": {},
   "outputs": [
    {
     "data": {
      "text/plain": [
       "<BarContainer object of 3 artists>"
      ]
     },
     "execution_count": 15,
     "metadata": {},
     "output_type": "execute_result"
    },
    {
     "data": {
      "image/png": "[encoded data removed]",
      "text/plain": [
       "<Figure size 432x288 with 1 Axes>"
      ]
     },
     "metadata": {
      "needs_background": "light"
     },
     "output_type": "display_data"
    }
   ],
   "source": [
    "from collections import Counter\n",
    "\n",
    "labels = [i for x in data_df[\"Labels\"].values for i in x]\n",
    "cnt = Counter(labels)\n",
    "plt.bar(cnt.keys(), cnt.values())"
   ]
  },
  {
   "cell_type": "code",
   "execution_count": 16,
   "metadata": {},
   "outputs": [
    {
     "data": {
      "image/png": "[encoded data removed]",
      "text/plain": [
       "<Figure size 432x288 with 1 Axes>"
      ]
     },
     "metadata": {
      "needs_background": "light"
     },
     "output_type": "display_data"
    },
    {
     "data": {
      "text/plain": [
       "count    7287.000000\n",
       "mean       25.273364\n",
       "std        12.583760\n",
       "min         2.000000\n",
       "25%        17.000000\n",
       "50%        23.000000\n",
       "75%        32.000000\n",
       "max       123.000000\n",
       "Name: Word Tokens, dtype: float64"
      ]
     },
     "execution_count": 16,
     "metadata": {},
     "output_type": "execute_result"
    }
   ],
   "source": [
    "lengths = data_df['Word Tokens'].map(len)\n",
    "\n",
    "lengths.hist()\n",
    "plt.show()\n",
    "\n",
    "lengths.describe()"
   ]
  },
  {
   "cell_type": "code",
   "execution_count": 17,
   "metadata": {},
   "outputs": [
    {
     "data": {
      "image/png": "[encoded data removed]",
      "text/plain": [
       "<Figure size 432x288 with 1 Axes>"
      ]
     },
     "metadata": {
      "needs_background": "light"
     },
     "output_type": "display_data"
    },
    {
     "data": {
      "text/plain": [
       "count    184167.000000\n",
       "mean          4.682104\n",
       "std           3.334064\n",
       "min           1.000000\n",
       "25%           2.000000\n",
       "50%           4.000000\n",
       "75%           7.000000\n",
       "max          26.000000\n",
       "dtype: float64"
      ]
     },
     "execution_count": 17,
     "metadata": {},
     "output_type": "execute_result"
    }
   ],
   "source": [
    "words = data_df[\"Character Tokens\"]\n",
    "word_lengths = pd.Series([len(x) for i in words for x in i])\n",
    "\n",
    "word_lengths.hist()\n",
    "plt.show()\n",
    "\n",
    "word_lengths.describe()"
   ]
  },
  {
   "cell_type": "code",
   "execution_count": 18,
   "metadata": {},
   "outputs": [],
   "source": [
    "MAX_CHAR = 26\n",
    "MAX_WORD = 123\n",
    "\n",
    "padded_sentences = pad_sequences(data_df[\"Word Tokens\"], maxlen=MAX_WORD, dtype='int32', padding='post', truncating='post', value= word2idx[\"PAD\"])\n",
    "padded_labels = pad_sequences(data_df[\"Label Tokens\"], maxlen = MAX_WORD, dtype='int32', padding='post', truncating='post', value= tag2idx[\"O\"])\n",
    "padded_labels = np.array([to_categorical(i, num_classes = len(tag2idx)) for i in padded_labels])\n",
    "padded_chars = [pad_sequences(x, maxlen = MAX_CHAR, dtype = 'int32', padding = 'post', truncating = 'post', value= char2idx[\"PAD\"]) for x in data_df[\"Character Tokens\"]]\n",
    "padded_chars = pad_sequences(padded_chars, maxlen = MAX_WORD, padding = 'post', value = [0]*MAX_CHAR)\n",
    "\n",
    "no_samples = np.shape(padded_sentences)[0]"
   ]
  },
  {
   "cell_type": "code",
   "execution_count": 19,
   "metadata": {},
   "outputs": [],
   "source": [
    "idx = list(range(no_samples))\n",
    "\n",
    "train_idx, val_test_idx = train_test_split(idx, test_size = 0.6, shuffle = True, random_state = 2021)\n",
    "val_idx, test_idx = train_test_split(val_test_idx, test_size = 0.5)\n",
    "\n",
    "train_sent, train_chars, train_labels = padded_sentences[train_idx], padded_chars[train_idx], padded_labels[train_idx]\n",
    "val_sent, val_chars, val_labels = padded_sentences[val_idx], padded_chars[val_idx], padded_labels[val_idx]\n",
    "test_sent, test_chars, test_labels = padded_sentences[test_idx], padded_chars[test_idx], padded_labels[test_idx]"
   ]
  },
  {
   "cell_type": "markdown",
   "metadata": {},
   "source": [
    "## Build Model"
   ]
  },
  {
   "cell_type": "code",
   "execution_count": 20,
   "metadata": {},
   "outputs": [],
   "source": [
    "def get_model(word_vocab_size, char_vocab_size, max_word_len, max_char_len, final_layer = 'softmax', lr = 0.001):\n",
    "    WORD_EMB_DIM = 64\n",
    "    CHAR_EMB_DIM = 64\n",
    "\n",
    "    # Input and Embedding for words\n",
    "    word_input = Input(shape = (max_word_len,))\n",
    "    word_emb = Embedding(input_dim=word_vocab_size + 1, output_dim=WORD_EMB_DIM, trainable = True,\n",
    "                         input_length=max_word_len, mask_zero = True, name = \"word_embed\")(word_input)\n",
    "    \n",
    "    \n",
    "    \n",
    "    # Input and Embedding for characters\n",
    "    char_input= Input(shape = (max_word_len, max_char_len,))\n",
    "    char_emb = TimeDistributed(Embedding(input_dim = char_vocab_size + 1, output_dim = CHAR_EMB_DIM, trainable = True,\n",
    "                                        input_length = max_char_len, name = \"char_embed\"))(char_input)\n",
    "    \n",
    "    \n",
    "    # Character CNN feature extraction with filter of length 3\n",
    "    char_conv = TimeDistributed(Conv1D(32, 4, padding='same'), name = \"td_conv1d\")(char_emb)\n",
    "    char_pool = TimeDistributed(GlobalMaxPooling1D(), name=\"char_pooling\")(char_conv)\n",
    "    \n",
    "    # Main LSTM\n",
    "    x = concatenate([word_emb, char_pool])\n",
    "    #x = SpatialDropout1D(0.3)(x)\n",
    "    main_lstm = Bidirectional(LSTM(units=32, return_sequences=True, dropout = 0.5, recurrent_dropout = 0.5), name = 'bilstm')(x)\n",
    "    \n",
    "    opt = Nadam(lr=lr, clipnorm = 1.0)\n",
    "    input_nodes = [word_input, char_input]\n",
    "    \n",
    "    if final_layer == 'softmax':\n",
    "        out = TimeDistributed(Dense(len(tag2idx), activation=\"softmax\"), name = 'tdd')(main_lstm)\n",
    "        model = Model(input_nodes, out)\n",
    "        model.compile(loss = \"categorical_crossentropy\", optimizer=opt)\n",
    "        model.summary()\n",
    "    \n",
    "    elif final_layer == 'crf':\n",
    "        \n",
    "        crf = CRF(units = len(tag2idx))\n",
    "\n",
    "        out = crf(main_lstm)\n",
    "\n",
    "        base_model = Model(input_nodes, out)\n",
    "        model.summary()\n",
    "        model = ModelWithCRFLoss(base_model, sparse_target=False)\n",
    "\n",
    "        model.compile(optimizer=opt)\n",
    "    \n",
    "    return model"
   ]
  },
  {
   "cell_type": "code",
   "execution_count": 21,
   "metadata": {},
   "outputs": [
    {
     "name": "stdout",
     "output_type": "stream",
     "text": [
      "Model: \"model\"\n",
      "__________________________________________________________________________________________________\n",
      "Layer (type)                    Output Shape         Param #     Connected to                     \n",
      "==================================================================================================\n",
      "input_2 (InputLayer)            [(None, 123, 26)]    0                                            \n",
      "__________________________________________________________________________________________________\n",
      "time_distributed (TimeDistribut (None, 123, 26, 64)  5632        input_2[0][0]                    \n",
      "__________________________________________________________________________________________________\n",
      "input_1 (InputLayer)            [(None, 123)]        0                                            \n",
      "__________________________________________________________________________________________________\n",
      "td_conv1d (TimeDistributed)     (None, 123, 26, 32)  8224        time_distributed[0][0]           \n",
      "__________________________________________________________________________________________________\n",
      "word_embed (Embedding)          (None, 123, 64)      692544      input_1[0][0]                    \n",
      "__________________________________________________________________________________________________\n",
      "char_pooling (TimeDistributed)  (None, 123, 32)      0           td_conv1d[0][0]                  \n",
      "__________________________________________________________________________________________________\n",
      "concatenate (Concatenate)       (None, 123, 96)      0           word_embed[0][0]                 \n",
      "                                                                 char_pooling[0][0]               \n",
      "__________________________________________________________________________________________________\n",
      "bilstm (Bidirectional)          (None, 123, 64)      33024       concatenate[0][0]                \n",
      "__________________________________________________________________________________________________\n",
      "tdd (TimeDistributed)           (None, 123, 3)       195         bilstm[0][0]                     \n",
      "==================================================================================================\n",
      "Total params: 739,619\n",
      "Trainable params: 739,619\n",
      "Non-trainable params: 0\n",
      "__________________________________________________________________________________________________\n"
     ]
    }
   ],
   "source": [
    "classifier = 'softmax'\n",
    "\n",
    "model = get_model(len(word2idx), len(char2idx), MAX_WORD, MAX_CHAR, final_layer = classifier, lr = 0.001)"
   ]
  },
  {
   "cell_type": "code",
   "execution_count": 22,
   "metadata": {},
   "outputs": [
    {
     "data": {
      "image/png": "[encoded data removed]",
      "text/plain": [
       "<IPython.core.display.Image object>"
      ]
     },
     "execution_count": 22,
     "metadata": {},
     "output_type": "execute_result"
    }
   ],
   "source": [
    "image_filepath = \"../docs/char_softmax.png\"\n",
    "\n",
    "plot_model(model, to_file = image_filepath, show_shapes = True)"
   ]
  },
  {
   "cell_type": "code",
   "execution_count": 23,
   "metadata": {
    "scrolled": true
   },
   "outputs": [
    {
     "name": "stdout",
     "output_type": "stream",
     "text": [
      "Epoch 1/15\n",
      "183/183 [==============================] - 50s 242ms/step - loss: 0.1000 - val_loss: 0.0379\n",
      "\n",
      "Epoch 00001: val_loss improved from inf to 0.03786, saving model to ../saved_model_params/softmax.h5\n",
      "Epoch 2/15\n",
      "183/183 [==============================] - 46s 251ms/step - loss: 0.0313 - val_loss: 0.0238\n",
      "\n",
      "Epoch 00002: val_loss improved from 0.03786 to 0.02381, saving model to ../saved_model_params/softmax.h5\n",
      "Epoch 3/15\n",
      "183/183 [==============================] - 37s 204ms/step - loss: 0.0184 - val_loss: 0.0210\n",
      "\n",
      "Epoch 00003: val_loss improved from 0.02381 to 0.02096, saving model to ../saved_model_params/softmax.h5\n",
      "Epoch 4/15\n",
      "183/183 [==============================] - 35s 192ms/step - loss: 0.0146 - val_loss: 0.0192\n",
      "\n",
      "Epoch 00004: val_loss improved from 0.02096 to 0.01923, saving model to ../saved_model_params/softmax.h5\n",
      "Epoch 5/15\n",
      "183/183 [==============================] - 35s 190ms/step - loss: 0.0119 - val_loss: 0.0186\n",
      "\n",
      "Epoch 00005: val_loss improved from 0.01923 to 0.01860, saving model to ../saved_model_params/softmax.h5\n",
      "Epoch 6/15\n",
      "183/183 [==============================] - 36s 199ms/step - loss: 0.0097 - val_loss: 0.0196\n",
      "\n",
      "Epoch 00006: val_loss did not improve from 0.01860\n",
      "Epoch 7/15\n",
      "183/183 [==============================] - 34s 186ms/step - loss: 0.0083 - val_loss: 0.0190\n",
      "\n",
      "Epoch 00007: val_loss did not improve from 0.01860\n",
      "Epoch 8/15\n",
      "183/183 [==============================] - 34s 184ms/step - loss: 0.0070 - val_loss: 0.0196\n",
      "\n",
      "Epoch 00008: val_loss did not improve from 0.01860\n",
      "Epoch 9/15\n",
      "183/183 [==============================] - 34s 186ms/step - loss: 0.0057 - val_loss: 0.0191\n",
      "\n",
      "Epoch 00009: val_loss did not improve from 0.01860\n",
      "Epoch 10/15\n",
      "183/183 [==============================] - 34s 186ms/step - loss: 0.0058 - val_loss: 0.0194\n",
      "\n",
      "Epoch 00010: val_loss did not improve from 0.01860\n",
      "Epoch 00010: early stopping\n"
     ]
    }
   ],
   "source": [
    "file_path = \"../saved_model_params/{}.h5\".format(classifier)\n",
    "BATCH_SIZE = 16\n",
    "MAX_EPOCHS = 15\n",
    "\n",
    "monitored_metric = \"val_loss\"\n",
    "\n",
    "if classifier == \"crf\":\n",
    "    monitored_metric += \"_val\"\n",
    "\n",
    "checkpoint = ModelCheckpoint(file_path, monitor=monitored_metric, verbose=1, save_best_only=True, mode='min')\n",
    "es = EarlyStopping(monitor=monitored_metric, mode='min', verbose=1, patience=5)\n",
    "reduce_ = ReduceLROnPlateau(monitor=monitored_metric, mode='min', patience=3, min_lr=1e-6)\n",
    "\n",
    "history = model.fit(x = [train_sent, train_chars], y = train_labels, validation_data = ([val_sent, val_chars], val_labels),\n",
    "                   batch_size = BATCH_SIZE, epochs = MAX_EPOCHS, callbacks=[es, checkpoint, reduce_], verbose = 1)"
   ]
  },
  {
   "cell_type": "code",
   "execution_count": 24,
   "metadata": {
    "scrolled": true
   },
   "outputs": [
    {
     "data": {
      "text/plain": [
       "<matplotlib.legend.Legend at 0x15154da50>"
      ]
     },
     "execution_count": 24,
     "metadata": {},
     "output_type": "execute_result"
    },
    {
     "data": {
      "image/png": "[encoded data removed]",
      "text/plain": [
       "<Figure size 432x288 with 1 Axes>"
      ]
     },
     "metadata": {
      "needs_background": "light"
     },
     "output_type": "display_data"
    }
   ],
   "source": [
    "plt.plot(history.history[monitored_metric], label = \"Validation Loss\")\n",
    "plt.plot(history.history['loss'], label = \"Training Loss\")\n",
    "plt.legend(loc = \"best\")"
   ]
  },
  {
   "cell_type": "markdown",
   "metadata": {},
   "source": [
    "## Evaluation"
   ]
  },
  {
   "cell_type": "code",
   "execution_count": 25,
   "metadata": {},
   "outputs": [
    {
     "name": "stdout",
     "output_type": "stream",
     "text": [
      "69/69 [==============================] - 3s 37ms/step - loss: 0.0173\n"
     ]
    }
   ],
   "source": [
    "loss = model.evaluate([test_sent, test_chars], test_labels)"
   ]
  },
  {
   "cell_type": "code",
   "execution_count": 26,
   "metadata": {},
   "outputs": [],
   "source": [
    "preds = model.predict([test_sent, test_chars])"
   ]
  },
  {
   "cell_type": "code",
   "execution_count": 27,
   "metadata": {},
   "outputs": [
    {
     "name": "stdout",
     "output_type": "stream",
     "text": [
      "              precision    recall  f1-score   support\n",
      "\n",
      "           B       0.83      0.85      0.84      2011\n",
      "           I       0.79      0.88      0.83      2227\n",
      "\n",
      "   micro avg       0.81      0.86      0.83      4238\n",
      "   macro avg       0.81      0.86      0.83      4238\n",
      "weighted avg       0.81      0.86      0.83      4238\n",
      "\n"
     ]
    }
   ],
   "source": [
    "print(classification_report([idx2tag[np.argmax(x)] for i in preds for x in i], [idx2tag[np.argmax(i)] for x in test_labels for i in x], labels = [\"B\", \"I\"]))"
   ]
  },
  {
   "cell_type": "code",
   "execution_count": 28,
   "metadata": {},
   "outputs": [
    {
     "name": "stdout",
     "output_type": "stream",
     "text": [
      "Word                ||True ||Pred\n",
      "==============================\n",
      "In                  : O     O\n",
      "Finland             : O     O\n",
      ",                   : O     O\n",
      "there               : O     O\n",
      "are                 : O     O\n",
      "more                : O     O\n",
      "than                : O     O\n",
      "120                 : O     O\n",
      "living              : O     O\n",
      "CHM                 : B     B\n",
      "patients            : O     O\n",
      "belonging           : O     O\n",
      "to                  : O     O\n",
      "eight               : O     O\n",
      "apparently          : O     O\n",
      "unrelated           : O     O\n",
      "pedigrees           : O     O\n",
      ".                   : O     O\n"
     ]
    }
   ],
   "source": [
    "i = 345\n",
    "if classifier == 'softmax':\n",
    "    p = np.argmax(preds[i], axis=-1)\n",
    "else:\n",
    "    p = preds[i]\n",
    "print(\"{:20}||{:5}||{}\".format(\"Word\", \"True\", \"Pred\"))\n",
    "print(30 * \"=\")\n",
    "for w, t, pred in zip(test_sent[i], np.argmax(test_labels[i], axis = -1), p):\n",
    "    if w != 0:\n",
    "        print(\"{:20}: {:5} {}\".format(idx2word[w], idx2tag[t], idx2tag[pred]))"
   ]
  },
  {
   "cell_type": "code",
   "execution_count": 29,
   "metadata": {
    "scrolled": true
   },
   "outputs": [
    {
     "name": "stdout",
     "output_type": "stream",
     "text": [
      "ETL Data.ipynb\n",
      "baseline_model.ipynb\n",
      "custom_train_model.ipynb\n",
      "model.ipynb\n",
      "rough_work_crf.ipynb\n"
     ]
    }
   ],
   "source": [
    "%%bash\n",
    "\n",
    "ls"
   ]
  },
  {
   "cell_type": "markdown",
   "metadata": {},
   "source": [
    "## Evaluation on Medical Transcription Data"
   ]
  },
  {
   "cell_type": "code",
   "execution_count": 30,
   "metadata": {},
   "outputs": [],
   "source": [
    "med_trans = pd.read_csv(\"../data/mtsamples.csv\")"
   ]
  },
  {
   "cell_type": "code",
   "execution_count": 31,
   "metadata": {},
   "outputs": [],
   "source": [
    "surgery_trans = med_trans.loc[med_trans['medical_specialty'] == \" Surgery\"]"
   ]
  },
  {
   "cell_type": "code",
   "execution_count": 32,
   "metadata": {},
   "outputs": [
    {
     "data": {
      "text/html": [
       "<div>\n",
       "<style scoped>\n",
       "    .dataframe tbody tr th:only-of-type {\n",
       "        vertical-align: middle;\n",
       "    }\n",
       "\n",
       "    .dataframe tbody tr th {\n",
       "        vertical-align: top;\n",
       "    }\n",
       "\n",
       "    .dataframe thead th {\n",
       "        text-align: right;\n",
       "    }\n",
       "</style>\n",
       "<table border=\"1\" class=\"dataframe\">\n",
       "  <thead>\n",
       "    <tr style=\"text-align: right;\">\n",
       "      <th></th>\n",
       "      <th>Unnamed: 0</th>\n",
       "      <th>description</th>\n",
       "      <th>medical_specialty</th>\n",
       "      <th>sample_name</th>\n",
       "      <th>transcription</th>\n",
       "      <th>keywords</th>\n",
       "    </tr>\n",
       "  </thead>\n",
       "  <tbody>\n",
       "    <tr>\n",
       "      <th>174</th>\n",
       "      <td>174</td>\n",
       "      <td>Austin &amp; Youngswick bunionectomy with Biopro ...</td>\n",
       "      <td>Surgery</td>\n",
       "      <td>Youngswick Bunionectomy</td>\n",
       "      <td>PREOPERATIVE DIAGNOSES:,1.  Hallux rigidus, le...</td>\n",
       "      <td>surgery, hallux rigidus, metatarsal, youngswic...</td>\n",
       "    </tr>\n",
       "    <tr>\n",
       "      <th>177</th>\n",
       "      <td>177</td>\n",
       "      <td>This patient has undergone cataract surgery, ...</td>\n",
       "      <td>Surgery</td>\n",
       "      <td>YAG Laser Capsulotomy - 1</td>\n",
       "      <td>PREOPERATIVE DIAGNOSIS: , Secondary capsular m...</td>\n",
       "      <td>surgery, abraham capsulotomy, yag, yag laser c...</td>\n",
       "    </tr>\n",
       "    <tr>\n",
       "      <th>179</th>\n",
       "      <td>179</td>\n",
       "      <td>Youngswick osteotomy with internal screw fixa...</td>\n",
       "      <td>Surgery</td>\n",
       "      <td>Youngswick Osteotomy</td>\n",
       "      <td>TITLE OF OPERATION: , Youngswick osteotomy wit...</td>\n",
       "      <td>surgery, hallux limitus deformity, metatarsoph...</td>\n",
       "    </tr>\n",
       "    <tr>\n",
       "      <th>181</th>\n",
       "      <td>181</td>\n",
       "      <td>Wound debridement with removal of Surgisis xe...</td>\n",
       "      <td>Surgery</td>\n",
       "      <td>Wound Debridement</td>\n",
       "      <td>PREOPERATIVE DIAGNOSES,1.  Open wound from rig...</td>\n",
       "      <td>surgery, open wound, prosthetic vascular graft...</td>\n",
       "    </tr>\n",
       "    <tr>\n",
       "      <th>182</th>\n",
       "      <td>182</td>\n",
       "      <td>Visually significant posterior capsule opacit...</td>\n",
       "      <td>Surgery</td>\n",
       "      <td>YAG Laser Capsulotomy</td>\n",
       "      <td>PREOPERATIVE DIAGNOSIS:,  Visually significant...</td>\n",
       "      <td>surgery, capsule opacity, yag, ophthalmic, yag...</td>\n",
       "    </tr>\n",
       "  </tbody>\n",
       "</table>\n",
       "</div>"
      ],
      "text/plain": [
       "     Unnamed: 0                                        description  \\\n",
       "174         174   Austin & Youngswick bunionectomy with Biopro ...   \n",
       "177         177   This patient has undergone cataract surgery, ...   \n",
       "179         179   Youngswick osteotomy with internal screw fixa...   \n",
       "181         181   Wound debridement with removal of Surgisis xe...   \n",
       "182         182   Visually significant posterior capsule opacit...   \n",
       "\n",
       "    medical_specialty                  sample_name  \\\n",
       "174           Surgery     Youngswick Bunionectomy    \n",
       "177           Surgery   YAG Laser Capsulotomy - 1    \n",
       "179           Surgery        Youngswick Osteotomy    \n",
       "181           Surgery           Wound Debridement    \n",
       "182           Surgery       YAG Laser Capsulotomy    \n",
       "\n",
       "                                         transcription  \\\n",
       "174  PREOPERATIVE DIAGNOSES:,1.  Hallux rigidus, le...   \n",
       "177  PREOPERATIVE DIAGNOSIS: , Secondary capsular m...   \n",
       "179  TITLE OF OPERATION: , Youngswick osteotomy wit...   \n",
       "181  PREOPERATIVE DIAGNOSES,1.  Open wound from rig...   \n",
       "182  PREOPERATIVE DIAGNOSIS:,  Visually significant...   \n",
       "\n",
       "                                              keywords  \n",
       "174  surgery, hallux rigidus, metatarsal, youngswic...  \n",
       "177  surgery, abraham capsulotomy, yag, yag laser c...  \n",
       "179  surgery, hallux limitus deformity, metatarsoph...  \n",
       "181  surgery, open wound, prosthetic vascular graft...  \n",
       "182  surgery, capsule opacity, yag, ophthalmic, yag...  "
      ]
     },
     "execution_count": 32,
     "metadata": {},
     "output_type": "execute_result"
    }
   ],
   "source": [
    "surgery_trans.head()"
   ]
  },
  {
   "cell_type": "code",
   "execution_count": 33,
   "metadata": {},
   "outputs": [],
   "source": [
    "text = surgery_trans['transcription'].values"
   ]
  },
  {
   "cell_type": "code",
   "execution_count": 40,
   "metadata": {},
   "outputs": [
    {
     "data": {
      "text/plain": [
       "'PREOPERATIVE DIAGNOSES,1.  Open wound from right axilla to abdomen with a prosthetic vascular graft, possibly infected.,2.  Diabetes.,3.  Peripheral vascular disease.,POSTOPERATIVE DIAGNOSES,1.  Open wound from right axilla to abdomen with a prosthetic vascular graft, possibly infected.,2.  Diabetes.,3.  Peripheral vascular disease.,OPERATIONS,1.  Wound debridement with removal of Surgisis xenograft and debridement of skin and subcutaneous tissue.,2.  Secondary closure of wound, complicated.,3.  VAC insertion.,DESCRIPTION OF PROCEDURE:,  After obtaining an informed consent, the patient was brought to the operating room where a general anesthetic was given.  A time-out process was followed.  All the staples holding the xenograft were removed as well as all the dressings and the area was prepped with Betadine soap and then painted with Betadine solution and draped in usual fashion.,The xenograft was not adhered at all and was easily removed.  There was some, what appeared to be a seropurulent exudate at the bottom of the incision.  This was towards the abdominal end, under the xenograft.,The graft was fully exposed and it was pulsatile.  We then proceeded to use a pulse spray with bacitracin clindamycin solution to clean up the graft.  A few areas of necrotic skin and subcutaneous tissue were debrided.  Prior to this, samples were taken for aerobic and anaerobic cultures.,Normal saline 3000 cc was used for the irrigation and at the end of that the wound appeared much cleaner and we proceeded to insert the sponges to put a VAC system to it.  There was a separate incision, which was bridged __________ to the incision of the abdomen, which we also put a sponge in it after irrigating it and we put the VAC in the main wound and we created a bridge to the second and more minor wound.  Prior to that, I had inserted a number of Vesseloops through the edges of the skin and I proceeded to approximate those on top of the VAC sponge.  Multiple layers were applied to seal the system, which was suctioned and appeared to be working satisfactorily.,The patient tolerated the procedure well and was sent to the ICU for recovery.'"
      ]
     },
     "execution_count": 40,
     "metadata": {},
     "output_type": "execute_result"
    }
   ],
   "source": [
    "text[3]"
   ]
  },
  {
   "cell_type": "code",
   "execution_count": 38,
   "metadata": {},
   "outputs": [],
   "source": [
    "class NER:\n",
    "    def __init__(self, text, classifier):\n",
    "        self.sent = text\n",
    "        self.classifier = classifier\n",
    "        self.preds = []\n",
    "        self.test_words = []\n",
    "        self.test_chars = []\n",
    "        \n",
    "    def build_data(self):\n",
    "        text = tokenize.sent_tokenize(self.sent)\n",
    "        word_tokens = []\n",
    "        char_tokens = []\n",
    "        for sent in text:\n",
    "            words = sent.split()\n",
    "            chars = [list(i) for i in words]\n",
    "            word_tkns = [word2idx.get(i, word2idx[\"UNK\"]) for i in words]\n",
    "            char_tkns = [list(map(lambda x: char2idx.get(x, char2idx[\"UNK\"]), i)) for i in chars]\n",
    "\n",
    "            word_tokens.append(word_tkns)\n",
    "            char_tokens.append(char_tkns)\n",
    "            \n",
    "        self.test_words = pad_sequences(word_tokens, maxlen=MAX_WORD, dtype='int32', padding='post', truncating='post', value= word2idx[\"PAD\"])\n",
    "        test_chars = [pad_sequences(x, maxlen = MAX_CHAR, dtype = 'int32', padding = 'post', truncating = 'post', value= char2idx[\"PAD\"]) for x in char_tokens]\n",
    "        self.test_chars = pad_sequences(test_chars, maxlen = MAX_WORD, padding = 'post', value = [0]*MAX_CHAR)\n",
    "        \n",
    "        return self.test_words, self.test_chars\n",
    "    \n",
    "    def predict(self):\n",
    "        if self.test_words == []:\n",
    "            self.build_data()\n",
    "        self.preds = model.predict([self.test_words, self.test_chars])\n",
    "        \n",
    "        return self.preds\n",
    "    \n",
    "    def pretty_print(self):\n",
    "        if self.preds == []:\n",
    "            self.predict()\n",
    "        preds = self.preds\n",
    "        text = tokenize.sent_tokenize(self.sent)\n",
    "        for x in range(len(preds)):\n",
    "            tag_preds = np.argmax(preds[x], axis=-1) if self.classifier != \"crf\" else preds[x]\n",
    "            test_sent = self.test_words[x]\n",
    "            true_words = text[x].split()\n",
    "            for i, (word, tag) in enumerate(zip(test_sent, tag_preds)):\n",
    "                if word != 0:\n",
    "                    if tag != 0:\n",
    "                        output = colored(true_words[i], color='green', on_color='on_grey')\n",
    "                    else:\n",
    "                        output = true_words[i]\n",
    "\n",
    "                    print(output, end = \" \")"
   ]
  },
  {
   "cell_type": "code",
   "execution_count": 39,
   "metadata": {},
   "outputs": [
    {
     "name": "stdout",
     "output_type": "stream",
     "text": [
      "PREOPERATIVE \u001b[40m\u001b[32mDIAGNOSES,1.\u001b[0m Open wound from right axilla to abdomen with a \u001b[40m\u001b[32mprosthetic\u001b[0m \u001b[40m\u001b[32mvascular\u001b[0m \u001b[40m\u001b[32mgraft,\u001b[0m possibly \u001b[40m\u001b[32minfected.,2.\u001b[0m \u001b[40m\u001b[32mDiabetes.,3.\u001b[0m Peripheral \u001b[40m\u001b[32mvascular\u001b[0m \u001b[40m\u001b[32mdisease.,POSTOPERATIVE\u001b[0m \u001b[40m\u001b[32mDIAGNOSES,1.\u001b[0m Open wound from right axilla to abdomen with a \u001b[40m\u001b[32mprosthetic\u001b[0m \u001b[40m\u001b[32mvascular\u001b[0m \u001b[40m\u001b[32mgraft,\u001b[0m possibly \u001b[40m\u001b[32minfected.,2.\u001b[0m \u001b[40m\u001b[32mDiabetes.,3.\u001b[0m Peripheral \u001b[40m\u001b[32mvascular\u001b[0m \u001b[40m\u001b[32mdisease.,OPERATIONS,1.\u001b[0m Wound debridement with removal of \u001b[40m\u001b[32mSurgisis\u001b[0m \u001b[40m\u001b[32mxenograft\u001b[0m and debridement of \u001b[40m\u001b[32mskin\u001b[0m and \u001b[40m\u001b[32msubcutaneous\u001b[0m \u001b[40m\u001b[32mtissue.,2.\u001b[0m Secondary closure of \u001b[40m\u001b[32mwound,\u001b[0m \u001b[40m\u001b[32mcomplicated.,3.\u001b[0m VAC \u001b[40m\u001b[32minsertion.,DESCRIPTION\u001b[0m OF PROCEDURE:, After obtaining an informed consent, the patient was brought to the operating room where a general anesthetic was given. A time-out process was followed. All the staples holding the xenograft were removed as well as all the dressings and the area was prepped with Betadine soap and then painted with Betadine solution and draped in usual fashion.,The xenograft was not adhered at all and was easily removed. There was some, what appeared to be a seropurulent exudate at the bottom of the incision. This was towards the abdominal end, under the xenograft.,The graft was fully exposed and it was pulsatile. We then proceeded to use a pulse spray with bacitracin clindamycin solution to clean up the graft. A few areas of necrotic \u001b[40m\u001b[32mskin\u001b[0m and subcutaneous tissue were debrided. Prior to this, samples were taken for aerobic and anaerobic cultures.,Normal saline 3000 cc was used for the irrigation and at the end of that the wound appeared much cleaner and we proceeded to insert the sponges to put a VAC system to it. There was a separate incision, which was bridged __________ to the incision of the abdomen, which we also put a sponge in it after irrigating it and we put the VAC in the main wound and we created a bridge to the second and more minor wound. Prior to that, I had inserted a number of Vesseloops through the edges of the skin and I proceeded to approximate those on top of the \u001b[40m\u001b[32mVAC\u001b[0m \u001b[40m\u001b[32msponge.\u001b[0m Multiple layers were applied to seal the system, which was suctioned and appeared to be working satisfactorily.,The patient tolerated the procedure well and was sent to the ICU for recovery. "
     ]
    }
   ],
   "source": [
    "n = NER(text[3], classifier)\n",
    "n.pretty_print()"
   ]
  },
  {
   "cell_type": "code",
   "execution_count": null,
   "metadata": {},
   "outputs": [],
   "source": []
  }
 ],
 "metadata": {
  "kernelspec": {
   "display_name": "Python 3",
   "language": "python",
   "name": "python3"
  },
  "language_info": {
   "codemirror_mode": {
    "name": "ipython",
    "version": 3
   },
   "file_extension": ".py",
   "mimetype": "text/x-python",
   "name": "python",
   "nbconvert_exporter": "python",
   "pygments_lexer": "ipython3",
   "version": "3.7.4"
  }
 },
 "nbformat": 4,
 "nbformat_minor": 2
}
